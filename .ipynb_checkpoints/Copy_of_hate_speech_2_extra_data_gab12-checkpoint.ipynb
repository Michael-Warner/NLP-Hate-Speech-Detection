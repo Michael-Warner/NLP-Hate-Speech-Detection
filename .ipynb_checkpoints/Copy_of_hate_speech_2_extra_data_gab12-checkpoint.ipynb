{
 "cells": [
  {
   "cell_type": "code",
   "execution_count": 1,
   "execution_count": 2,
    "id": "E0dwO9-clWJm"
   },
   "outputs": [],
   "source": [
    "import pandas as pd\n",
    "import numpy as np\n",
    "import re\n",
    "import nltk\n",
    "import seaborn as sns\n",
    "import matplotlib.pyplot as plt\n",
    "from nltk.probability import FreqDist\n",
    "from nltk.stem import WordNetLemmatizer\n",
    "from sklearn.feature_extraction.text import CountVectorizer\n",
    "from sklearn.feature_extraction.text import TfidfVectorizer\n",
    "from sklearn.linear_model import LogisticRegression\n",
    "from sklearn.ensemble import RandomForestClassifier\n",
    "from sklearn.naive_bayes import MultinomialNB\n",
    "from sklearn.model_selection import train_test_split, GridSearchCV\n",
    "from nltk.tokenize import RegexpTokenizer\n",
    "from nltk.corpus import stopwords\n",
    "from sklearn.metrics import accuracy_score, precision_score, recall_score, f1_score, make_scorer, confusion_matrix, plot_confusion_matrix, roc_curve, auc, classification_report\n",
    "from sklearn import svm\n",
    "from imblearn.over_sampling import SMOTE\n",
    "\n",
    "\n",
    "\n",
    "import warnings\n",
    "warnings.filterwarnings(\"ignore\")"
   ]
  },
  {
   "cell_type": "code",
   "execution_count": 3,
   "metadata": {
    "colab": {
     "base_uri": "https://localhost:8080/"
    },
    "id": "dw2SHX26lWKL",
    "outputId": "b3b37460-e280-4a9c-b345-2ad5d4a8256b"
   },
   "outputs": [
    {
     "name": "stderr",
     "output_type": "stream",
     "text": [
      "[nltk_data] Downloading package stopwords to\n",
      "[nltk_data]     C:\\Users\\suki9\\AppData\\Roaming\\nltk_data...\n",
      "[nltk_data]   Package stopwords is already up-to-date!\n",
      "[nltk_data] Downloading package punkt to\n",
      "[nltk_data]     C:\\Users\\suki9\\AppData\\Roaming\\nltk_data...\n",
      "[nltk_data]   Package punkt is already up-to-date!\n",
      "[nltk_data] Downloading package wordnet to\n",
      "[nltk_data]     C:\\Users\\suki9\\AppData\\Roaming\\nltk_data...\n",
      "[nltk_data]   Package wordnet is already up-to-date!\n"
     ]
    },
    {
     "data": {
      "text/plain": [
       "True"
      ]
     },
     "execution_count": 3,
     "metadata": {},
     "output_type": "execute_result"
    }
   ],
   "source": [
    "nltk.download('stopwords')\n",
    "nltk.download('punkt')\n",
    "nltk.download('wordnet')"
   ]
  },
  {
   "cell_type": "code",
   "execution_count": 3,
   "execution_count": null,
   "metadata": {
    "colab": {
     "base_uri": "https://localhost:8080/"
    },
    "id": "SceD8E0jlykG",
    "outputId": "2c72c7cf-2a7b-4955-805a-f0e3229138d9"
   },
   "outputs": [
    {
     "name": "stdout",
     "output_type": "stream",
     "text": [
      "Mounted at /gdrive\n"
     ]
    }
   ],
   "source": [
    "from google.colab import drive\n",
    "drive.mount('/gdrive')"
   ]
  },
  {
   "cell_type": "code",
   "execution_count": 4,
   "metadata": {
    "id": "jA_J3Td9lWKR"
   },
   "outputs": [],
   "source": [
    "# Import data\n",
    "\n",
    "data = pd.read_csv('Dataset1_labeled_data.csv')"
   ]
  },
  {
   "cell_type": "code",
   "execution_count": 4,
   "metadata": {
    "id": "jFYkpK48lWKS"
   },

   "execution_count": 5,
   "metadata": {},
   "outputs": [],
   "source": [
    "df1 = pd.read_csv('twitter_hate_speench_cleaned.csv')"
   ]
  },
  {
   "cell_type": "code",
   "execution_count": 6,
   "metadata": {
    "id": "OOZlM_H6XGLD"
   },
   "outputs": [],
   "source": [
    "gab = pd.read_csv('gab.csv')"
   ]
  },
  {
   "cell_type": "code",
   "execution_count": 6,
   "execution_count": 7,
    "metadata": {
    "colab": {
     "base_uri": "https://localhost:8080/",
     "height": 195
    },
    "id": "3rf-Gc03lWKT",
    "outputId": "1a85b601-7c9e-43d7-8e79-67460bc0363e"
   },
   "outputs": [
    {
     "data": {
      "text/html": [
       "<div>\n",
       "<style scoped>\n",
       "    .dataframe tbody tr th:only-of-type {\n",
       "        vertical-align: middle;\n",
       "    }\n",
       "\n",
       "    .dataframe tbody tr th {\n",
       "        vertical-align: top;\n",
       "    }\n",
       "\n",
       "    .dataframe thead th {\n",
       "        text-align: right;\n",
       "    }\n",
       "</style>\n",
       "<table border=\"1\" class=\"dataframe\">\n",
       "  <thead>\n",
       "    <tr style=\"text-align: right;\">\n",
       "      <th></th>\n",
       "      <th>Unnamed: 0</th>\n",
       "      <th>count</th>\n",
       "      <th>hate_speech</th>\n",
       "      <th>offensive_language</th>\n",
       "      <th>neither</th>\n",
       "      <th>class</th>\n",
       "      <th>tweet</th>\n",
       "    </tr>\n",
       "  </thead>\n",
       "  <tbody>\n",
       "    <tr>\n",
       "      <th>0</th>\n",
       "      <td>0</td>\n",
       "      <td>3</td>\n",
       "      <td>0</td>\n",
       "      <td>0</td>\n",
       "      <td>3</td>\n",
       "      <td>2</td>\n",
       "      <td>!!! RT @mayasolovely: As a woman you shouldn't...</td>\n",
       "    </tr>\n",
       "    <tr>\n",
       "      <th>1</th>\n",
       "      <td>1</td>\n",
       "      <td>3</td>\n",
       "      <td>0</td>\n",
       "      <td>3</td>\n",
       "      <td>0</td>\n",
       "      <td>1</td>\n",
       "      <td>!!!!! RT @mleew17: boy dats cold...tyga dwn ba...</td>\n",
       "    </tr>\n",
       "    <tr>\n",
       "      <th>2</th>\n",
       "      <td>2</td>\n",
       "      <td>3</td>\n",
       "      <td>0</td>\n",
       "      <td>3</td>\n",
       "      <td>0</td>\n",
       "      <td>1</td>\n",
       "      <td>!!!!!!! RT @UrKindOfBrand Dawg!!!! RT @80sbaby...</td>\n",
       "    </tr>\n",
       "    <tr>\n",
       "      <th>3</th>\n",
       "      <td>3</td>\n",
       "      <td>3</td>\n",
       "      <td>0</td>\n",
       "      <td>2</td>\n",
       "      <td>1</td>\n",
       "      <td>1</td>\n",
       "      <td>!!!!!!!!! RT @C_G_Anderson: @viva_based she lo...</td>\n",
       "    </tr>\n",
       "    <tr>\n",
       "      <th>4</th>\n",
       "      <td>4</td>\n",
       "      <td>6</td>\n",
       "      <td>0</td>\n",
       "      <td>6</td>\n",
       "      <td>0</td>\n",
       "      <td>1</td>\n",
       "      <td>!!!!!!!!!!!!! RT @ShenikaRoberts: The shit you...</td>\n",
       "    </tr>\n",
       "  </tbody>\n",
       "</table>\n",
       "</div>"
      ],
      "text/plain": [
       "   Unnamed: 0  count  hate_speech  offensive_language  neither  class  \\\n",
       "0           0      3            0                   0        3      2   \n",
       "1           1      3            0                   3        0      1   \n",
       "2           2      3            0                   3        0      1   \n",
       "3           3      3            0                   2        1      1   \n",
       "4           4      6            0                   6        0      1   \n",
       "\n",
       "                                               tweet  \n",
       "0  !!! RT @mayasolovely: As a woman you shouldn't...  \n",
       "1  !!!!! RT @mleew17: boy dats cold...tyga dwn ba...  \n",
       "2  !!!!!!! RT @UrKindOfBrand Dawg!!!! RT @80sbaby...  \n",
       "3  !!!!!!!!! RT @C_G_Anderson: @viva_based she lo...  \n",
       "4  !!!!!!!!!!!!! RT @ShenikaRoberts: The shit you...  "
      ]
     },
  "execution_count": 6,

     "execution_count": 7,
     "metadata": {},
     "output_type": "execute_result"
    }
   ],
   "source": [
    "# hate speech: 0\n",
    "# offensive language: 1\n",
    "# neither: 2\n",
    "\n",
    "data.head()"
   ]
  },
  {
   "cell_type": "code",
   "execution_count": 7,

   "execution_count": 8,
   "metadata": {
    "colab": {
     "base_uri": "https://localhost:8080/"
    },
    "id": "mR3UGFzGlWKV",
    "outputId": "cc676c0f-f266-4824-8ae4-262a297df756"
   },
   "outputs": [
    {
     "data": {
      "text/plain": [
       "Unnamed: 0            0\n",
       "count                 0\n",
       "hate_speech           0\n",
       "offensive_language    0\n",
       "neither               0\n",
       "class                 0\n",
       "tweet                 0\n",
       "dtype: int64"
      ]
     },
     "execution_count": 7,

     "execution_count": 8,
     "metadata": {},
     "output_type": "execute_result"
    }
   ],
   "source": [
    "# Check for NaN values:\n",
    "data.isnull().sum()"
   ]
  },
  {
   "cell_type": "code",
   "execution_count": 8,
   "execution_count": 9,
   "metadata": {
    "colab": {
     "base_uri": "https://localhost:8080/"
    },
    "id": "rPDT7t7clWKW",
    "outputId": "86b05ba7-5f6b-4270-9d1d-bc7bd0dc6cd8",
    "scrolled": true
   },
   "outputs": [
    {
     "name": "stdout",
     "output_type": "stream",
     "text": [
      "24783 rows with 7 columns\n"
     ]
    }
   ],
   "source": [
    "# Size of dataset\n",
    "\n",
    "data.shape\n",
    "print('{} rows with {} columns'.format(data.shape[0],data.shape[1]))"
   ]
  },
  {
   "cell_type": "code",
   "execution_count": 9,
   "execution_count": 10,
   "metadata": {
    "colab": {
     "base_uri": "https://localhost:8080/"
    },
    "id": "dlMZjWaPlWKY",
    "outputId": "7af16aaf-2cb5-4e20-c9b8-a617c1774e26"
   },
   "outputs": [
    {
     "data": {
      "text/plain": [
       "1    19190\n",
       "2     4163\n",
       "0     1430\n",
       "Name: class, dtype: int64"
      ]
     },
<<<<<<< HEAD:Copy_of_hate_speech_2_extra_data_gab12.ipynb
     "execution_count": 9,
=======
     "execution_count": 10,
>>>>>>> 7d11325816e9bbf2476260ae35eef9704214c307:.ipynb_checkpoints/Copy_of_hate_speech_2_extra_data_gab12-checkpoint.ipynb
     "metadata": {},
     "output_type": "execute_result"
    }
   ],
   "source": [
    "# Distribution of Class\n",
    "data['class'].value_counts()"
   ]
  },
  {
   "cell_type": "code",
<<<<<<< HEAD:Copy_of_hate_speech_2_extra_data_gab12.ipynb
   "execution_count": 10,
=======
   "execution_count": 11,
>>>>>>> 7d11325816e9bbf2476260ae35eef9704214c307:.ipynb_checkpoints/Copy_of_hate_speech_2_extra_data_gab12-checkpoint.ipynb
   "metadata": {
    "colab": {
     "base_uri": "https://localhost:8080/"
    },
    "id": "QmUaSf3ilWKZ",
    "outputId": "64e1b687-ad09-4677-fca2-f3843a1479a6",
    "scrolled": true
   },
   "outputs": [
    {
     "name": "stdout",
     "output_type": "stream",
     "text": [
      "hate speech:\n",
      "    Total: 24783\n",
      "    hate: 1430 (5.77% of total)\n",
      "\n",
      "offensive speech:\n",
      "    Total: 24783\n",
      "    Offensive: 19190 (77.43% of total)\n",
      "\n",
      "neither:\n",
      "    Total: 24783\n",
      "    Neither: 4163 (16.80% of total)\n",
      "\n"
     ]
    }
   ],
   "source": [
    "hate, offensive, neither = np.bincount(data['class'])\n",
    "total = hate + offensive + neither\n",
    "print(f'hate speech:\\n    Total: {total}\\n    hate: {hate} ({(100 * hate / total):.2f}% of total)\\n')\n",
    "print(f'offensive speech:\\n    Total: {total}\\n    Offensive: {offensive} ({(100 * offensive / total):.2f}% of total)\\n')\n",
    "print(f'neither:\\n    Total: {total}\\n    Neither: {neither} ({(100 * neither / total):.2f}% of total)\\n')"
   ]
  },
  {
   "cell_type": "markdown",
   "metadata": {
    "id": "QQUrw3G5lWKb"
   },
   "source": [
    "We have imbalanced dataset"
   ]
  },
  {
   "cell_type": "code",
<<<<<<< HEAD:Copy_of_hate_speech_2_extra_data_gab12.ipynb
   "execution_count": 11,
=======
   "execution_count": 12,
>>>>>>> 7d11325816e9bbf2476260ae35eef9704214c307:.ipynb_checkpoints/Copy_of_hate_speech_2_extra_data_gab12-checkpoint.ipynb
   "metadata": {
    "colab": {
     "base_uri": "https://localhost:8080/",
     "height": 402
    },
    "id": "Ad1Wm9gQlWKi",
    "outputId": "057c7b82-b11d-409f-b4cf-ca7ffcb803a2"
   },
   "outputs": [
    {
     "data": {
      "text/html": [
       "<div>\n",
       "<style scoped>\n",
       "    .dataframe tbody tr th:only-of-type {\n",
       "        vertical-align: middle;\n",
       "    }\n",
       "\n",
       "    .dataframe tbody tr th {\n",
       "        vertical-align: top;\n",
       "    }\n",
       "\n",
       "    .dataframe thead th {\n",
       "        text-align: right;\n",
       "    }\n",
       "</style>\n",
       "<table border=\"1\" class=\"dataframe\">\n",
       "  <thead>\n",
       "    <tr style=\"text-align: right;\">\n",
       "      <th></th>\n",
       "      <th>label</th>\n",
       "      <th>tweet</th>\n",
       "    </tr>\n",
       "  </thead>\n",
       "  <tbody>\n",
       "    <tr>\n",
       "      <th>0</th>\n",
       "      <td>1</td>\n",
       "      <td>@user #cnn calls #michigan middle school 'buil...</td>\n",
       "    </tr>\n",
       "    <tr>\n",
       "      <th>1</th>\n",
       "      <td>1</td>\n",
       "      <td>@user @user lumpy says i am a . prove it lumpy.</td>\n",
       "    </tr>\n",
       "    <tr>\n",
       "      <th>2</th>\n",
       "      <td>1</td>\n",
       "      <td>it's unbelievable that in the 21st century we'...</td>\n",
       "    </tr>\n",
       "    <tr>\n",
       "      <th>3</th>\n",
       "      <td>1</td>\n",
       "      <td>@user lets fight against  #love #peace</td>\n",
       "    </tr>\n",
       "    <tr>\n",
       "      <th>4</th>\n",
       "      <td>1</td>\n",
       "      <td>ð©the white establishment can't have blk fol...</td>\n",
       "    </tr>\n",
       "    <tr>\n",
       "      <th>...</th>\n",
       "      <td>...</td>\n",
       "      <td>...</td>\n",
       "    </tr>\n",
       "    <tr>\n",
       "      <th>2230</th>\n",
       "      <td>1</td>\n",
       "      <td>lady banned from kentucky mall. @user  #jcpenn...</td>\n",
       "    </tr>\n",
       "    <tr>\n",
       "      <th>2231</th>\n",
       "      <td>1</td>\n",
       "      <td>@user omfg i'm offended! i'm a  mailbox and i'...</td>\n",
       "    </tr>\n",
       "    <tr>\n",
       "      <th>2232</th>\n",
       "      <td>1</td>\n",
       "      <td>@user @user you don't have the balls to hashta...</td>\n",
       "    </tr>\n",
       "    <tr>\n",
       "      <th>2233</th>\n",
       "      <td>1</td>\n",
       "      <td>makes you ask yourself, who am i? then am i a...</td>\n",
       "    </tr>\n",
       "    <tr>\n",
       "      <th>2234</th>\n",
       "      <td>1</td>\n",
       "      <td>@user #sikh #temple vandalised in in #calgary,...</td>\n",
       "    </tr>\n",
       "  </tbody>\n",
       "</table>\n",
       "<p>2179 rows × 2 columns</p>\n",
       "</div>"
      ],
      "text/plain": [
       "      label                                              tweet\n",
       "0         1  @user #cnn calls #michigan middle school 'buil...\n",
       "1         1    @user @user lumpy says i am a . prove it lumpy.\n",
       "2         1  it's unbelievable that in the 21st century we'...\n",
       "3         1            @user lets fight against  #love #peace \n",
       "4         1  ð©the white establishment can't have blk fol...\n",
       "...     ...                                                ...\n",
       "2230      1  lady banned from kentucky mall. @user  #jcpenn...\n",
       "2231      1  @user omfg i'm offended! i'm a  mailbox and i'...\n",
       "2232      1  @user @user you don't have the balls to hashta...\n",
       "2233      1   makes you ask yourself, who am i? then am i a...\n",
       "2234      1  @user #sikh #temple vandalised in in #calgary,...\n",
       "\n",
       "[2179 rows x 2 columns]"
      ]
     },
  "execution_count": 11,

     "execution_count": 12,
     "metadata": {},
     "output_type": "execute_result"
    }
   ],
   "source": [
    "df1 = df1[df1['label']==1][['label','tweet']]\n",
    "df1\n"
   ]
  },
  {
   "cell_type": "code",
   "execution_count": 12,
   "metadata": {
    "colab": {
     "base_uri": "https://localhost:8080/",
     "height": 402
    },
    "id": "PSuwegKeXWe_",
    "outputId": "3beeccdc-2326-43ac-9dd8-5aaab253fccc"
   },
   "outputs": [
    {
     "data": {
      "text/html": [
       "<div>\n",
       "<style scoped>\n",
       "    .dataframe tbody tr th:only-of-type {\n",
       "        vertical-align: middle;\n",
       "    }\n",
       "\n",
       "    .dataframe tbody tr th {\n",
       "        vertical-align: top;\n",
       "    }\n",
       "\n",
       "    .dataframe thead th {\n",
       "        text-align: right;\n",
       "    }\n",
       "</style>\n",
       "<table border=\"1\" class=\"dataframe\">\n",
       "  <thead>\n",
       "    <tr style=\"text-align: right;\">\n",
       "      <th></th>\n",
       "      <th>hate_speech_idx</th>\n",
       "      <th>text</th>\n",
       "    </tr>\n",
       "  </thead>\n",
       "  <tbody>\n",
       "    <tr>\n",
       "      <th>0</th>\n",
       "      <td>[1]</td>\n",
       "      <td>1. i joined gab to remind myself how retarded ...</td>\n",
       "    </tr>\n",
       "    <tr>\n",
       "      <th>2</th>\n",
       "      <td>[2]</td>\n",
       "      <td>1. It makes you an asshole.\\n2. \\tGive it to a...</td>\n",
       "    </tr>\n",
       "    <tr>\n",
       "      <th>3</th>\n",
       "      <td>[2]</td>\n",
       "      <td>1. So they manage to provide a whole lot of da...</td>\n",
       "    </tr>\n",
       "    <tr>\n",
       "      <th>5</th>\n",
       "      <td>[1]</td>\n",
       "      <td>1. you sound like a faggot \\n</td>\n",
       "    </tr>\n",
       "    <tr>\n",
       "      <th>7</th>\n",
       "      <td>[2]</td>\n",
       "      <td>1. Well, you are the fuckers that lit the matc...</td>\n",
       "    </tr>\n",
       "    <tr>\n",
       "      <th>...</th>\n",
       "      <td>...</td>\n",
       "      <td>...</td>\n",
       "    </tr>\n",
       "    <tr>\n",
       "      <th>11818</th>\n",
       "      <td>[2]</td>\n",
       "      <td>1. A \"touching\" picture of Chelsea Handler and...</td>\n",
       "    </tr>\n",
       "    <tr>\n",
       "      <th>11819</th>\n",
       "      <td>[1]</td>\n",
       "      <td>1. Only a Demorat cocksucking pussy hating fag...</td>\n",
       "    </tr>\n",
       "    <tr>\n",
       "      <th>11820</th>\n",
       "      <td>[2]</td>\n",
       "      <td>1. Remember this 3 months ago? The intern that...</td>\n",
       "    </tr>\n",
       "    <tr>\n",
       "      <th>11821</th>\n",
       "      <td>[2]</td>\n",
       "      <td>1. #Sweden's four major dailies aftonbladet.se...</td>\n",
       "    </tr>\n",
       "    <tr>\n",
       "      <th>11824</th>\n",
       "      <td>[1]</td>\n",
       "      <td>1. How absolutely unbelievably fascinating? A ...</td>\n",
       "    </tr>\n",
       "  </tbody>\n",
       "</table>\n",
       "<p>7363 rows × 2 columns</p>\n",
       "</div>"
      ],
      "text/plain": [
       "      hate_speech_idx                                               text\n",
       "0                 [1]  1. i joined gab to remind myself how retarded ...\n",
       "2                 [2]  1. It makes you an asshole.\\n2. \\tGive it to a...\n",
       "3                 [2]  1. So they manage to provide a whole lot of da...\n",
       "5                 [1]                      1. you sound like a faggot \\n\n",
       "7                 [2]  1. Well, you are the fuckers that lit the matc...\n",
       "...               ...                                                ...\n",
       "11818             [2]  1. A \"touching\" picture of Chelsea Handler and...\n",
       "11819             [1]  1. Only a Demorat cocksucking pussy hating fag...\n",
       "11820             [2]  1. Remember this 3 months ago? The intern that...\n",
       "11821             [2]  1. #Sweden's four major dailies aftonbladet.se...\n",
       "11824             [1]  1. How absolutely unbelievably fascinating? A ...\n",
       "\n",
       "[7363 rows x 2 columns]"
      ]
     },

     "execution_count": 12,

     "execution_count": 13,
     "metadata": {},
     "output_type": "execute_result"
    }
   ],
   "source": [
    "gab = gab[(gab['hate_speech_idx']=='[1]') | (gab['hate_speech_idx']=='[2]')][['hate_speech_idx','text']]\n",
    "gab"
   ]
  },
  {
   "cell_type": "code",

   "execution_count": 13,

   "execution_count": 14,

   "metadata": {
    "colab": {
     "base_uri": "https://localhost:8080/"
    },
    "id": "SfNpMONGlWKy",
    "outputId": "77ae8d86-062c-40f6-a593-60f8546f3ee5"
   },
   "outputs": [
    {
     "data": {
      "text/plain": [
       "6484"
      ]
     },

     "execution_count": 13,

     "execution_count": 14,

     "metadata": {},
     "output_type": "execute_result"
    }
   ],
   "source": [
    "# Make a new column to highlight retweets\n",
    "data['is_retweet'] = data['tweet'].apply(lambda x: x[:2]=='RT')\n",
    "data['is_retweet'].sum()  # number of retweets"
   ]
  },
  {
   "cell_type": "code",
   "execution_count": 14,

   "execution_count": 15,

   "metadata": {
    "colab": {
     "base_uri": "https://localhost:8080/"
    },
    "id": "mVWQK-_JlWK1",
    "outputId": "00bbec87-8af6-436e-eee4-a0fa6e94d2a9"
   },
   "outputs": [
    {
     "data": {
      "text/plain": [
       "6484"
      ]
     },

     "execution_count": 14,
     "execution_count": 15,
     "metadata": {},
     "output_type": "execute_result"
    }
   ],
   "source": [
    "# number of unique retweets\n",
    "data.loc[data['is_retweet']].tweet.unique().size"
   ]
  },
  {
   "cell_type": "markdown",
   "metadata": {
    "id": "N8ChKaxVlWK7"
   },
   "source": [
    "### Extracting substrings (@, #)"
   ]
  },
  {
   "cell_type": "code",
   "execution_count": 15,
   "execution_count": 16,
   "metadata": {
    "id": "monvv8i2lWK8"
   },
   "outputs": [],
   "source": [
    "# Who is being retweeted?\n",
    "# Who is being tweeted at/mentioned?\n",
    "# What hashtags are being used?\n",
    "\n",
    "# Create functions\n",
    "\n",
    "def find_retweeted(tweet):\n",
    "    '''This function will extract the twitter handles of retweed people'''\n",
    "    return re.findall('(?<=RT\\s)(@[A-Za-z]+[A-Za-z0-9-_]+)', tweet)\n",
    "\n",
    "def find_mentioned(tweet):\n",
    "    '''This function will extract the twitter handles of people mentioned in the tweet'''\n",
    "    return re.findall('(?<!RT\\s)(@[A-Za-z]+[A-Za-z0-9-_]+)', tweet)  \n",
    "\n",
    "def find_hashtags(tweet):\n",
    "    '''This function will extract hashtags'''\n",
    "    return re.findall('(#[A-Za-z]+[A-Za-z0-9-_]+)', tweet)   "
   ]
  },
  {
   "cell_type": "code",
   "execution_count": 16,
   "metadata": {
    "id": "4NzGrIzilWK9"
   },
   "outputs": [],
   "source": [
    "# Make new columns for retweeted usernames, mentioned usernames and hashtags\n",
    "\n",
    "data['retweeted'] = data.tweet.apply(find_retweeted)\n",
    "data['mentioned'] = data.tweet.apply(find_mentioned)\n",
    "data['hashtags'] = data.tweet.apply(find_hashtags)"
   ]
  },
  {
   "cell_type": "code",
   "execution_count": 17,
   "metadata": {
    "colab": {
     "base_uri": "https://localhost:8080/",
     "height": 467
    },
    "id": "JGKo7g-SlWK-",
    "outputId": "bdc1ed31-b156-43b5-82aa-0c102387f3c2"
   },
   "outputs": [
    {
     "data": {
      "text/html": [
       "<div>\n",
       "<style scoped>\n",
       "    .dataframe tbody tr th:only-of-type {\n",
       "        vertical-align: middle;\n",
       "    }\n",
       "\n",
       "    .dataframe tbody tr th {\n",
       "        vertical-align: top;\n",
       "    }\n",
       "\n",
       "    .dataframe thead th {\n",
       "        text-align: right;\n",
       "    }\n",
       "</style>\n",
       "<table border=\"1\" class=\"dataframe\">\n",
       "  <thead>\n",
       "    <tr style=\"text-align: right;\">\n",
       "      <th></th>\n",
       "      <th>Unnamed: 0</th>\n",
       "      <th>count</th>\n",
       "      <th>hate_speech</th>\n",
       "      <th>offensive_language</th>\n",
       "      <th>neither</th>\n",
       "      <th>class</th>\n",
       "      <th>tweet</th>\n",
       "      <th>is_retweet</th>\n",
       "      <th>retweeted</th>\n",
       "      <th>mentioned</th>\n",
       "      <th>hashtags</th>\n",
       "    </tr>\n",
       "  </thead>\n",
       "  <tbody>\n",
       "    <tr>\n",
       "      <th>0</th>\n",
       "      <td>0</td>\n",
       "      <td>3</td>\n",
       "      <td>0</td>\n",
       "      <td>0</td>\n",
       "      <td>3</td>\n",
       "      <td>2</td>\n",
       "      <td>!!! RT @mayasolovely: As a woman you shouldn't...</td>\n",
       "      <td>False</td>\n",
       "      <td>[@mayasolovely]</td>\n",
       "      <td>[]</td>\n",
       "      <td>[]</td>\n",
       "    </tr>\n",
       "    <tr>\n",
       "      <th>1</th>\n",
       "      <td>1</td>\n",
       "      <td>3</td>\n",
       "      <td>0</td>\n",
       "      <td>3</td>\n",
       "      <td>0</td>\n",
       "      <td>1</td>\n",
       "      <td>!!!!! RT @mleew17: boy dats cold...tyga dwn ba...</td>\n",
       "      <td>False</td>\n",
       "      <td>[@mleew17]</td>\n",
       "      <td>[]</td>\n",
       "      <td>[]</td>\n",
       "    </tr>\n",
       "    <tr>\n",
       "      <th>2</th>\n",
       "      <td>2</td>\n",
       "      <td>3</td>\n",
       "      <td>0</td>\n",
       "      <td>3</td>\n",
       "      <td>0</td>\n",
       "      <td>1</td>\n",
       "      <td>!!!!!!! RT @UrKindOfBrand Dawg!!!! RT @80sbaby...</td>\n",
       "      <td>False</td>\n",
       "      <td>[@UrKindOfBrand]</td>\n",
       "      <td>[]</td>\n",
       "      <td>[]</td>\n",
       "    </tr>\n",
       "    <tr>\n",
       "      <th>3</th>\n",
       "      <td>3</td>\n",
       "      <td>3</td>\n",
       "      <td>0</td>\n",
       "      <td>2</td>\n",
       "      <td>1</td>\n",
       "      <td>1</td>\n",
       "      <td>!!!!!!!!! RT @C_G_Anderson: @viva_based she lo...</td>\n",
       "      <td>False</td>\n",
       "      <td>[@C_G_Anderson]</td>\n",
       "      <td>[@viva_based]</td>\n",
       "      <td>[]</td>\n",
       "    </tr>\n",
       "    <tr>\n",
       "      <th>4</th>\n",
       "      <td>4</td>\n",
       "      <td>6</td>\n",
       "      <td>0</td>\n",
       "      <td>6</td>\n",
       "      <td>0</td>\n",
       "      <td>1</td>\n",
       "      <td>!!!!!!!!!!!!! RT @ShenikaRoberts: The shit you...</td>\n",
       "      <td>False</td>\n",
       "      <td>[@ShenikaRoberts]</td>\n",
       "      <td>[]</td>\n",
       "      <td>[]</td>\n",
       "    </tr>\n",
       "  </tbody>\n",
       "</table>\n",
       "</div>"
      ],
      "text/plain": [
       "   Unnamed: 0  count  hate_speech  offensive_language  neither  class  \\\n",
       "0           0      3            0                   0        3      2   \n",
       "1           1      3            0                   3        0      1   \n",
       "2           2      3            0                   3        0      1   \n",
       "3           3      3            0                   2        1      1   \n",
       "4           4      6            0                   6        0      1   \n",
       "\n",
       "                                               tweet  is_retweet  \\\n",
       "0  !!! RT @mayasolovely: As a woman you shouldn't...       False   \n",
       "1  !!!!! RT @mleew17: boy dats cold...tyga dwn ba...       False   \n",
       "2  !!!!!!! RT @UrKindOfBrand Dawg!!!! RT @80sbaby...       False   \n",
       "3  !!!!!!!!! RT @C_G_Anderson: @viva_based she lo...       False   \n",
       "4  !!!!!!!!!!!!! RT @ShenikaRoberts: The shit you...       False   \n",
       "\n",
       "           retweeted      mentioned hashtags  \n",
       "0    [@mayasolovely]             []       []  \n",
       "1         [@mleew17]             []       []  \n",
       "2   [@UrKindOfBrand]             []       []  \n",
       "3    [@C_G_Anderson]  [@viva_based]       []  \n",
       "4  [@ShenikaRoberts]             []       []  "
      ]
     },
     "execution_count": 17,
     "metadata": {},
     "output_type": "execute_result"
    }
   ],
   "source": [
    "# Have a look at the new columns\n",
    "\n",
    "data.head()"
   ]
  },
  {
   "cell_type": "markdown",
   "metadata": {
    "id": "LnLz_a2ZlWK_"
   },
   "source": [
    "#### What hashtags are being used "
   ]
  },
  {
   "cell_type": "code",
   "execution_count": 45,
   "metadata": {
    "colab": {
     "base_uri": "https://localhost:8080/",
     "height": 195
    },
    "id": "3H0_AO1dlWLB",
    "outputId": "7a5c4a57-bd53-46f8-cc97-1216221a89bb"
   },
   "outputs": [
    {
     "data": {
      "text/html": [
       "<div>\n",
       "<style scoped>\n",
       "    .dataframe tbody tr th:only-of-type {\n",
       "        vertical-align: middle;\n",
       "    }\n",
       "\n",
       "    .dataframe tbody tr th {\n",
       "        vertical-align: top;\n",
       "    }\n",
       "\n",
       "    .dataframe thead th {\n",
       "        text-align: right;\n",
       "    }\n",
       "</style>\n",
       "<table border=\"1\" class=\"dataframe\">\n",
       "  <thead>\n",
       "    <tr style=\"text-align: right;\">\n",
       "      <th></th>\n",
       "      <th>hashtags</th>\n",
       "    </tr>\n",
       "  </thead>\n",
       "  <tbody>\n",
       "    <tr>\n",
       "      <th>37</th>\n",
       "      <td>[#Shots]</td>\n",
       "    </tr>\n",
       "    <tr>\n",
       "      <th>41</th>\n",
       "      <td>[#SevenOne]</td>\n",
       "    </tr>\n",
       "    <tr>\n",
       "      <th>45</th>\n",
       "      <td>[#HappyHumpDay]</td>\n",
       "    </tr>\n",
       "    <tr>\n",
       "      <th>72</th>\n",
       "      <td>[#ahmesehwetness]</td>\n",
       "    </tr>\n",
       "    <tr>\n",
       "      <th>73</th>\n",
       "      <td>[#Eaglesnation, #Eagles]</td>\n",
       "    </tr>\n",
       "  </tbody>\n",
       "</table>\n",
       "</div>"
      ],
      "text/plain": [
       "                    hashtags\n",
       "37                  [#Shots]\n",
       "41               [#SevenOne]\n",
       "45           [#HappyHumpDay]\n",
       "72         [#ahmesehwetness]\n",
       "73  [#Eaglesnation, #Eagles]"
      ]
     },
     "execution_count": 45,
     "metadata": {
      "tags": []
     },
     "output_type": "execute_result"
    }
   ],
   "source": [
    "# Take the rows from the hashtag columns where there are actually hashtags\n",
    "\n",
    "hashtags_list_data = data.loc[\n",
    "                       data.hashtags.apply(\n",
    "                           lambda hashtags_list: hashtags_list !=[]\n",
    "                       ),['hashtags']]\n",
    "hashtags_list_data.head()"
   ]
  },
  {
   "cell_type": "code",
   "execution_count": 46,
   "metadata": {
    "colab": {
     "base_uri": "https://localhost:8080/",
     "height": 195
    },
    "id": "R_2HMs8ClWLD",
    "outputId": "e30944e8-e6d9-4f2c-b2ce-af2179183394"
   },
   "outputs": [
    {
     "data": {
      "text/html": [
       "<div>\n",
       "<style scoped>\n",
       "    .dataframe tbody tr th:only-of-type {\n",
       "        vertical-align: middle;\n",
       "    }\n",
       "\n",
       "    .dataframe tbody tr th {\n",
       "        vertical-align: top;\n",
       "    }\n",
       "\n",
       "    .dataframe thead th {\n",
       "        text-align: right;\n",
       "    }\n",
       "</style>\n",
       "<table border=\"1\" class=\"dataframe\">\n",
       "  <thead>\n",
       "    <tr style=\"text-align: right;\">\n",
       "      <th></th>\n",
       "      <th>hashtag</th>\n",
       "    </tr>\n",
       "  </thead>\n",
       "  <tbody>\n",
       "    <tr>\n",
       "      <th>0</th>\n",
       "      <td>#Shots</td>\n",
       "    </tr>\n",
       "    <tr>\n",
       "      <th>1</th>\n",
       "      <td>#SevenOne</td>\n",
       "    </tr>\n",
       "    <tr>\n",
       "      <th>2</th>\n",
       "      <td>#HappyHumpDay</td>\n",
       "    </tr>\n",
       "    <tr>\n",
       "      <th>3</th>\n",
       "      <td>#ahmesehwetness</td>\n",
       "    </tr>\n",
       "    <tr>\n",
       "      <th>4</th>\n",
       "      <td>#Eaglesnation</td>\n",
       "    </tr>\n",
       "  </tbody>\n",
       "</table>\n",
       "</div>"
      ],
      "text/plain": [
       "           hashtag\n",
       "0           #Shots\n",
       "1        #SevenOne\n",
       "2    #HappyHumpDay\n",
       "3  #ahmesehwetness\n",
       "4    #Eaglesnation"
      ]
     },
     "execution_count": 46,
     "metadata": {
      "tags": []
     },
     "output_type": "execute_result"
    }
   ],
   "source": [
    "# Create dataframe where each use of hashtag gets its own row\n",
    "\n",
    "flattened_hashtags_data = pd.DataFrame(\n",
    "    [hashtag for hashtags_list in hashtags_list_data.hashtags\n",
    "    for hashtag in hashtags_list],\n",
    "    columns=['hashtag'])\n",
    "flattened_hashtags_data.head()"
   ]
  },
  {
   "cell_type": "code",
   "execution_count": 47,
   "metadata": {
    "colab": {
     "base_uri": "https://localhost:8080/"
    },
    "id": "cS1NgXG6lWLF",
    "outputId": "fecc0c33-a42b-48f3-c8c5-b414592f8042"
   },
   "outputs": [
    {
     "data": {
      "text/plain": [
       "(3490, 1)"
      ]
     },
     "execution_count": 47,
     "metadata": {
      "tags": []
     },
     "output_type": "execute_result"
    }
   ],
   "source": [
    "flattened_hashtags_data.shape"
   ]
  },
  {
   "cell_type": "code",
   "execution_count": 48,
   "metadata": {
    "colab": {
     "base_uri": "https://localhost:8080/"
    },
    "id": "NMwgoMfplWLG",
    "outputId": "bdab8f73-9951-4c22-c5f4-c98292b4a4c1"
   },
   "outputs": [
    {
     "data": {
      "text/plain": [
       "2251"
      ]
     },
     "execution_count": 48,
     "metadata": {
      "tags": []
     },
     "output_type": "execute_result"
    }
   ],
   "source": [
    "# Number of unique hashtags\n",
    "\n",
    "flattened_hashtags_data['hashtag'].unique().size"
   ]
  },
  {
   "cell_type": "code",
   "execution_count": 49,
   "metadata": {
    "colab": {
     "base_uri": "https://localhost:8080/",
     "height": 343
    },
    "id": "yD0FZqr5lWLH",
    "outputId": "aa032c23-ec05-4782-a370-17e092085b09"
   },
   "outputs": [
    {
     "data": {
      "text/html": [
       "<div>\n",
       "<style scoped>\n",
       "    .dataframe tbody tr th:only-of-type {\n",
       "        vertical-align: middle;\n",
       "    }\n",
       "\n",
       "    .dataframe tbody tr th {\n",
       "        vertical-align: top;\n",
       "    }\n",
       "\n",
       "    .dataframe thead th {\n",
       "        text-align: right;\n",
       "    }\n",
       "</style>\n",
       "<table border=\"1\" class=\"dataframe\">\n",
       "  <thead>\n",
       "    <tr style=\"text-align: right;\">\n",
       "      <th></th>\n",
       "      <th>hashtag</th>\n",
       "      <th>counts</th>\n",
       "    </tr>\n",
       "  </thead>\n",
       "  <tbody>\n",
       "    <tr>\n",
       "      <th>0</th>\n",
       "      <td>#Yankees</td>\n",
       "      <td>94</td>\n",
       "    </tr>\n",
       "    <tr>\n",
       "      <th>1</th>\n",
       "      <td>#iphone</td>\n",
       "      <td>50</td>\n",
       "    </tr>\n",
       "    <tr>\n",
       "      <th>2</th>\n",
       "      <td>#ipad</td>\n",
       "      <td>48</td>\n",
       "    </tr>\n",
       "    <tr>\n",
       "      <th>3</th>\n",
       "      <td>#sex</td>\n",
       "      <td>48</td>\n",
       "    </tr>\n",
       "    <tr>\n",
       "      <th>4</th>\n",
       "      <td>#android</td>\n",
       "      <td>48</td>\n",
       "    </tr>\n",
       "    <tr>\n",
       "      <th>5</th>\n",
       "      <td>#porn</td>\n",
       "      <td>48</td>\n",
       "    </tr>\n",
       "    <tr>\n",
       "      <th>6</th>\n",
       "      <td>#xxx</td>\n",
       "      <td>48</td>\n",
       "    </tr>\n",
       "    <tr>\n",
       "      <th>7</th>\n",
       "      <td>#tcot</td>\n",
       "      <td>41</td>\n",
       "    </tr>\n",
       "    <tr>\n",
       "      <th>8</th>\n",
       "      <td>#hoosiers</td>\n",
       "      <td>23</td>\n",
       "    </tr>\n",
       "    <tr>\n",
       "      <th>9</th>\n",
       "      <td>#morningjoe</td>\n",
       "      <td>22</td>\n",
       "    </tr>\n",
       "  </tbody>\n",
       "</table>\n",
       "</div>"
      ],
      "text/plain": [
       "       hashtag  counts\n",
       "0     #Yankees      94\n",
       "1      #iphone      50\n",
       "2        #ipad      48\n",
       "3         #sex      48\n",
       "4     #android      48\n",
       "5        #porn      48\n",
       "6         #xxx      48\n",
       "7        #tcot      41\n",
       "8    #hoosiers      23\n",
       "9  #morningjoe      22"
      ]
     },
     "execution_count": 49,
     "metadata": {
      "tags": []
     },
     "output_type": "execute_result"
    }
   ],
   "source": [
    "# Count of appearances of each hashtag\n",
    "popular_hashtags = flattened_hashtags_data.groupby('hashtag').size()\\\n",
    "                                        .reset_index(name='counts')\\\n",
    "                                        .sort_values('counts', ascending=False)\\\n",
    "                                        .reset_index(drop=True)\n",
    "popular_hashtags.head(10)"
   ]
  },
  {
   "cell_type": "markdown",
   "metadata": {
    "id": "3sXBr4ShlWLJ"
   },
   "source": [
    "#### Who is being retweeted "
   ]
  },
  {
   "cell_type": "code",
   "execution_count": null,
   "metadata": {
    "colab": {
     "base_uri": "https://localhost:8080/"
    },
    "id": "WoLSUObGlWLJ",
    "outputId": "a58f8dee-65fb-4a56-8884-ef4620e57a8c"
   },
   "outputs": [
    {
     "data": {
      "text/html": [
       "<div>\n",
       "<style scoped>\n",
       "    .dataframe tbody tr th:only-of-type {\n",
       "        vertical-align: middle;\n",
       "    }\n",
       "\n",
       "    .dataframe tbody tr th {\n",
       "        vertical-align: top;\n",
       "    }\n",
       "\n",
       "    .dataframe thead th {\n",
       "        text-align: right;\n",
       "    }\n",
       "</style>\n",
       "<table border=\"1\" class=\"dataframe\">\n",
       "  <thead>\n",
       "    <tr style=\"text-align: right;\">\n",
       "      <th></th>\n",
       "      <th>retweeted</th>\n",
       "    </tr>\n",
       "  </thead>\n",
       "  <tbody>\n",
       "    <tr>\n",
       "      <th>0</th>\n",
       "      <td>[@mayasolovely]</td>\n",
       "    </tr>\n",
       "    <tr>\n",
       "      <th>1</th>\n",
       "      <td>[@mleew17]</td>\n",
       "    </tr>\n",
       "    <tr>\n",
       "      <th>2</th>\n",
       "      <td>[@UrKindOfBrand]</td>\n",
       "    </tr>\n",
       "    <tr>\n",
       "      <th>3</th>\n",
       "      <td>[@C_G_Anderson]</td>\n",
       "    </tr>\n",
       "    <tr>\n",
       "      <th>4</th>\n",
       "      <td>[@ShenikaRoberts]</td>\n",
       "    </tr>\n",
       "  </tbody>\n",
       "</table>\n",
       "</div>"
      ],
      "text/plain": [
       "           retweeted\n",
       "0    [@mayasolovely]\n",
       "1         [@mleew17]\n",
       "2   [@UrKindOfBrand]\n",
       "3    [@C_G_Anderson]\n",
       "4  [@ShenikaRoberts]"
      ]
     },
     "execution_count": 24,
     "metadata": {
      "tags": []
     },
     "output_type": "execute_result"
    }
   ],
   "source": [
    "# Take the rows from the retweeted columns where there are actually hashtags\n",
    "\n",
    "retweeted_list_data = data.loc[\n",
    "                       data.retweeted.apply(\n",
    "                           lambda retweeted_list: retweeted_list !=[]\n",
    "                       ),['retweeted']]\n",
    "retweeted_list_data.head()\n"
   ]
  },
  {
   "cell_type": "code",
   "execution_count": null,
   "metadata": {
    "colab": {
     "base_uri": "https://localhost:8080/"
    },
    "id": "NfsttYiOlWLL",
    "outputId": "fa8206a1-1745-47b9-80c0-8d5705951156"
   },
   "outputs": [
    {
     "data": {
      "text/html": [
       "<div>\n",
       "<style scoped>\n",
       "    .dataframe tbody tr th:only-of-type {\n",
       "        vertical-align: middle;\n",
       "    }\n",
       "\n",
       "    .dataframe tbody tr th {\n",
       "        vertical-align: top;\n",
       "    }\n",
       "\n",
       "    .dataframe thead th {\n",
       "        text-align: right;\n",
       "    }\n",
       "</style>\n",
       "<table border=\"1\" class=\"dataframe\">\n",
       "  <thead>\n",
       "    <tr style=\"text-align: right;\">\n",
       "      <th></th>\n",
       "      <th>retweeted</th>\n",
       "    </tr>\n",
       "  </thead>\n",
       "  <tbody>\n",
       "    <tr>\n",
       "      <th>0</th>\n",
       "      <td>@mayasolovely</td>\n",
       "    </tr>\n",
       "    <tr>\n",
       "      <th>1</th>\n",
       "      <td>@mleew17</td>\n",
       "    </tr>\n",
       "    <tr>\n",
       "      <th>2</th>\n",
       "      <td>@UrKindOfBrand</td>\n",
       "    </tr>\n",
       "    <tr>\n",
       "      <th>3</th>\n",
       "      <td>@C_G_Anderson</td>\n",
       "    </tr>\n",
       "    <tr>\n",
       "      <th>4</th>\n",
       "      <td>@ShenikaRoberts</td>\n",
       "    </tr>\n",
       "  </tbody>\n",
       "</table>\n",
       "</div>"
      ],
      "text/plain": [
       "         retweeted\n",
       "0    @mayasolovely\n",
       "1         @mleew17\n",
       "2   @UrKindOfBrand\n",
       "3    @C_G_Anderson\n",
       "4  @ShenikaRoberts"
      ]
     },
     "execution_count": 25,
     "metadata": {
      "tags": []
     },
     "output_type": "execute_result"
    }
   ],
   "source": [
    "# Create dataframe where each use of retweeted gets its own row\n",
    "\n",
    "flattened_retweeted_data = pd.DataFrame(\n",
    "    [retweeted for retweeted_list in retweeted_list_data.retweeted\n",
    "    for retweeted in retweeted_list],\n",
    "    columns=['retweeted'])\n",
    "flattened_retweeted_data.head()\n"
   ]
  },
  {
   "cell_type": "code",
   "execution_count": null,
   "metadata": {
    "colab": {
     "base_uri": "https://localhost:8080/"
    },
    "id": "ww2dQFJblWLM",
    "outputId": "efdb0289-f00c-41e4-d51c-4c0b5975a0b9"
   },
   "outputs": [
    {
     "data": {
      "text/plain": [
       "(7073, 1)"
      ]
     },
     "execution_count": 26,
     "metadata": {
      "tags": []
     },
     "output_type": "execute_result"
    }
   ],
   "source": [
    "flattened_retweeted_data.shape"
   ]
  },
  {
   "cell_type": "code",
   "execution_count": null,
   "metadata": {
    "colab": {
     "base_uri": "https://localhost:8080/"
    },
    "id": "VEOvdGIJlWLN",
    "outputId": "c47cb2ca-ed25-4166-ea20-4e2ec555ee6a"
   },
   "outputs": [
    {
     "data": {
      "text/plain": [
       "5296"
      ]
     },
     "execution_count": 27,
     "metadata": {
      "tags": []
     },
     "output_type": "execute_result"
    }
   ],
   "source": [
    "# Number of unique retweeted\n",
    "\n",
    "flattened_retweeted_data['retweeted'].unique().size"
   ]
  },
  {
   "cell_type": "code",
   "execution_count": null,
   "metadata": {
    "colab": {
     "base_uri": "https://localhost:8080/"
    },
    "id": "5Z5iqppLlWLO",
    "outputId": "20a93aeb-07c8-4da8-e463-84b4fef7187a"
   },
   "outputs": [
    {
     "data": {
      "text/html": [
       "<div>\n",
       "<style scoped>\n",
       "    .dataframe tbody tr th:only-of-type {\n",
       "        vertical-align: middle;\n",
       "    }\n",
       "\n",
       "    .dataframe tbody tr th {\n",
       "        vertical-align: top;\n",
       "    }\n",
       "\n",
       "    .dataframe thead th {\n",
       "        text-align: right;\n",
       "    }\n",
       "</style>\n",
       "<table border=\"1\" class=\"dataframe\">\n",
       "  <thead>\n",
       "    <tr style=\"text-align: right;\">\n",
       "      <th></th>\n",
       "      <th>retweeted</th>\n",
       "      <th>counts</th>\n",
       "    </tr>\n",
       "  </thead>\n",
       "  <tbody>\n",
       "    <tr>\n",
       "      <th>0</th>\n",
       "      <td>@iDntWearCondoms</td>\n",
       "      <td>25</td>\n",
       "    </tr>\n",
       "    <tr>\n",
       "      <th>1</th>\n",
       "      <td>@Yankees</td>\n",
       "      <td>24</td>\n",
       "    </tr>\n",
       "    <tr>\n",
       "      <th>2</th>\n",
       "      <td>@JoeBudden</td>\n",
       "      <td>23</td>\n",
       "    </tr>\n",
       "    <tr>\n",
       "      <th>3</th>\n",
       "      <td>@CauseWereGuys</td>\n",
       "      <td>22</td>\n",
       "    </tr>\n",
       "    <tr>\n",
       "      <th>4</th>\n",
       "      <td>@KINGTUNCHI_</td>\n",
       "      <td>19</td>\n",
       "    </tr>\n",
       "    <tr>\n",
       "      <th>5</th>\n",
       "      <td>@FriendlyAssh0le</td>\n",
       "      <td>19</td>\n",
       "    </tr>\n",
       "    <tr>\n",
       "      <th>6</th>\n",
       "      <td>@KingHorseDick</td>\n",
       "      <td>19</td>\n",
       "    </tr>\n",
       "    <tr>\n",
       "      <th>7</th>\n",
       "      <td>@FunnyPicsDepot</td>\n",
       "      <td>15</td>\n",
       "    </tr>\n",
       "    <tr>\n",
       "      <th>8</th>\n",
       "      <td>@CuhCuhCuh</td>\n",
       "      <td>15</td>\n",
       "    </tr>\n",
       "    <tr>\n",
       "      <th>9</th>\n",
       "      <td>@SteveStfler</td>\n",
       "      <td>14</td>\n",
       "    </tr>\n",
       "  </tbody>\n",
       "</table>\n",
       "</div>"
      ],
      "text/plain": [
       "          retweeted  counts\n",
       "0  @iDntWearCondoms      25\n",
       "1          @Yankees      24\n",
       "2        @JoeBudden      23\n",
       "3    @CauseWereGuys      22\n",
       "4      @KINGTUNCHI_      19\n",
       "5  @FriendlyAssh0le      19\n",
       "6    @KingHorseDick      19\n",
       "7   @FunnyPicsDepot      15\n",
       "8        @CuhCuhCuh      15\n",
       "9      @SteveStfler      14"
      ]
     },
     "execution_count": 28,
     "metadata": {
      "tags": []
     },
     "output_type": "execute_result"
    }
   ],
   "source": [
    "# Count of appearances of each retweeted\n",
    "popular_retweeted = flattened_retweeted_data.groupby('retweeted').size()\\\n",
    "                                        .reset_index(name='counts')\\\n",
    "                                        .sort_values('counts', ascending=False)\\\n",
    "                                        .reset_index(drop=True)\n",
    "popular_retweeted.head(10)"
   ]
  },
  {
   "cell_type": "markdown",
   "metadata": {
    "id": "DsZuejQQlWLP"
   },
   "source": [
    "#### Who is being tweeted at/mentioned"
   ]
  },
  {
   "cell_type": "code",
   "execution_count": null,
   "metadata": {
    "colab": {
     "base_uri": "https://localhost:8080/"
    },
    "id": "FlUvNUvqlWLQ",
    "outputId": "c37391aa-bc5c-4c05-a09a-e1efc884caae"
   },
   "outputs": [
    {
     "data": {
      "text/html": [
       "<div>\n",
       "<style scoped>\n",
       "    .dataframe tbody tr th:only-of-type {\n",
       "        vertical-align: middle;\n",
       "    }\n",
       "\n",
       "    .dataframe tbody tr th {\n",
       "        vertical-align: top;\n",
       "    }\n",
       "\n",
       "    .dataframe thead th {\n",
       "        text-align: right;\n",
       "    }\n",
       "</style>\n",
       "<table border=\"1\" class=\"dataframe\">\n",
       "  <thead>\n",
       "    <tr style=\"text-align: right;\">\n",
       "      <th></th>\n",
       "      <th>mentioned</th>\n",
       "    </tr>\n",
       "  </thead>\n",
       "  <tbody>\n",
       "    <tr>\n",
       "      <th>3</th>\n",
       "      <td>[@viva_based]</td>\n",
       "    </tr>\n",
       "    <tr>\n",
       "      <th>5</th>\n",
       "      <td>[@T_Madison_x]</td>\n",
       "    </tr>\n",
       "    <tr>\n",
       "      <th>7</th>\n",
       "      <td>[@selfiequeenbri]</td>\n",
       "    </tr>\n",
       "    <tr>\n",
       "      <th>9</th>\n",
       "      <td>[@rhythmixx_]</td>\n",
       "    </tr>\n",
       "    <tr>\n",
       "      <th>52</th>\n",
       "      <td>[@DaRealKha]</td>\n",
       "    </tr>\n",
       "  </tbody>\n",
       "</table>\n",
       "</div>"
      ],
      "text/plain": [
       "            mentioned\n",
       "3       [@viva_based]\n",
       "5      [@T_Madison_x]\n",
       "7   [@selfiequeenbri]\n",
       "9       [@rhythmixx_]\n",
       "52       [@DaRealKha]"
      ]
     },
     "execution_count": 29,
     "metadata": {
      "tags": []
     },
     "output_type": "execute_result"
    }
   ],
   "source": [
    "# Take the rows from the mentioned columns where there are actually hashtags\n",
    "\n",
    "mentioned_list_data = data.loc[\n",
    "                       data.mentioned.apply(\n",
    "                           lambda mentioned_list: mentioned_list !=[]\n",
    "                       ),['mentioned']]\n",
    "mentioned_list_data.head()\n",
    "\n"
   ]
  },
  {
   "cell_type": "code",
   "execution_count": null,
   "metadata": {
    "colab": {
     "base_uri": "https://localhost:8080/"
    },
    "id": "0JAgTCA9lWLR",
    "outputId": "37242839-7e51-445f-b809-8d9bf8a8aaf0"
   },
   "outputs": [
    {
     "data": {
      "text/html": [
       "<div>\n",
       "<style scoped>\n",
       "    .dataframe tbody tr th:only-of-type {\n",
       "        vertical-align: middle;\n",
       "    }\n",
       "\n",
       "    .dataframe tbody tr th {\n",
       "        vertical-align: top;\n",
       "    }\n",
       "\n",
       "    .dataframe thead th {\n",
       "        text-align: right;\n",
       "    }\n",
       "</style>\n",
       "<table border=\"1\" class=\"dataframe\">\n",
       "  <thead>\n",
       "    <tr style=\"text-align: right;\">\n",
       "      <th></th>\n",
       "      <th>mentioned</th>\n",
       "    </tr>\n",
       "  </thead>\n",
       "  <tbody>\n",
       "    <tr>\n",
       "      <th>0</th>\n",
       "      <td>@viva_based</td>\n",
       "    </tr>\n",
       "    <tr>\n",
       "      <th>1</th>\n",
       "      <td>@T_Madison_x</td>\n",
       "    </tr>\n",
       "    <tr>\n",
       "      <th>2</th>\n",
       "      <td>@selfiequeenbri</td>\n",
       "    </tr>\n",
       "    <tr>\n",
       "      <th>3</th>\n",
       "      <td>@rhythmixx_</td>\n",
       "    </tr>\n",
       "    <tr>\n",
       "      <th>4</th>\n",
       "      <td>@DaRealKha</td>\n",
       "    </tr>\n",
       "  </tbody>\n",
       "</table>\n",
       "</div>"
      ],
      "text/plain": [
       "         mentioned\n",
       "0      @viva_based\n",
       "1     @T_Madison_x\n",
       "2  @selfiequeenbri\n",
       "3      @rhythmixx_\n",
       "4       @DaRealKha"
      ]
     },
     "execution_count": 30,
     "metadata": {
      "tags": []
     },
     "output_type": "execute_result"
    }
   ],
   "source": [
    "# Create dataframe where each use of mentioned gets its own row\n",
    "\n",
    "flattened_mentioned_data = pd.DataFrame(\n",
    "    [mentioned for mentioned_list in mentioned_list_data.mentioned\n",
    "    for mentioned in mentioned_list],\n",
    "    columns=['mentioned'])\n",
    "flattened_mentioned_data.head()"
   ]
  },
  {
   "cell_type": "code",
   "execution_count": null,
   "metadata": {
    "colab": {
     "base_uri": "https://localhost:8080/"
    },
    "id": "hgVtFK69lWLS",
    "outputId": "65246451-6d65-435c-80b3-b29c20e9498d"
   },
   "outputs": [
    {
     "data": {
      "text/plain": [
       "(10958, 1)"
      ]
     },
     "execution_count": 31,
     "metadata": {
      "tags": []
     },
     "output_type": "execute_result"
    }
   ],
   "source": [
    "flattened_mentioned_data.shape"
   ]
  },
  {
   "cell_type": "code",
   "execution_count": null,
   "metadata": {
    "colab": {
     "base_uri": "https://localhost:8080/"
    },
    "id": "4_IR8BTvlWLW",
    "outputId": "2886a123-85fc-4fc6-f7fa-0d9860aae0fa"
   },
   "outputs": [
    {
     "data": {
      "text/plain": [
       "7039"
      ]
     },
     "execution_count": 32,
     "metadata": {
      "tags": []
     },
     "output_type": "execute_result"
    }
   ],
   "source": [
    "# Number of unique retweeted\n",
    "\n",
    "flattened_mentioned_data['mentioned'].unique().size"
   ]
  },
  {
   "cell_type": "code",
   "execution_count": null,
   "metadata": {
    "colab": {
     "base_uri": "https://localhost:8080/"
    },
    "id": "jnTceIYOlWLY",
    "outputId": "95f769db-4f87-4734-cd69-eb53aa1457a4"
   },
   "outputs": [
    {
     "data": {
      "text/html": [
       "<div>\n",
       "<style scoped>\n",
       "    .dataframe tbody tr th:only-of-type {\n",
       "        vertical-align: middle;\n",
       "    }\n",
       "\n",
       "    .dataframe tbody tr th {\n",
       "        vertical-align: top;\n",
       "    }\n",
       "\n",
       "    .dataframe thead th {\n",
       "        text-align: right;\n",
       "    }\n",
       "</style>\n",
       "<table border=\"1\" class=\"dataframe\">\n",
       "  <thead>\n",
       "    <tr style=\"text-align: right;\">\n",
       "      <th></th>\n",
       "      <th>mentioned</th>\n",
       "      <th>counts</th>\n",
       "    </tr>\n",
       "  </thead>\n",
       "  <tbody>\n",
       "    <tr>\n",
       "      <th>0</th>\n",
       "      <td>@kieffer_jason</td>\n",
       "      <td>101</td>\n",
       "    </tr>\n",
       "    <tr>\n",
       "      <th>1</th>\n",
       "      <td>@Yankees</td>\n",
       "      <td>46</td>\n",
       "    </tr>\n",
       "    <tr>\n",
       "      <th>2</th>\n",
       "      <td>@Huntermoore</td>\n",
       "      <td>30</td>\n",
       "    </tr>\n",
       "    <tr>\n",
       "      <th>3</th>\n",
       "      <td>@Buckm00se</td>\n",
       "      <td>23</td>\n",
       "    </tr>\n",
       "    <tr>\n",
       "      <th>4</th>\n",
       "      <td>@sbsylvester</td>\n",
       "      <td>22</td>\n",
       "    </tr>\n",
       "    <tr>\n",
       "      <th>5</th>\n",
       "      <td>@what_evaittakes</td>\n",
       "      <td>20</td>\n",
       "    </tr>\n",
       "    <tr>\n",
       "      <th>6</th>\n",
       "      <td>@VoiceOfDStreetz</td>\n",
       "      <td>19</td>\n",
       "    </tr>\n",
       "    <tr>\n",
       "      <th>7</th>\n",
       "      <td>@JawShoeeAhhh</td>\n",
       "      <td>18</td>\n",
       "    </tr>\n",
       "    <tr>\n",
       "      <th>8</th>\n",
       "      <td>@Leelucas_</td>\n",
       "      <td>18</td>\n",
       "    </tr>\n",
       "    <tr>\n",
       "      <th>9</th>\n",
       "      <td>@viaNAWF</td>\n",
       "      <td>18</td>\n",
       "    </tr>\n",
       "  </tbody>\n",
       "</table>\n",
       "</div>"
      ],
      "text/plain": [
       "          mentioned  counts\n",
       "0    @kieffer_jason     101\n",
       "1          @Yankees      46\n",
       "2      @Huntermoore      30\n",
       "3        @Buckm00se      23\n",
       "4      @sbsylvester      22\n",
       "5  @what_evaittakes      20\n",
       "6  @VoiceOfDStreetz      19\n",
       "7     @JawShoeeAhhh      18\n",
       "8        @Leelucas_      18\n",
       "9          @viaNAWF      18"
      ]
     },
     "execution_count": 33,
     "metadata": {
      "tags": []
     },
     "output_type": "execute_result"
    }
   ],
   "source": [
    "# Count of appearances of each retweeted\n",
    "popular_mentioned = flattened_mentioned_data.groupby('mentioned').size()\\\n",
    "                                        .reset_index(name='counts')\\\n",
    "                                        .sort_values('counts', ascending=False)\\\n",
    "                                        .reset_index(drop=True)\n",
    "popular_mentioned.head(10)"
   ]
  },
  {
   "cell_type": "markdown",
   "metadata": {
    "id": "jTg234QKlWLZ"
   },
   "source": [
    "### Wordcloud for 3 categories of tweets"
   ]
  },
  {
   "cell_type": "code",
   "execution_count": null,
   "metadata": {
    "colab": {
     "base_uri": "https://localhost:8080/"
    },
    "id": "MCgBUnNnlWLa",
    "outputId": "8f4fe6cc-d7cd-4d0d-8b68-baab6092566a"
   },
   "outputs": [
    {
     "name": "stdout",
     "output_type": "stream",
     "text": [
      "<class 'set'>\n",
      "<wordcloud.wordcloud.WordCloud object at 0x7f8a5b135a50>\n"
     ]
    },
    {
     "data": {
      "image/png": "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\n",
      "text/plain": [
       "<Figure size 432x288 with 1 Axes>"
      ]
     },
     "metadata": {
      "needs_background": "light",
      "tags": []
     },
     "output_type": "display_data"
    }
   ],
   "source": [
    "# Hate Speech\n",
    "\n",
    "from wordcloud import WordCloud, STOPWORDS\n",
    "stopwords = set(STOPWORDS)\n",
    "stopwords.add(\"RT\")\n",
    "\n",
    "print(type(STOPWORDS))\n",
    "\n",
    "import random\n",
    "\n",
    "def random_color_func(word=None, font_size=None, position=None,  orientation=None, font_path=None, random_state=None):\n",
    "    h = 344\n",
    "    s = int(100.0 * 255.0 / 255.0)\n",
    "    l = int(100.0 * float(random_state.randint(60, 120)) / 255.0)\n",
    "    return \"hsl({}, {}%, {}%)\".format(h, s, l)\n",
    "\n",
    "wordcloud = WordCloud(\n",
    "                          background_color='white',\n",
    "                          stopwords=stopwords,\n",
    "                          max_words=200,\n",
    "                          max_font_size=60, \n",
    "                          random_state=42\n",
    "                         ).generate(str(data.loc[data[\"class\"]== 0].tweet))\n",
    "print(wordcloud)\n",
    "fig = plt.figure(1)\n",
    "plt.imshow(wordcloud.recolor(color_func= random_color_func, random_state=3),\n",
    "           interpolation=\"bilinear\")\n",
    "plt.axis('off')\n",
    "plt.show()"
   ]
  },
  {
   "cell_type": "code",
   "execution_count": null,
   "metadata": {
    "colab": {
     "base_uri": "https://localhost:8080/"
    },
    "id": "STMCVvR6lWLb",
    "outputId": "10d952ad-20a4-4030-d63b-533dda59dbd8"
   },
   "outputs": [
    {
     "name": "stdout",
     "output_type": "stream",
     "text": [
      "<wordcloud.wordcloud.WordCloud object at 0x7f8a5b0e28d0>\n"
     ]
    },
    {
     "data": {
      "image/png": "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\n",
      "text/plain": [
       "<Figure size 432x288 with 1 Axes>"
      ]
     },
     "metadata": {
      "needs_background": "light",
      "tags": []
     },
     "output_type": "display_data"
    }
   ],
   "source": [
    "# Offensive Language \n",
    "\n",
    "def random_color_func(word=None, font_size=None, position=None,  orientation=None, font_path=None, random_state=None):\n",
    "    h = 344\n",
    "    s = int(100.0 * 255.0 / 255.0)\n",
    "    l = int(100.0 * float(random_state.randint(60, 120)) / 255.0)\n",
    "    return \"hsl({}, {}%, {}%)\".format(h, s, l)\n",
    "\n",
    "wordcloud = WordCloud(\n",
    "                          background_color='white',\n",
    "                          stopwords=stopwords,\n",
    "                          max_words=200,\n",
    "                          max_font_size=60, \n",
    "                          random_state=42\n",
    "                         ).generate(str(data.loc[data[\"class\"]== 1].tweet))\n",
    "print(wordcloud)\n",
    "fig = plt.figure(1)\n",
    "plt.imshow(wordcloud.recolor(color_func= random_color_func, random_state=3),\n",
    "           interpolation=\"bilinear\")\n",
    "plt.axis('off')\n",
    "plt.show()"
   ]
  },
  {
   "cell_type": "code",
   "execution_count": null,
   "metadata": {
    "colab": {
     "base_uri": "https://localhost:8080/"
    },
    "id": "s5rAiMgLlWLd",
    "outputId": "cb5ab780-cd62-4c93-c6eb-99b55ef9422f"
   },
   "outputs": [
    {
     "name": "stdout",
     "output_type": "stream",
     "text": [
      "<wordcloud.wordcloud.WordCloud object at 0x7f8a5b0e22d0>\n"
     ]
    },
    {
     "data": {
      "image/png": "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\n",
      "text/plain": [
       "<Figure size 432x288 with 1 Axes>"
      ]
     },
     "metadata": {
      "needs_background": "light",
      "tags": []
     },
     "output_type": "display_data"
    }
   ],
   "source": [
    "# Neither\n",
    "\n",
    "def random_color_func(word=None, font_size=None, position=None,  orientation=None, font_path=None, random_state=None):\n",
    "    h = 344\n",
    "    s = int(100.0 * 255.0 / 255.0)\n",
    "    l = int(100.0 * float(random_state.randint(60, 120)) / 255.0)\n",
    "    return \"hsl({}, {}%, {}%)\".format(h, s, l)\n",
    "\n",
    "wordcloud = WordCloud(\n",
    "                          background_color='white',\n",
    "                          stopwords=stopwords,\n",
    "                          max_words=200,\n",
    "                          max_font_size=60, \n",
    "                          random_state=42\n",
    "                         ).generate(str(data.loc[data[\"class\"]== 2].tweet))\n",
    "print(wordcloud)\n",
    "fig = plt.figure(1)\n",
    "plt.imshow(wordcloud.recolor(color_func= random_color_func, random_state=3),\n",
    "           interpolation=\"bilinear\")\n",
    "plt.axis('off')\n",
    "plt.show()"
   ]
  },
  {
<<<<<<< HEAD:Copy_of_hate_speech_2_extra_data_gab12.ipynb
   "cell_type": "code",
   "execution_count": 97,
=======
   "cell_type": "markdown",
   "metadata": {
    "id": "GuWthLbolWLf"
   },
   "source": [
    "### Cleaning Unstructured Text Data"
   ]
  },
  {
   "cell_type": "code",
   "execution_count": 19,
   "metadata": {
    "id": "3zevq9f4lWLg"
   },
   "outputs": [],
   "source": [
    "# Create functions\n",
    "\n",
    "def remove_links(tweet):\n",
    "    '''Takes a string and removes web links from it'''\n",
    "    tweet = re.sub(r'http\\S+', '', tweet) # remove http links\n",
    "    tweet = re.sub(r'bit.ly/\\S+', '', tweet) # rempve bitly links\n",
    "    tweet = tweet.strip('[link]') # remove [links]\n",
    "    return tweet\n",
    "\n",
    "def remove_users(tweet):\n",
    "    '''Takes a string and removes retweet and @user information'''\n",
    "    tweet = re.sub('(RT\\s@[A-Za-z0-9-_]+[A-Za-z0-9-_]+)', '', tweet) # remove retweet\n",
    "    tweet = re.sub('(@[A-Za-z0-9-_]+[A-Za-z0-9-_]+)', '', tweet) # remove tweeted at\n",
    "    return tweet"
   ]
  },
  {
   "cell_type": "code",
   "execution_count": 20,
   "metadata": {
    "id": "kDg_3Frrgjzh"
   },
   "outputs": [],
   "source": [
    "my_stopwords = nltk.corpus.stopwords.words('english')\n",
    "my_punctuation = '!\"$%&\\'()*+,-./:;<=>?[\\\\]\\\\\\\\\\^_`{|}~•@#'\n",
    "\n",
    "# cleaning master function\n",
    "def clean_tweet(tweet):\n",
    "    tweet = remove_users(tweet)\n",
    "    tweet = remove_links(tweet)\n",
    "    tweet = tweet.lower() # lower case\n",
    "    tweet = re.sub('['+my_punctuation + ']+', ' ', tweet) # strip punctuation\n",
    "    tweet = re.sub('([0-9]+)', '', tweet) # remove numbers\n",
    "    tweet = re.sub('amp', '', tweet) # remove amp\n",
    "    tweet = re.sub(r'\\s+', ' ', tweet) #remove double spacing\n",
    "    tweet_token_list = [word for word in tweet.split(' ')\n",
    "                            if word not in my_stopwords] # remove stopwords\n",
    "    lemmatizer = WordNetLemmatizer() \n",
    "    tweet_token_list = [lemmatizer.lemmatize(word) # if '#' not in word else word\n",
    "                        for word in tweet_token_list] # apply word rooter\n",
    "    tweet = ' '.join(tweet_token_list)\n",
    "    return tweet"
   ]
  },
  {
   "cell_type": "code",
   "execution_count": 21,
>>>>>>> 7d11325816e9bbf2476260ae35eef9704214c307:.ipynb_checkpoints/Copy_of_hate_speech_2_extra_data_gab12-checkpoint.ipynb
   "metadata": {
    "colab": {
     "base_uri": "https://localhost:8080/",
     "height": 724
    },
    "id": "KMmQJt90zRRh",
    "outputId": "fb5f6efd-f180-4b9e-af56-15e3efc11e41"
   },
   "outputs": [
    {
     "data": {
      "text/html": [
       "<div>\n",
       "<style scoped>\n",
       "    .dataframe tbody tr th:only-of-type {\n",
       "        vertical-align: middle;\n",
       "    }\n",
       "\n",
       "    .dataframe tbody tr th {\n",
       "        vertical-align: top;\n",
       "    }\n",
       "\n",
       "    .dataframe thead th {\n",
       "        text-align: right;\n",
       "    }\n",
       "</style>\n",
       "<table border=\"1\" class=\"dataframe\">\n",
       "  <thead>\n",
       "    <tr style=\"text-align: right;\">\n",
       "      <th></th>\n",
       "      <th>Unnamed: 0</th>\n",
       "      <th>count</th>\n",
       "      <th>hate_speech</th>\n",
       "      <th>offensive_language</th>\n",
       "      <th>neither</th>\n",
       "      <th>class</th>\n",
       "      <th>tweet</th>\n",
       "      <th>is_retweet</th>\n",
       "      <th>retweeted</th>\n",
       "      <th>mentioned</th>\n",
       "      <th>hashtags</th>\n",
       "      <th>clean_tweet</th>\n",
       "    </tr>\n",
       "  </thead>\n",
       "  <tbody>\n",
       "    <tr>\n",
       "      <th>219</th>\n",
       "      <td>221</td>\n",
       "      <td>6</td>\n",
       "      <td>3</td>\n",
       "      <td>2</td>\n",
       "      <td>1</td>\n",
       "      <td>0</td>\n",
       "      <td>\"@RTNBA: Drakes new shoes that will be release...</td>\n",
       "      <td>False</td>\n",
       "      <td>[]</td>\n",
       "      <td>[@RTNBA]</td>\n",
       "      <td>[]</td>\n",
       "      <td>drake new shoe released nike jordan yes glitt...</td>\n",
       "    </tr>\n",
       "    <tr>\n",
       "      <th>560</th>\n",
       "      <td>569</td>\n",
       "      <td>6</td>\n",
       "      <td>1</td>\n",
       "      <td>3</td>\n",
       "      <td>2</td>\n",
<<<<<<< HEAD:Copy_of_hate_speech_2_extra_data_gab12.ipynb
       "      <td>1</td>\n",
       "      <td>\"That girl is plain looking borderline ugly &amp;a...</td>\n",
       "      <td>False</td>\n",
       "      <td>[]</td>\n",
       "      <td>[]</td>\n",
       "      <td>[]</td>\n",
       "      <td>girl plain looking borderline ugly chunky hey...</td>\n",
=======
       "      <td>!!! RT @mayasolovely: As a woman you shouldn't...</td>\n",
       "      <td>False</td>\n",
       "      <td>[@mayasolovely]</td>\n",
       "      <td>[]</td>\n",
       "      <td>[]</td>\n",
       "      <td>woman complain cleaning house man always take...</td>\n",
>>>>>>> 7d11325816e9bbf2476260ae35eef9704214c307:.ipynb_checkpoints/Copy_of_hate_speech_2_extra_data_gab12-checkpoint.ipynb
       "    </tr>\n",
       "    <tr>\n",
       "      <th>1574</th>\n",
       "      <td>1609</td>\n",
       "      <td>9</td>\n",
       "      <td>1</td>\n",
       "      <td>7</td>\n",
       "      <td>1</td>\n",
<<<<<<< HEAD:Copy_of_hate_speech_2_extra_data_gab12.ipynb
       "      <td>1</td>\n",
       "      <td>&amp;#8220;@Traceydee98: I want pussy for dinner&amp;#...</td>\n",
       "      <td>False</td>\n",
       "      <td>[]</td>\n",
       "      <td>[@Traceydee98]</td>\n",
       "      <td>[]</td>\n",
       "      <td>want pussy dinner</td>\n",
=======
       "      <td>!!!!! RT @mleew17: boy dats cold...tyga dwn ba...</td>\n",
       "      <td>False</td>\n",
       "      <td>[@mleew17]</td>\n",
       "      <td>[]</td>\n",
       "      <td>[]</td>\n",
       "      <td>boy dat cold tyga dwn bad cuffin dat hoe st p...</td>\n",
>>>>>>> 7d11325816e9bbf2476260ae35eef9704214c307:.ipynb_checkpoints/Copy_of_hate_speech_2_extra_data_gab12-checkpoint.ipynb
       "    </tr>\n",
       "    <tr>\n",
       "      <th>2234</th>\n",
       "      <td>2279</td>\n",
       "      <td>6</td>\n",
       "      <td>1</td>\n",
<<<<<<< HEAD:Copy_of_hate_speech_2_extra_data_gab12.ipynb
       "      <td>4</td>\n",
       "      <td>1</td>\n",
       "      <td>1</td>\n",
       "      <td>2 year starting on me on the street... so i pu...</td>\n",
       "      <td>False</td>\n",
       "      <td>[]</td>\n",
       "      <td>[]</td>\n",
       "      <td>[#funnyguy]</td>\n",
       "      <td>year starting street put fag funnyguy</td>\n",
=======
       "      <td>!!!!!!! RT @UrKindOfBrand Dawg!!!! RT @80sbaby...</td>\n",
       "      <td>False</td>\n",
       "      <td>[@UrKindOfBrand]</td>\n",
       "      <td>[]</td>\n",
       "      <td>[]</td>\n",
       "      <td>dawg ever fuck bitch start cry confused shit</td>\n",
>>>>>>> 7d11325816e9bbf2476260ae35eef9704214c307:.ipynb_checkpoints/Copy_of_hate_speech_2_extra_data_gab12-checkpoint.ipynb
       "    </tr>\n",
       "    <tr>\n",
       "      <th>2328</th>\n",
       "      <td>2374</td>\n",
       "      <td>6</td>\n",
       "      <td>1</td>\n",
       "      <td>2</td>\n",
       "      <td>3</td>\n",
       "      <td>2</td>\n",
       "      <td>@2ANow She looks like a plastic monkey doll!</td>\n",
       "      <td>False</td>\n",
       "      <td>[]</td>\n",
       "      <td>[]</td>\n",
       "      <td>[]</td>\n",
       "      <td>look like plastic monkey doll</td>\n",
       "    </tr>\n",
       "    <tr>\n",
       "      <th>...</th>\n",
       "      <td>...</td>\n",
       "      <td>...</td>\n",
       "      <td>...</td>\n",
       "      <td>...</td>\n",
       "      <td>...</td>\n",
       "      <td>...</td>\n",
       "      <td>...</td>\n",
       "      <td>...</td>\n",
       "      <td>...</td>\n",
       "      <td>...</td>\n",
       "      <td>...</td>\n",
       "      <td>...</td>\n",
       "    </tr>\n",
       "    <tr>\n",
       "      <th>23631</th>\n",
       "      <td>24125</td>\n",
       "      <td>6</td>\n",
       "      <td>1</td>\n",
       "      <td>4</td>\n",
       "      <td>1</td>\n",
<<<<<<< HEAD:Copy_of_hate_speech_2_extra_data_gab12.ipynb
       "      <td>1</td>\n",
       "      <td>bitch im DEAD!! &amp;#128128;&amp;#128128;&amp;#128584; RT...</td>\n",
       "      <td>False</td>\n",
       "      <td>[@KingHov1313]</td>\n",
       "      <td>[]</td>\n",
       "      <td>[]</td>\n",
       "      <td>bitch im dead heauxs gon put balloon corner ta...</td>\n",
=======
       "      <td>!!!!!!!!! RT @C_G_Anderson: @viva_based she lo...</td>\n",
       "      <td>False</td>\n",
       "      <td>[@C_G_Anderson]</td>\n",
       "      <td>[@viva_based]</td>\n",
       "      <td>[]</td>\n",
       "      <td>look like tranny</td>\n",
>>>>>>> 7d11325816e9bbf2476260ae35eef9704214c307:.ipynb_checkpoints/Copy_of_hate_speech_2_extra_data_gab12-checkpoint.ipynb
       "    </tr>\n",
       "    <tr>\n",
       "      <th>23807</th>\n",
       "      <td>24302</td>\n",
       "      <td>6</td>\n",
       "      <td>1</td>\n",
<<<<<<< HEAD:Copy_of_hate_speech_2_extra_data_gab12.ipynb
       "      <td>4</td>\n",
       "      <td>1</td>\n",
       "      <td>1</td>\n",
       "      <td>everybody talking bout hoes fighting I'm lurki...</td>\n",
       "      <td>False</td>\n",
       "      <td>[]</td>\n",
       "      <td>[]</td>\n",
       "      <td>[]</td>\n",
       "      <td>everybody talking bout hoe fighting lurking mo...</td>\n",
       "    </tr>\n",
       "    <tr>\n",
       "      <th>23847</th>\n",
       "      <td>24344</td>\n",
       "      <td>4</td>\n",
       "      <td>1</td>\n",
       "      <td>2</td>\n",
       "      <td>1</td>\n",
       "      <td>1</td>\n",
       "      <td>geekylesbianscientists: theblairbetch: douglas...</td>\n",
       "      <td>False</td>\n",
       "      <td>[]</td>\n",
       "      <td>[]</td>\n",
       "      <td>[]</td>\n",
       "      <td>geekylesbianscientists theblairbetch douglasri...</td>\n",
       "    </tr>\n",
       "    <tr>\n",
       "      <th>24337</th>\n",
       "      <td>24842</td>\n",
       "      <td>4</td>\n",
       "      <td>1</td>\n",
       "      <td>1</td>\n",
       "      <td>2</td>\n",
       "      <td>2</td>\n",
       "      <td>oops: 'constitutionalists' #teabaggers in #mis...</td>\n",
       "      <td>False</td>\n",
       "      <td>[]</td>\n",
       "      <td>[]</td>\n",
       "      <td>[#teabaggers, #mississippi]</td>\n",
       "      <td>oops constitutionalist teabaggers mississippi ...</td>\n",
       "    </tr>\n",
       "    <tr>\n",
       "      <th>24555</th>\n",
       "      <td>25063</td>\n",
       "      <td>6</td>\n",
       "      <td>1</td>\n",
       "      <td>3</td>\n",
       "      <td>2</td>\n",
       "      <td>1</td>\n",
       "      <td>they probably hate me even more because not on...</td>\n",
       "      <td>False</td>\n",
       "      <td>[]</td>\n",
       "      <td>[]</td>\n",
       "      <td>[]</td>\n",
       "      <td>probably hate even look white technically poc ...</td>\n",
       "    </tr>\n",
       "  </tbody>\n",
       "</table>\n",
       "<p>108 rows × 12 columns</p>\n",
       "</div>"
      ],
      "text/plain": [
       "       Unnamed: 0  ...                                        clean_tweet\n",
       "219           221  ...   drake new shoe released nike jordan yes glitt...\n",
       "560           569  ...   girl plain looking borderline ugly chunky hey...\n",
       "1574         1609  ...                                 want pussy dinner \n",
       "2234         2279  ...              year starting street put fag funnyguy\n",
       "2328         2374  ...                     look like plastic monkey doll \n",
       "...           ...  ...                                                ...\n",
       "23631       24125  ...  bitch im dead heauxs gon put balloon corner ta...\n",
       "23807       24302  ...  everybody talking bout hoe fighting lurking mo...\n",
       "23847       24344  ...  geekylesbianscientists theblairbetch douglasri...\n",
       "24337       24842  ...  oops constitutionalist teabaggers mississippi ...\n",
       "24555       25063  ...  probably hate even look white technically poc ...\n",
=======
       "      <td>!!!!!!!!!!!!! RT @ShenikaRoberts: The shit you...</td>\n",
       "      <td>False</td>\n",
       "      <td>[@ShenikaRoberts]</td>\n",
       "      <td>[]</td>\n",
       "      <td>[]</td>\n",
       "      <td>shit hear might true might faker bitch told ya</td>\n",
       "    </tr>\n",
       "  </tbody>\n",
       "</table>\n",
       "</div>"
      ],
      "text/plain": [
       "   Unnamed: 0  count  hate_speech  offensive_language  neither  class  \\\n",
       "0           0      3            0                   0        3      2   \n",
       "1           1      3            0                   3        0      1   \n",
       "2           2      3            0                   3        0      1   \n",
       "3           3      3            0                   2        1      1   \n",
       "4           4      6            0                   6        0      1   \n",
       "\n",
       "                                               tweet  is_retweet  \\\n",
       "0  !!! RT @mayasolovely: As a woman you shouldn't...       False   \n",
       "1  !!!!! RT @mleew17: boy dats cold...tyga dwn ba...       False   \n",
       "2  !!!!!!! RT @UrKindOfBrand Dawg!!!! RT @80sbaby...       False   \n",
       "3  !!!!!!!!! RT @C_G_Anderson: @viva_based she lo...       False   \n",
       "4  !!!!!!!!!!!!! RT @ShenikaRoberts: The shit you...       False   \n",
       "\n",
       "           retweeted      mentioned hashtags  \\\n",
       "0    [@mayasolovely]             []       []   \n",
       "1         [@mleew17]             []       []   \n",
       "2   [@UrKindOfBrand]             []       []   \n",
       "3    [@C_G_Anderson]  [@viva_based]       []   \n",
       "4  [@ShenikaRoberts]             []       []   \n",
>>>>>>> 7d11325816e9bbf2476260ae35eef9704214c307:.ipynb_checkpoints/Copy_of_hate_speech_2_extra_data_gab12-checkpoint.ipynb
       "\n",
       "[108 rows x 12 columns]"
      ]
     },
<<<<<<< HEAD:Copy_of_hate_speech_2_extra_data_gab12.ipynb
     "execution_count": 97,
     "metadata": {
      "tags": []
     },
=======
     "execution_count": 21,
     "metadata": {},
>>>>>>> 7d11325816e9bbf2476260ae35eef9704214c307:.ipynb_checkpoints/Copy_of_hate_speech_2_extra_data_gab12-checkpoint.ipynb
     "output_type": "execute_result"
    }
   ],
   "source": [
    "# Arguable tweets\n",
    "\n",
    "data[(data['hate_speech'] > 0) & (data['offensive_language'] > 0 )& (data['neither'] > 0)]"
   ]
  },
  {
   "cell_type": "markdown",
   "metadata": {
    "id": "GuWthLbolWLf"
   },
   "source": [
    "### Cleaning Unstructured Text Data"
   ]
  },
  {
   "cell_type": "code",
<<<<<<< HEAD:Copy_of_hate_speech_2_extra_data_gab12.ipynb
   "execution_count": 18,
   "metadata": {
    "id": "3zevq9f4lWLg"
   },
   "outputs": [],
   "source": [
    "# Create functions\n",
    "\n",
    "def remove_links(tweet):\n",
    "    '''Takes a string and removes web links from it'''\n",
    "    tweet = re.sub(r'http\\S+', '', tweet) # remove http links\n",
    "    tweet = re.sub(r'bit.ly/\\S+', '', tweet) # rempve bitly links\n",
    "    tweet = tweet.strip('[link]') # remove [links]\n",
    "    return tweet\n",
    "\n",
    "def remove_users(tweet):\n",
    "    '''Takes a string and removes retweet and @user information'''\n",
    "    tweet = re.sub('(RT\\s@[A-Za-z0-9-_]+[A-Za-z0-9-_]+)', '', tweet) # remove retweet\n",
    "    tweet = re.sub('(@[A-Za-z0-9-_]+[A-Za-z0-9-_]+)', '', tweet) # remove tweeted at\n",
    "    return tweet"
   ]
  },
  {
   "cell_type": "code",
   "execution_count": 19,
   "metadata": {
    "id": "kDg_3Frrgjzh"
   },
   "outputs": [],
   "source": [
    "my_stopwords = nltk.corpus.stopwords.words('english')\n",
    "newStopWords = ['ur','u','nd'] # new stop word\n",
    "remove_stopword = ['not','no','nor',\"don\",\"aren\",\"couldn\",\"didn\",\"hadn\",\"hasn\",\"haven\",\"isn\",\"mustn\",\"mightn\",\"needn\",\"shouldn\",\n",
    "                   \"wasn\",\"wouldn\",\"won\"] # stop words that we don't want\n",
    "my_stopwords.extend(newStopWords) # add new stop word\n",
    "my_stopwords = [OldStopWords for OldStopWords in my_stopwords if OldStopWords not in remove_stopword] # remove some stop words\n",
    "\n",
    "my_punctuation = '!\"$%&\\'()*+,-./:;<=>?[\\\\]\\\\\\\\\\^_`{|}~•@#'\n",
    "\n",
    "# cleaning master function\n",
    "def clean_tweet(tweet):\n",
    "    tweet = remove_users(tweet)\n",
    "    tweet = remove_links(tweet)\n",
    "    tweet = tweet.lower() # lower case\n",
    "    tweet = re.sub('['+my_punctuation + ']+', ' ', tweet) # strip punctuation\n",
    "    tweet = re.sub('([0-9]+)', '', tweet) # remove numbers\n",
    "    tweet = re.sub('amp', '', tweet) # remove amp\n",
    "    tweet = re.sub(r'\\s+', ' ', tweet) #remove double spacing\n",
    "    tweet_token_list = [word for word in tweet.split(' ')\n",
    "                            if word not in my_stopwords] # remove stopwords\n",
    "    lemmatizer = WordNetLemmatizer() \n",
    "    tweet_token_list = [lemmatizer.lemmatize(word) # if '#' not in word else word\n",
    "                        for word in tweet_token_list] # apply word rooter\n",
    "    tweet = ' '.join(tweet_token_list)\n",
    "    return tweet"
   ]
  },
  {
   "cell_type": "code",
   "execution_count": 52,
=======
   "execution_count": 22,
>>>>>>> 7d11325816e9bbf2476260ae35eef9704214c307:.ipynb_checkpoints/Copy_of_hate_speech_2_extra_data_gab12-checkpoint.ipynb
   "metadata": {
    "colab": {
     "base_uri": "https://localhost:8080/"
    },
    "id": "FdqqckRz7fCz",
    "outputId": "65066197-bb6e-406e-d951-a8fc502ef6e8"
   },
   "outputs": [
    {
     "data": {
      "text/plain": [
       "['i',\n",
       " 'me',\n",
       " 'my',\n",
       " 'myself',\n",
       " 'we',\n",
       " 'our',\n",
       " 'ours',\n",
       " 'ourselves',\n",
       " 'you',\n",
       " \"you're\",\n",
       " \"you've\",\n",
       " \"you'll\",\n",
       " \"you'd\",\n",
       " 'your',\n",
       " 'yours',\n",
       " 'yourself',\n",
       " 'yourselves',\n",
       " 'he',\n",
       " 'him',\n",
       " 'his',\n",
       " 'himself',\n",
       " 'she',\n",
       " \"she's\",\n",
       " 'her',\n",
       " 'hers',\n",
       " 'herself',\n",
       " 'it',\n",
       " \"it's\",\n",
       " 'its',\n",
       " 'itself',\n",
       " 'they',\n",
       " 'them',\n",
       " 'their',\n",
       " 'theirs',\n",
       " 'themselves',\n",
       " 'what',\n",
       " 'which',\n",
       " 'who',\n",
       " 'whom',\n",
       " 'this',\n",
       " 'that',\n",
       " \"that'll\",\n",
       " 'these',\n",
       " 'those',\n",
       " 'am',\n",
       " 'is',\n",
       " 'are',\n",
       " 'was',\n",
       " 'were',\n",
       " 'be',\n",
       " 'been',\n",
       " 'being',\n",
       " 'have',\n",
       " 'has',\n",
       " 'had',\n",
       " 'having',\n",
       " 'do',\n",
       " 'does',\n",
       " 'did',\n",
       " 'doing',\n",
       " 'a',\n",
       " 'an',\n",
       " 'the',\n",
       " 'and',\n",
       " 'but',\n",
       " 'if',\n",
       " 'or',\n",
       " 'because',\n",
       " 'as',\n",
       " 'until',\n",
       " 'while',\n",
       " 'of',\n",
       " 'at',\n",
       " 'by',\n",
       " 'for',\n",
       " 'with',\n",
       " 'about',\n",
       " 'against',\n",
       " 'between',\n",
       " 'into',\n",
       " 'through',\n",
       " 'during',\n",
       " 'before',\n",
       " 'after',\n",
       " 'above',\n",
       " 'below',\n",
       " 'to',\n",
       " 'from',\n",
       " 'up',\n",
       " 'down',\n",
       " 'in',\n",
       " 'out',\n",
       " 'on',\n",
       " 'off',\n",
       " 'over',\n",
       " 'under',\n",
       " 'again',\n",
       " 'further',\n",
       " 'then',\n",
       " 'once',\n",
       " 'here',\n",
       " 'there',\n",
       " 'when',\n",
       " 'where',\n",
       " 'why',\n",
       " 'how',\n",
       " 'all',\n",
       " 'any',\n",
       " 'both',\n",
       " 'each',\n",
       " 'few',\n",
       " 'more',\n",
       " 'most',\n",
       " 'other',\n",
       " 'some',\n",
       " 'such',\n",
       " 'only',\n",
       " 'own',\n",
       " 'same',\n",
       " 'so',\n",
       " 'than',\n",
       " 'too',\n",
       " 'very',\n",
       " 's',\n",
       " 't',\n",
       " 'can',\n",
       " 'will',\n",
       " 'just',\n",
       " \"don't\",\n",
       " 'should',\n",
       " \"should've\",\n",
       " 'now',\n",
       " 'd',\n",
       " 'll',\n",
       " 'm',\n",
       " 'o',\n",
       " 're',\n",
       " 've',\n",
       " 'y',\n",
       " 'ain',\n",
       " \"aren't\",\n",
       " \"couldn't\",\n",
       " \"didn't\",\n",
       " 'doesn',\n",
       " \"doesn't\",\n",
       " \"hadn't\",\n",
       " \"hasn't\",\n",
       " \"haven't\",\n",
       " \"isn't\",\n",
       " 'ma',\n",
       " \"mightn't\",\n",
       " \"mustn't\",\n",
       " \"needn't\",\n",
       " 'shan',\n",
       " \"shan't\",\n",
       " \"shouldn't\",\n",
       " \"wasn't\",\n",
       " 'weren',\n",
       " \"weren't\",\n",
       " \"won't\",\n",
       " \"wouldn't\",\n",
       " 'ur',\n",
       " 'u',\n",
       " 'nd']"
      ]
     },
     "execution_count": 52,
     "metadata": {
      "tags": []
     },
     "output_type": "execute_result"
    }
   ],
   "source": [
    "my_stopwords = stopwords.words('english')\n",
    "newStopWords = ['ur','u','nd']\n",
    "remove_stopword = ['not','no','nor',\"don\",\"aren\",\"couldn\",\"didn\",\"hadn\",\"hasn\",\"haven\",\"isn\",\"mustn\",\"mightn\",\"needn\",\"shouldn\",\n",
    "                   \"wasn\",\"wouldn\",\"won\"]\n",
    "\n",
    "my_stopwords.extend(newStopWords)\n",
    "my_stopwords = [OldStopWords for OldStopWords in my_stopwords if OldStopWords not in remove_stopword]\n",
    "my_stopwords"
   ]
  },
  {
   "cell_type": "code",
   "execution_count": 20,
   "metadata": {
    "colab": {
     "base_uri": "https://localhost:8080/",
     "height": 518
    },
    "id": "GIfXzpXhlWLl",
    "outputId": "43552b07-425b-4744-b513-0adc61a3661c"
   },
   "outputs": [
    {
     "data": {
      "text/html": [
       "<div>\n",
       "<style scoped>\n",
       "    .dataframe tbody tr th:only-of-type {\n",
       "        vertical-align: middle;\n",
       "    }\n",
       "\n",
       "    .dataframe tbody tr th {\n",
       "        vertical-align: top;\n",
       "    }\n",
       "\n",
       "    .dataframe thead th {\n",
       "        text-align: right;\n",
       "    }\n",
       "</style>\n",
       "<table border=\"1\" class=\"dataframe\">\n",
       "  <thead>\n",
       "    <tr style=\"text-align: right;\">\n",
       "      <th></th>\n",
       "      <th>Unnamed: 0</th>\n",
       "      <th>count</th>\n",
       "      <th>hate_speech</th>\n",
       "      <th>offensive_language</th>\n",
       "      <th>neither</th>\n",
       "      <th>class</th>\n",
       "      <th>tweet</th>\n",
       "      <th>is_retweet</th>\n",
       "      <th>retweeted</th>\n",
       "      <th>mentioned</th>\n",
       "      <th>hashtags</th>\n",
       "      <th>clean_tweet</th>\n",
       "    </tr>\n",
       "  </thead>\n",
       "  <tbody>\n",
       "    <tr>\n",
       "      <th>0</th>\n",
       "      <td>0</td>\n",
       "      <td>3</td>\n",
       "      <td>0</td>\n",
       "      <td>0</td>\n",
       "      <td>3</td>\n",
       "      <td>2</td>\n",
       "      <td>!!! RT @mayasolovely: As a woman you shouldn't...</td>\n",
       "      <td>False</td>\n",
       "      <td>[@mayasolovely]</td>\n",
       "      <td>[]</td>\n",
       "      <td>[]</td>\n",
       "      <td>woman shouldn complain cleaning house man alw...</td>\n",
       "    </tr>\n",
       "    <tr>\n",
       "      <th>1</th>\n",
       "      <td>1</td>\n",
       "      <td>3</td>\n",
       "      <td>0</td>\n",
       "      <td>3</td>\n",
       "      <td>0</td>\n",
       "      <td>1</td>\n",
       "      <td>!!!!! RT @mleew17: boy dats cold...tyga dwn ba...</td>\n",
       "      <td>False</td>\n",
       "      <td>[@mleew17]</td>\n",
       "      <td>[]</td>\n",
       "      <td>[]</td>\n",
       "      <td>boy dat cold tyga dwn bad cuffin dat hoe st p...</td>\n",
       "    </tr>\n",
       "    <tr>\n",
       "      <th>2</th>\n",
       "      <td>2</td>\n",
       "      <td>3</td>\n",
       "      <td>0</td>\n",
       "      <td>3</td>\n",
       "      <td>0</td>\n",
       "      <td>1</td>\n",
       "      <td>!!!!!!! RT @UrKindOfBrand Dawg!!!! RT @80sbaby...</td>\n",
       "      <td>False</td>\n",
       "      <td>[@UrKindOfBrand]</td>\n",
       "      <td>[]</td>\n",
       "      <td>[]</td>\n",
       "      <td>dawg ever fuck bitch start cry confused shit</td>\n",
       "    </tr>\n",
       "    <tr>\n",
       "      <th>3</th>\n",
       "      <td>3</td>\n",
       "      <td>3</td>\n",
       "      <td>0</td>\n",
       "      <td>2</td>\n",
       "      <td>1</td>\n",
       "      <td>1</td>\n",
       "      <td>!!!!!!!!! RT @C_G_Anderson: @viva_based she lo...</td>\n",
       "      <td>False</td>\n",
       "      <td>[@C_G_Anderson]</td>\n",
       "      <td>[@viva_based]</td>\n",
       "      <td>[]</td>\n",
       "      <td>look like tranny</td>\n",
       "    </tr>\n",
       "    <tr>\n",
       "      <th>4</th>\n",
       "      <td>4</td>\n",
       "      <td>6</td>\n",
       "      <td>0</td>\n",
       "      <td>6</td>\n",
       "      <td>0</td>\n",
       "      <td>1</td>\n",
       "      <td>!!!!!!!!!!!!! RT @ShenikaRoberts: The shit you...</td>\n",
       "      <td>False</td>\n",
       "      <td>[@ShenikaRoberts]</td>\n",
       "      <td>[]</td>\n",
       "      <td>[]</td>\n",
       "      <td>shit hear might true might faker bitch told ya</td>\n",
       "    </tr>\n",
       "  </tbody>\n",
       "</table>\n",
       "</div>"
      ],
      "text/plain": [
       "   Unnamed: 0  count  hate_speech  offensive_language  neither  class  \\\n",
       "0           0      3            0                   0        3      2   \n",
       "1           1      3            0                   3        0      1   \n",
       "2           2      3            0                   3        0      1   \n",
       "3           3      3            0                   2        1      1   \n",
       "4           4      6            0                   6        0      1   \n",
       "\n",
       "                                               tweet  is_retweet  \\\n",
       "0  !!! RT @mayasolovely: As a woman you shouldn't...       False   \n",
       "1  !!!!! RT @mleew17: boy dats cold...tyga dwn ba...       False   \n",
       "2  !!!!!!! RT @UrKindOfBrand Dawg!!!! RT @80sbaby...       False   \n",
       "3  !!!!!!!!! RT @C_G_Anderson: @viva_based she lo...       False   \n",
       "4  !!!!!!!!!!!!! RT @ShenikaRoberts: The shit you...       False   \n",
       "\n",
       "           retweeted      mentioned hashtags  \\\n",
       "0    [@mayasolovely]             []       []   \n",
       "1         [@mleew17]             []       []   \n",
       "2   [@UrKindOfBrand]             []       []   \n",
       "3    [@C_G_Anderson]  [@viva_based]       []   \n",
       "4  [@ShenikaRoberts]             []       []   \n",
       "\n",
       "                                         clean_tweet  \n",
       "0   woman shouldn complain cleaning house man alw...  \n",
       "1   boy dat cold tyga dwn bad cuffin dat hoe st p...  \n",
       "2       dawg ever fuck bitch start cry confused shit  \n",
       "3                                   look like tranny  \n",
       "4    shit hear might true might faker bitch told ya   "
      ]
     },
     "execution_count": 20,
     "metadata": {},
     "output_type": "execute_result"
    }
   ],
   "source": [
    "data['clean_tweet'] = data.tweet.apply(clean_tweet)\n",
    "data.head()"
   ]
  },
  {
   "cell_type": "code",
   "execution_count": 21,
   "metadata": {
    "id": "auyeU7M5rIyr"
   },
   "outputs": [],
   "source": [
    "# remove empty tweet after the cleaning\n",
    "data = data[data['clean_tweet'] != \" \"]"
   ]
  },
  {
   "cell_type": "code",
   "execution_count": 22,
   "metadata": {
    "colab": {
     "base_uri": "https://localhost:8080/",
     "height": 402
    },
    "id": "Jo3kbTqVlWLp",
    "outputId": "cdd7baea-937c-4d96-c6c1-ad368ae20086"
   },
   "outputs": [
    {
     "data": {
      "text/html": [
       "<div>\n",
       "<style scoped>\n",
       "    .dataframe tbody tr th:only-of-type {\n",
       "        vertical-align: middle;\n",
       "    }\n",
       "\n",
       "    .dataframe tbody tr th {\n",
       "        vertical-align: top;\n",
       "    }\n",
       "\n",
       "    .dataframe thead th {\n",
       "        text-align: right;\n",
       "    }\n",
       "</style>\n",
       "<table border=\"1\" class=\"dataframe\">\n",
       "  <thead>\n",
       "    <tr style=\"text-align: right;\">\n",
       "      <th></th>\n",
       "      <th>label</th>\n",
       "      <th>tweet</th>\n",
       "      <th>clean_tweet</th>\n",
       "    </tr>\n",
       "  </thead>\n",
       "  <tbody>\n",
       "    <tr>\n",
       "      <th>0</th>\n",
       "      <td>1</td>\n",
       "      <td>@user #cnn calls #michigan middle school 'buil...</td>\n",
       "      <td>cnn call michigan middle school build wall ch...</td>\n",
       "    </tr>\n",
       "    <tr>\n",
       "      <th>1</th>\n",
       "      <td>1</td>\n",
       "      <td>@user @user lumpy says i am a . prove it lumpy.</td>\n",
       "      <td>lumpy say prove lumpy</td>\n",
       "    </tr>\n",
       "    <tr>\n",
       "      <th>2</th>\n",
       "      <td>1</td>\n",
       "      <td>it's unbelievable that in the 21st century we'...</td>\n",
       "      <td>unbelievable st century need something like ne...</td>\n",
       "    </tr>\n",
       "    <tr>\n",
       "      <th>3</th>\n",
       "      <td>1</td>\n",
       "      <td>@user lets fight against  #love #peace</td>\n",
       "      <td>let fight love peace</td>\n",
       "    </tr>\n",
       "    <tr>\n",
       "      <th>4</th>\n",
       "      <td>1</td>\n",
       "      <td>ð©the white establishment can't have blk fol...</td>\n",
       "      <td>ð©the white establishment blk folx running a...</td>\n",
       "    </tr>\n",
       "    <tr>\n",
       "      <th>...</th>\n",
       "      <td>...</td>\n",
       "      <td>...</td>\n",
       "      <td>...</td>\n",
       "    </tr>\n",
       "    <tr>\n",
       "      <th>2230</th>\n",
       "      <td>1</td>\n",
       "      <td>lady banned from kentucky mall. @user  #jcpenn...</td>\n",
       "      <td>ady banned kentucky mall jcpenny kentucky</td>\n",
       "    </tr>\n",
       "    <tr>\n",
       "      <th>2231</th>\n",
       "      <td>1</td>\n",
       "      <td>@user omfg i'm offended! i'm a  mailbox and i'...</td>\n",
       "      <td>omfg offended mailbox proud mailboxpride libe...</td>\n",
       "    </tr>\n",
       "    <tr>\n",
       "      <th>2232</th>\n",
       "      <td>1</td>\n",
       "      <td>@user @user you don't have the balls to hashta...</td>\n",
       "      <td>don ball hashtag say weasel away lumpy tony d...</td>\n",
       "    </tr>\n",
       "    <tr>\n",
       "      <th>2233</th>\n",
       "      <td>1</td>\n",
       "      <td>makes you ask yourself, who am i? then am i a...</td>\n",
       "      <td>make ask anybody god oh thank god</td>\n",
       "    </tr>\n",
       "    <tr>\n",
       "      <th>2234</th>\n",
       "      <td>1</td>\n",
       "      <td>@user #sikh #temple vandalised in in #calgary,...</td>\n",
       "      <td>sikh temple vandalised calgary wso condemns act</td>\n",
       "    </tr>\n",
       "  </tbody>\n",
       "</table>\n",
       "<p>2179 rows × 3 columns</p>\n",
       "</div>"
      ],
      "text/plain": [
       "      label                                              tweet  \\\n",
       "0         1  @user #cnn calls #michigan middle school 'buil...   \n",
       "1         1    @user @user lumpy says i am a . prove it lumpy.   \n",
       "2         1  it's unbelievable that in the 21st century we'...   \n",
       "3         1            @user lets fight against  #love #peace    \n",
       "4         1  ð©the white establishment can't have blk fol...   \n",
       "...     ...                                                ...   \n",
       "2230      1  lady banned from kentucky mall. @user  #jcpenn...   \n",
       "2231      1  @user omfg i'm offended! i'm a  mailbox and i'...   \n",
       "2232      1  @user @user you don't have the balls to hashta...   \n",
       "2233      1   makes you ask yourself, who am i? then am i a...   \n",
       "2234      1  @user #sikh #temple vandalised in in #calgary,...   \n",
       "\n",
       "                                            clean_tweet  \n",
       "0      cnn call michigan middle school build wall ch...  \n",
       "1                                lumpy say prove lumpy   \n",
       "2     unbelievable st century need something like ne...  \n",
       "3                                 let fight love peace   \n",
       "4     ð©the white establishment blk folx running a...  \n",
       "...                                                 ...  \n",
       "2230         ady banned kentucky mall jcpenny kentucky   \n",
       "2231   omfg offended mailbox proud mailboxpride libe...  \n",
       "2232   don ball hashtag say weasel away lumpy tony d...  \n",
       "2233                 make ask anybody god oh thank god   \n",
       "2234   sikh temple vandalised calgary wso condemns act   \n",
       "\n",
       "[2179 rows x 3 columns]"
      ]
     },
     "execution_count": 22,
     "metadata": {},
     "output_type": "execute_result"
    }
   ],
   "source": [
    "df1['clean_tweet'] = df1.tweet.apply(clean_tweet)\n",
    "df1"
   ]
  },
  {
   "cell_type": "code",
   "execution_count": 23,
   "metadata": {
    "colab": {
     "base_uri": "https://localhost:8080/",
     "height": 402
    },
    "id": "Dh9MRvgJYW6L",
    "outputId": "69bbb9c4-22a7-4b19-f36f-bcab74db2e1c"
   },
   "outputs": [
    {
     "data": {
      "text/html": [
       "<div>\n",
       "<style scoped>\n",
       "    .dataframe tbody tr th:only-of-type {\n",
       "        vertical-align: middle;\n",
       "    }\n",
       "\n",
       "    .dataframe tbody tr th {\n",
       "        vertical-align: top;\n",
       "    }\n",
       "\n",
       "    .dataframe thead th {\n",
       "        text-align: right;\n",
       "    }\n",
       "</style>\n",
       "<table border=\"1\" class=\"dataframe\">\n",
       "  <thead>\n",
       "    <tr style=\"text-align: right;\">\n",
       "      <th></th>\n",
       "      <th>hate_speech_idx</th>\n",
       "      <th>text</th>\n",
       "      <th>clean_tweet</th>\n",
       "    </tr>\n",
       "  </thead>\n",
       "  <tbody>\n",
       "    <tr>\n",
       "      <th>0</th>\n",
       "      <td>[1]</td>\n",
       "      <td>1. i joined gab to remind myself how retarded ...</td>\n",
       "      <td>joined gab remind retarded jew hater wouldn t...</td>\n",
       "    </tr>\n",
       "    <tr>\n",
       "      <th>2</th>\n",
       "      <td>[2]</td>\n",
       "      <td>1. It makes you an asshole.\\n2. \\tGive it to a...</td>\n",
       "      <td>make asshole give soldier defend try burn sho...</td>\n",
       "    </tr>\n",
       "    <tr>\n",
       "      <th>3</th>\n",
       "      <td>[2]</td>\n",
       "      <td>1. So they manage to provide a whole lot of da...</td>\n",
       "      <td>manage provide whole lot data except critical...</td>\n",
       "    </tr>\n",
       "    <tr>\n",
       "      <th>5</th>\n",
       "      <td>[1]</td>\n",
       "      <td>1. you sound like a faggot \\n</td>\n",
       "      <td>sound like faggot</td>\n",
       "    </tr>\n",
       "    <tr>\n",
       "      <th>7</th>\n",
       "      <td>[2]</td>\n",
       "      <td>1. Well, you are the fuckers that lit the matc...</td>\n",
       "      <td>well fucker lit match fakepatriots lock racis...</td>\n",
       "    </tr>\n",
       "    <tr>\n",
       "      <th>...</th>\n",
       "      <td>...</td>\n",
       "      <td>...</td>\n",
       "      <td>...</td>\n",
       "    </tr>\n",
       "    <tr>\n",
       "      <th>11818</th>\n",
       "      <td>[2]</td>\n",
       "      <td>1. A \"touching\" picture of Chelsea Handler and...</td>\n",
       "      <td>touching picture chelsea handler dad wow mora...</td>\n",
       "    </tr>\n",
       "    <tr>\n",
       "      <th>11819</th>\n",
       "      <td>[1]</td>\n",
       "      <td>1. Only a Demorat cocksucking pussy hating fag...</td>\n",
       "      <td>demorat cocksucking pussy hating faggot would...</td>\n",
       "    </tr>\n",
       "    <tr>\n",
       "      <th>11820</th>\n",
       "      <td>[2]</td>\n",
       "      <td>1. Remember this 3 months ago? The intern that...</td>\n",
       "      <td>remember month ago intern yelled obscenity pr...</td>\n",
       "    </tr>\n",
       "    <tr>\n",
       "      <th>11821</th>\n",
       "      <td>[2]</td>\n",
       "      <td>1. #Sweden's four major dailies aftonbladet.se...</td>\n",
       "      <td>sweden four major daily aftonbladet se dn se ...</td>\n",
       "    </tr>\n",
       "    <tr>\n",
       "      <th>11824</th>\n",
       "      <td>[1]</td>\n",
       "      <td>1. How absolutely unbelievably fascinating? A ...</td>\n",
       "      <td>absolutely unbelievably fascinating pakistani...</td>\n",
       "    </tr>\n",
       "  </tbody>\n",
       "</table>\n",
       "<p>7363 rows × 3 columns</p>\n",
       "</div>"
      ],
      "text/plain": [
       "      hate_speech_idx                                               text  \\\n",
       "0                 [1]  1. i joined gab to remind myself how retarded ...   \n",
       "2                 [2]  1. It makes you an asshole.\\n2. \\tGive it to a...   \n",
       "3                 [2]  1. So they manage to provide a whole lot of da...   \n",
       "5                 [1]                      1. you sound like a faggot \\n   \n",
       "7                 [2]  1. Well, you are the fuckers that lit the matc...   \n",
       "...               ...                                                ...   \n",
       "11818             [2]  1. A \"touching\" picture of Chelsea Handler and...   \n",
       "11819             [1]  1. Only a Demorat cocksucking pussy hating fag...   \n",
       "11820             [2]  1. Remember this 3 months ago? The intern that...   \n",
       "11821             [2]  1. #Sweden's four major dailies aftonbladet.se...   \n",
       "11824             [1]  1. How absolutely unbelievably fascinating? A ...   \n",
       "\n",
       "                                             clean_tweet  \n",
       "0       joined gab remind retarded jew hater wouldn t...  \n",
       "2       make asshole give soldier defend try burn sho...  \n",
       "3       manage provide whole lot data except critical...  \n",
       "5                                     sound like faggot   \n",
       "7       well fucker lit match fakepatriots lock racis...  \n",
       "...                                                  ...  \n",
       "11818   touching picture chelsea handler dad wow mora...  \n",
       "11819   demorat cocksucking pussy hating faggot would...  \n",
       "11820   remember month ago intern yelled obscenity pr...  \n",
       "11821   sweden four major daily aftonbladet se dn se ...  \n",
       "11824   absolutely unbelievably fascinating pakistani...  \n",
       "\n",
       "[7363 rows x 3 columns]"
      ]
     },
     "execution_count": 23,
     "metadata": {},
     "output_type": "execute_result"
    }
   ],
   "source": [
    "gab['clean_tweet'] = gab.text.apply(clean_tweet)\n",
    "gab"
   ]
  },
  {
   "cell_type": "code",
   "execution_count": 24,
   "metadata": {
    "colab": {
     "base_uri": "https://localhost:8080/",
     "height": 402
    },
    "id": "RP2J3-WvlWLq",
    "outputId": "c6b8d564-ce3c-4e70-b414-b9410df6faf3"
   },
   "outputs": [
    {
     "data": {
      "text/html": [
       "<div>\n",
       "<style scoped>\n",
       "    .dataframe tbody tr th:only-of-type {\n",
       "        vertical-align: middle;\n",
       "    }\n",
       "\n",
       "    .dataframe tbody tr th {\n",
       "        vertical-align: top;\n",
       "    }\n",
       "\n",
       "    .dataframe thead th {\n",
       "        text-align: right;\n",
       "    }\n",
       "</style>\n",
       "<table border=\"1\" class=\"dataframe\">\n",
       "  <thead>\n",
       "    <tr style=\"text-align: right;\">\n",
       "      <th></th>\n",
       "      <th>class</th>\n",
       "      <th>tweet</th>\n",
       "      <th>clean_tweet</th>\n",
       "    </tr>\n",
       "  </thead>\n",
       "  <tbody>\n",
       "    <tr>\n",
       "      <th>0</th>\n",
       "      <td>0</td>\n",
       "      <td>@user #cnn calls #michigan middle school 'buil...</td>\n",
       "      <td>cnn call michigan middle school build wall ch...</td>\n",
       "    </tr>\n",
       "    <tr>\n",
       "      <th>1</th>\n",
       "      <td>0</td>\n",
       "      <td>@user @user lumpy says i am a . prove it lumpy.</td>\n",
       "      <td>lumpy say prove lumpy</td>\n",
       "    </tr>\n",
       "    <tr>\n",
       "      <th>2</th>\n",
       "      <td>0</td>\n",
       "      <td>it's unbelievable that in the 21st century we'...</td>\n",
       "      <td>unbelievable st century need something like ne...</td>\n",
       "    </tr>\n",
       "    <tr>\n",
       "      <th>3</th>\n",
       "      <td>0</td>\n",
       "      <td>@user lets fight against  #love #peace</td>\n",
       "      <td>let fight love peace</td>\n",
       "    </tr>\n",
       "    <tr>\n",
       "      <th>4</th>\n",
       "      <td>0</td>\n",
       "      <td>ð©the white establishment can't have blk fol...</td>\n",
       "      <td>ð©the white establishment blk folx running a...</td>\n",
       "    </tr>\n",
       "    <tr>\n",
       "      <th>...</th>\n",
       "      <td>...</td>\n",
       "      <td>...</td>\n",
       "      <td>...</td>\n",
       "    </tr>\n",
       "    <tr>\n",
       "      <th>2230</th>\n",
       "      <td>0</td>\n",
       "      <td>lady banned from kentucky mall. @user  #jcpenn...</td>\n",
       "      <td>ady banned kentucky mall jcpenny kentucky</td>\n",
       "    </tr>\n",
       "    <tr>\n",
       "      <th>2231</th>\n",
       "      <td>0</td>\n",
       "      <td>@user omfg i'm offended! i'm a  mailbox and i'...</td>\n",
       "      <td>omfg offended mailbox proud mailboxpride libe...</td>\n",
       "    </tr>\n",
       "    <tr>\n",
       "      <th>2232</th>\n",
       "      <td>0</td>\n",
       "      <td>@user @user you don't have the balls to hashta...</td>\n",
       "      <td>don ball hashtag say weasel away lumpy tony d...</td>\n",
       "    </tr>\n",
       "    <tr>\n",
       "      <th>2233</th>\n",
       "      <td>0</td>\n",
       "      <td>makes you ask yourself, who am i? then am i a...</td>\n",
       "      <td>make ask anybody god oh thank god</td>\n",
       "    </tr>\n",
       "    <tr>\n",
       "      <th>2234</th>\n",
       "      <td>0</td>\n",
       "      <td>@user #sikh #temple vandalised in in #calgary,...</td>\n",
       "      <td>sikh temple vandalised calgary wso condemns act</td>\n",
       "    </tr>\n",
       "  </tbody>\n",
       "</table>\n",
       "<p>2179 rows × 3 columns</p>\n",
       "</div>"
      ],
      "text/plain": [
       "      class                                              tweet  \\\n",
       "0         0  @user #cnn calls #michigan middle school 'buil...   \n",
       "1         0    @user @user lumpy says i am a . prove it lumpy.   \n",
       "2         0  it's unbelievable that in the 21st century we'...   \n",
       "3         0            @user lets fight against  #love #peace    \n",
       "4         0  ð©the white establishment can't have blk fol...   \n",
       "...     ...                                                ...   \n",
       "2230      0  lady banned from kentucky mall. @user  #jcpenn...   \n",
       "2231      0  @user omfg i'm offended! i'm a  mailbox and i'...   \n",
       "2232      0  @user @user you don't have the balls to hashta...   \n",
       "2233      0   makes you ask yourself, who am i? then am i a...   \n",
       "2234      0  @user #sikh #temple vandalised in in #calgary,...   \n",
       "\n",
       "                                            clean_tweet  \n",
       "0      cnn call michigan middle school build wall ch...  \n",
       "1                                lumpy say prove lumpy   \n",
       "2     unbelievable st century need something like ne...  \n",
       "3                                 let fight love peace   \n",
       "4     ð©the white establishment blk folx running a...  \n",
       "...                                                 ...  \n",
       "2230         ady banned kentucky mall jcpenny kentucky   \n",
       "2231   omfg offended mailbox proud mailboxpride libe...  \n",
       "2232   don ball hashtag say weasel away lumpy tony d...  \n",
       "2233                 make ask anybody god oh thank god   \n",
       "2234   sikh temple vandalised calgary wso condemns act   \n",
       "\n",
       "[2179 rows x 3 columns]"
      ]
     },
     "execution_count": 24,
     "metadata": {},
     "output_type": "execute_result"
    }
   ],
   "source": [
    "# Assign a new class to merge with the first dataste\n",
    "df1['label'] = 0\n",
    "df1.rename(columns = {'label': 'class'}, inplace = True)\n",
    "df1"
   ]
  },
  {
   "cell_type": "code",
   "execution_count": 25,
   "metadata": {
    "colab": {
     "base_uri": "https://localhost:8080/",
     "height": 402
    },
    "id": "EO_z-MOBYsPn",
    "outputId": "ef821cc4-74ab-4c70-afad-9b13ce9f2247"
   },
   "outputs": [
    {
     "data": {
      "text/html": [
       "<div>\n",
       "<style scoped>\n",
       "    .dataframe tbody tr th:only-of-type {\n",
       "        vertical-align: middle;\n",
       "    }\n",
       "\n",
       "    .dataframe tbody tr th {\n",
       "        vertical-align: top;\n",
       "    }\n",
       "\n",
       "    .dataframe thead th {\n",
       "        text-align: right;\n",
       "    }\n",
       "</style>\n",
       "<table border=\"1\" class=\"dataframe\">\n",
       "  <thead>\n",
       "    <tr style=\"text-align: right;\">\n",
       "      <th></th>\n",
       "      <th>class</th>\n",
       "      <th>text</th>\n",
       "      <th>clean_tweet</th>\n",
       "    </tr>\n",
       "  </thead>\n",
       "  <tbody>\n",
       "    <tr>\n",
       "      <th>0</th>\n",
       "      <td>0</td>\n",
       "      <td>1. i joined gab to remind myself how retarded ...</td>\n",
       "      <td>joined gab remind retarded jew hater wouldn t...</td>\n",
       "    </tr>\n",
       "    <tr>\n",
       "      <th>2</th>\n",
       "      <td>0</td>\n",
       "      <td>1. It makes you an asshole.\\n2. \\tGive it to a...</td>\n",
       "      <td>make asshole give soldier defend try burn sho...</td>\n",
       "    </tr>\n",
       "    <tr>\n",
       "      <th>3</th>\n",
       "      <td>0</td>\n",
       "      <td>1. So they manage to provide a whole lot of da...</td>\n",
       "      <td>manage provide whole lot data except critical...</td>\n",
       "    </tr>\n",
       "    <tr>\n",
       "      <th>5</th>\n",
       "      <td>0</td>\n",
       "      <td>1. you sound like a faggot \\n</td>\n",
       "      <td>sound like faggot</td>\n",
       "    </tr>\n",
       "    <tr>\n",
       "      <th>7</th>\n",
       "      <td>0</td>\n",
       "      <td>1. Well, you are the fuckers that lit the matc...</td>\n",
       "      <td>well fucker lit match fakepatriots lock racis...</td>\n",
       "    </tr>\n",
       "    <tr>\n",
       "      <th>...</th>\n",
       "      <td>...</td>\n",
       "      <td>...</td>\n",
       "      <td>...</td>\n",
       "    </tr>\n",
       "    <tr>\n",
       "      <th>11818</th>\n",
       "      <td>0</td>\n",
       "      <td>1. A \"touching\" picture of Chelsea Handler and...</td>\n",
       "      <td>touching picture chelsea handler dad wow mora...</td>\n",
       "    </tr>\n",
       "    <tr>\n",
       "      <th>11819</th>\n",
       "      <td>0</td>\n",
       "      <td>1. Only a Demorat cocksucking pussy hating fag...</td>\n",
       "      <td>demorat cocksucking pussy hating faggot would...</td>\n",
       "    </tr>\n",
       "    <tr>\n",
       "      <th>11820</th>\n",
       "      <td>0</td>\n",
       "      <td>1. Remember this 3 months ago? The intern that...</td>\n",
       "      <td>remember month ago intern yelled obscenity pr...</td>\n",
       "    </tr>\n",
       "    <tr>\n",
       "      <th>11821</th>\n",
       "      <td>0</td>\n",
       "      <td>1. #Sweden's four major dailies aftonbladet.se...</td>\n",
       "      <td>sweden four major daily aftonbladet se dn se ...</td>\n",
       "    </tr>\n",
       "    <tr>\n",
       "      <th>11824</th>\n",
       "      <td>0</td>\n",
       "      <td>1. How absolutely unbelievably fascinating? A ...</td>\n",
       "      <td>absolutely unbelievably fascinating pakistani...</td>\n",
       "    </tr>\n",
       "  </tbody>\n",
       "</table>\n",
       "<p>7363 rows × 3 columns</p>\n",
       "</div>"
      ],
      "text/plain": [
       "       class                                               text  \\\n",
       "0          0  1. i joined gab to remind myself how retarded ...   \n",
       "2          0  1. It makes you an asshole.\\n2. \\tGive it to a...   \n",
       "3          0  1. So they manage to provide a whole lot of da...   \n",
       "5          0                      1. you sound like a faggot \\n   \n",
       "7          0  1. Well, you are the fuckers that lit the matc...   \n",
       "...      ...                                                ...   \n",
       "11818      0  1. A \"touching\" picture of Chelsea Handler and...   \n",
       "11819      0  1. Only a Demorat cocksucking pussy hating fag...   \n",
       "11820      0  1. Remember this 3 months ago? The intern that...   \n",
       "11821      0  1. #Sweden's four major dailies aftonbladet.se...   \n",
       "11824      0  1. How absolutely unbelievably fascinating? A ...   \n",
       "\n",
       "                                             clean_tweet  \n",
       "0       joined gab remind retarded jew hater wouldn t...  \n",
       "2       make asshole give soldier defend try burn sho...  \n",
       "3       manage provide whole lot data except critical...  \n",
       "5                                     sound like faggot   \n",
       "7       well fucker lit match fakepatriots lock racis...  \n",
       "...                                                  ...  \n",
       "11818   touching picture chelsea handler dad wow mora...  \n",
       "11819   demorat cocksucking pussy hating faggot would...  \n",
       "11820   remember month ago intern yelled obscenity pr...  \n",
       "11821   sweden four major daily aftonbladet se dn se ...  \n",
       "11824   absolutely unbelievably fascinating pakistani...  \n",
       "\n",
       "[7363 rows x 3 columns]"
      ]
     },
     "execution_count": 25,
     "metadata": {},
     "output_type": "execute_result"
    }
   ],
   "source": [
    "# Assign a new class to merge with the first dataste\n",
    "gab['hate_speech_idx'] = 0\n",
    "gab.rename(columns = {'hate_speech_idx': 'class'}, inplace = True)\n",
    "gab"
   ]
  },
  {
   "cell_type": "code",
   "execution_count": 26,
   "metadata": {
    "colab": {
     "base_uri": "https://localhost:8080/",
     "height": 1000
    },
    "id": "_b5xdqB_lWLq",
    "outputId": "a00afc76-3448-43a6-c109-24543aaf1c80"
   },
   "outputs": [
    {
     "data": {
      "text/html": [
       "<div>\n",
       "<style scoped>\n",
       "    .dataframe tbody tr th:only-of-type {\n",
       "        vertical-align: middle;\n",
       "    }\n",
       "\n",
       "    .dataframe tbody tr th {\n",
       "        vertical-align: top;\n",
       "    }\n",
       "\n",
       "    .dataframe thead th {\n",
       "        text-align: right;\n",
       "    }\n",
       "</style>\n",
       "<table border=\"1\" class=\"dataframe\">\n",
       "  <thead>\n",
       "    <tr style=\"text-align: right;\">\n",
       "      <th></th>\n",
       "      <th>Unnamed: 0</th>\n",
       "      <th>count</th>\n",
       "      <th>hate_speech</th>\n",
       "      <th>offensive_language</th>\n",
       "      <th>neither</th>\n",
       "      <th>class</th>\n",
       "      <th>tweet</th>\n",
       "      <th>is_retweet</th>\n",
       "      <th>retweeted</th>\n",
       "      <th>mentioned</th>\n",
       "      <th>hashtags</th>\n",
       "      <th>clean_tweet</th>\n",
       "      <th>text</th>\n",
       "    </tr>\n",
       "  </thead>\n",
       "  <tbody>\n",
       "    <tr>\n",
       "      <th>0</th>\n",
       "      <td>0.0</td>\n",
       "      <td>3.0</td>\n",
       "      <td>0.0</td>\n",
       "      <td>0.0</td>\n",
       "      <td>3.0</td>\n",
       "      <td>2</td>\n",
       "      <td>!!! RT @mayasolovely: As a woman you shouldn't...</td>\n",
       "      <td>False</td>\n",
       "      <td>[@mayasolovely]</td>\n",
       "      <td>[]</td>\n",
       "      <td>[]</td>\n",
<<<<<<< HEAD:Copy_of_hate_speech_2_extra_data_gab12.ipynb
       "      <td>woman shouldn complain cleaning house man alw...</td>\n",
=======
       "      <td>woman complain cleaning house man always take...</td>\n",
>>>>>>> 7d11325816e9bbf2476260ae35eef9704214c307:.ipynb_checkpoints/Copy_of_hate_speech_2_extra_data_gab12-checkpoint.ipynb
       "      <td>NaN</td>\n",
       "    </tr>\n",
       "    <tr>\n",
       "      <th>1</th>\n",
       "      <td>1.0</td>\n",
       "      <td>3.0</td>\n",
       "      <td>0.0</td>\n",
       "      <td>3.0</td>\n",
       "      <td>0.0</td>\n",
       "      <td>1</td>\n",
       "      <td>!!!!! RT @mleew17: boy dats cold...tyga dwn ba...</td>\n",
       "      <td>False</td>\n",
       "      <td>[@mleew17]</td>\n",
       "      <td>[]</td>\n",
       "      <td>[]</td>\n",
       "      <td>boy dat cold tyga dwn bad cuffin dat hoe st p...</td>\n",
       "      <td>NaN</td>\n",
       "    </tr>\n",
       "    <tr>\n",
       "      <th>2</th>\n",
       "      <td>2.0</td>\n",
       "      <td>3.0</td>\n",
       "      <td>0.0</td>\n",
       "      <td>3.0</td>\n",
       "      <td>0.0</td>\n",
       "      <td>1</td>\n",
       "      <td>!!!!!!! RT @UrKindOfBrand Dawg!!!! RT @80sbaby...</td>\n",
       "      <td>False</td>\n",
       "      <td>[@UrKindOfBrand]</td>\n",
       "      <td>[]</td>\n",
       "      <td>[]</td>\n",
       "      <td>dawg ever fuck bitch start cry confused shit</td>\n",
       "      <td>NaN</td>\n",
       "    </tr>\n",
       "    <tr>\n",
       "      <th>3</th>\n",
       "      <td>3.0</td>\n",
       "      <td>3.0</td>\n",
       "      <td>0.0</td>\n",
       "      <td>2.0</td>\n",
       "      <td>1.0</td>\n",
       "      <td>1</td>\n",
       "      <td>!!!!!!!!! RT @C_G_Anderson: @viva_based she lo...</td>\n",
       "      <td>False</td>\n",
       "      <td>[@C_G_Anderson]</td>\n",
       "      <td>[@viva_based]</td>\n",
       "      <td>[]</td>\n",
       "      <td>look like tranny</td>\n",
       "      <td>NaN</td>\n",
       "    </tr>\n",
       "    <tr>\n",
       "      <th>4</th>\n",
       "      <td>4.0</td>\n",
       "      <td>6.0</td>\n",
       "      <td>0.0</td>\n",
       "      <td>6.0</td>\n",
       "      <td>0.0</td>\n",
       "      <td>1</td>\n",
       "      <td>!!!!!!!!!!!!! RT @ShenikaRoberts: The shit you...</td>\n",
       "      <td>False</td>\n",
       "      <td>[@ShenikaRoberts]</td>\n",
       "      <td>[]</td>\n",
       "      <td>[]</td>\n",
       "      <td>shit hear might true might faker bitch told ya</td>\n",
       "      <td>NaN</td>\n",
       "    </tr>\n",
       "    <tr>\n",
       "      <th>...</th>\n",
       "      <td>...</td>\n",
       "      <td>...</td>\n",
       "      <td>...</td>\n",
       "      <td>...</td>\n",
       "      <td>...</td>\n",
       "      <td>...</td>\n",
       "      <td>...</td>\n",
       "      <td>...</td>\n",
       "      <td>...</td>\n",
       "      <td>...</td>\n",
       "      <td>...</td>\n",
       "      <td>...</td>\n",
       "      <td>...</td>\n",
       "    </tr>\n",
       "    <tr>\n",
       "      <th>34318</th>\n",
       "      <td>NaN</td>\n",
       "      <td>NaN</td>\n",
       "      <td>NaN</td>\n",
       "      <td>NaN</td>\n",
       "      <td>NaN</td>\n",
       "      <td>0</td>\n",
       "      <td>NaN</td>\n",
       "      <td>NaN</td>\n",
       "      <td>NaN</td>\n",
       "      <td>NaN</td>\n",
       "      <td>NaN</td>\n",
       "      <td>touching picture chelsea handler dad wow mora...</td>\n",
       "      <td>1. A \"touching\" picture of Chelsea Handler and...</td>\n",
       "    </tr>\n",
       "    <tr>\n",
       "      <th>34319</th>\n",
       "      <td>NaN</td>\n",
       "      <td>NaN</td>\n",
       "      <td>NaN</td>\n",
       "      <td>NaN</td>\n",
       "      <td>NaN</td>\n",
       "      <td>0</td>\n",
       "      <td>NaN</td>\n",
       "      <td>NaN</td>\n",
       "      <td>NaN</td>\n",
       "      <td>NaN</td>\n",
       "      <td>NaN</td>\n",
       "      <td>demorat cocksucking pussy hating faggot would...</td>\n",
       "      <td>1. Only a Demorat cocksucking pussy hating fag...</td>\n",
       "    </tr>\n",
       "    <tr>\n",
       "      <th>34320</th>\n",
       "      <td>NaN</td>\n",
       "      <td>NaN</td>\n",
       "      <td>NaN</td>\n",
       "      <td>NaN</td>\n",
       "      <td>NaN</td>\n",
       "      <td>0</td>\n",
       "      <td>NaN</td>\n",
       "      <td>NaN</td>\n",
       "      <td>NaN</td>\n",
       "      <td>NaN</td>\n",
       "      <td>NaN</td>\n",
       "      <td>remember month ago intern yelled obscenity pr...</td>\n",
       "      <td>1. Remember this 3 months ago? The intern that...</td>\n",
       "    </tr>\n",
       "    <tr>\n",
       "      <th>34321</th>\n",
       "      <td>NaN</td>\n",
       "      <td>NaN</td>\n",
       "      <td>NaN</td>\n",
       "      <td>NaN</td>\n",
       "      <td>NaN</td>\n",
       "      <td>0</td>\n",
       "      <td>NaN</td>\n",
       "      <td>NaN</td>\n",
       "      <td>NaN</td>\n",
       "      <td>NaN</td>\n",
       "      <td>NaN</td>\n",
       "      <td>sweden four major daily aftonbladet se dn se ...</td>\n",
       "      <td>1. #Sweden's four major dailies aftonbladet.se...</td>\n",
       "    </tr>\n",
       "    <tr>\n",
       "      <th>34322</th>\n",
       "      <td>NaN</td>\n",
       "      <td>NaN</td>\n",
       "      <td>NaN</td>\n",
       "      <td>NaN</td>\n",
       "      <td>NaN</td>\n",
       "      <td>0</td>\n",
       "      <td>NaN</td>\n",
       "      <td>NaN</td>\n",
       "      <td>NaN</td>\n",
       "      <td>NaN</td>\n",
       "      <td>NaN</td>\n",
       "      <td>absolutely unbelievably fascinating pakistani...</td>\n",
       "      <td>1. How absolutely unbelievably fascinating? A ...</td>\n",
       "    </tr>\n",
       "  </tbody>\n",
       "</table>\n",
<<<<<<< HEAD:Copy_of_hate_speech_2_extra_data_gab12.ipynb
       "<p>34323 rows × 13 columns</p>\n",
=======
       "<p>34325 rows × 13 columns</p>\n",
>>>>>>> 7d11325816e9bbf2476260ae35eef9704214c307:.ipynb_checkpoints/Copy_of_hate_speech_2_extra_data_gab12-checkpoint.ipynb
       "</div>"
      ],
      "text/plain": [
       "       Unnamed: 0  count  hate_speech  offensive_language  neither  class  \\\n",
       "0             0.0    3.0          0.0                 0.0      3.0      2   \n",
       "1             1.0    3.0          0.0                 3.0      0.0      1   \n",
       "2             2.0    3.0          0.0                 3.0      0.0      1   \n",
       "3             3.0    3.0          0.0                 2.0      1.0      1   \n",
       "4             4.0    6.0          0.0                 6.0      0.0      1   \n",
       "...           ...    ...          ...                 ...      ...    ...   \n",
       "34318         NaN    NaN          NaN                 NaN      NaN      0   \n",
       "34319         NaN    NaN          NaN                 NaN      NaN      0   \n",
       "34320         NaN    NaN          NaN                 NaN      NaN      0   \n",
       "34321         NaN    NaN          NaN                 NaN      NaN      0   \n",
       "34322         NaN    NaN          NaN                 NaN      NaN      0   \n",
       "\n",
       "                                                   tweet is_retweet  \\\n",
       "0      !!! RT @mayasolovely: As a woman you shouldn't...      False   \n",
       "1      !!!!! RT @mleew17: boy dats cold...tyga dwn ba...      False   \n",
       "2      !!!!!!! RT @UrKindOfBrand Dawg!!!! RT @80sbaby...      False   \n",
       "3      !!!!!!!!! RT @C_G_Anderson: @viva_based she lo...      False   \n",
       "4      !!!!!!!!!!!!! RT @ShenikaRoberts: The shit you...      False   \n",
       "...                                                  ...        ...   \n",
<<<<<<< HEAD:Copy_of_hate_speech_2_extra_data_gab12.ipynb
       "34318                                                NaN        NaN   \n",
       "34319                                                NaN        NaN   \n",
       "34320                                                NaN        NaN   \n",
       "34321                                                NaN        NaN   \n",
       "34322                                                NaN        NaN   \n",
=======
       "34320                                                NaN        NaN   \n",
       "34321                                                NaN        NaN   \n",
       "34322                                                NaN        NaN   \n",
       "34323                                                NaN        NaN   \n",
       "34324                                                NaN        NaN   \n",
>>>>>>> 7d11325816e9bbf2476260ae35eef9704214c307:.ipynb_checkpoints/Copy_of_hate_speech_2_extra_data_gab12-checkpoint.ipynb
       "\n",
       "               retweeted      mentioned hashtags  \\\n",
       "0        [@mayasolovely]             []       []   \n",
       "1             [@mleew17]             []       []   \n",
       "2       [@UrKindOfBrand]             []       []   \n",
       "3        [@C_G_Anderson]  [@viva_based]       []   \n",
       "4      [@ShenikaRoberts]             []       []   \n",
       "...                  ...            ...      ...   \n",
<<<<<<< HEAD:Copy_of_hate_speech_2_extra_data_gab12.ipynb
       "34318                NaN            NaN      NaN   \n",
       "34319                NaN            NaN      NaN   \n",
       "34320                NaN            NaN      NaN   \n",
       "34321                NaN            NaN      NaN   \n",
       "34322                NaN            NaN      NaN   \n",
=======
       "34320                NaN            NaN      NaN   \n",
       "34321                NaN            NaN      NaN   \n",
       "34322                NaN            NaN      NaN   \n",
       "34323                NaN            NaN      NaN   \n",
       "34324                NaN            NaN      NaN   \n",
>>>>>>> 7d11325816e9bbf2476260ae35eef9704214c307:.ipynb_checkpoints/Copy_of_hate_speech_2_extra_data_gab12-checkpoint.ipynb
       "\n",
       "                                             clean_tweet  \\\n",
       "0       woman shouldn complain cleaning house man alw...   \n",
       "1       boy dat cold tyga dwn bad cuffin dat hoe st p...   \n",
       "2           dawg ever fuck bitch start cry confused shit   \n",
       "3                                       look like tranny   \n",
       "4        shit hear might true might faker bitch told ya    \n",
       "...                                                  ...   \n",
       "34318   touching picture chelsea handler dad wow mora...   \n",
       "34319   demorat cocksucking pussy hating faggot would...   \n",
       "34320   remember month ago intern yelled obscenity pr...   \n",
       "34321   sweden four major daily aftonbladet se dn se ...   \n",
       "34322   absolutely unbelievably fascinating pakistani...   \n",
       "\n",
       "                                                    text  \n",
       "0                                                    NaN  \n",
       "1                                                    NaN  \n",
       "2                                                    NaN  \n",
       "3                                                    NaN  \n",
       "4                                                    NaN  \n",
       "...                                                  ...  \n",
       "34318  1. A \"touching\" picture of Chelsea Handler and...  \n",
       "34319  1. Only a Demorat cocksucking pussy hating fag...  \n",
       "34320  1. Remember this 3 months ago? The intern that...  \n",
       "34321  1. #Sweden's four major dailies aftonbladet.se...  \n",
       "34322  1. How absolutely unbelievably fascinating? A ...  \n",
       "\n",
<<<<<<< HEAD:Copy_of_hate_speech_2_extra_data_gab12.ipynb
       "[34323 rows x 13 columns]"
=======
       "[34325 rows x 13 columns]"
>>>>>>> 7d11325816e9bbf2476260ae35eef9704214c307:.ipynb_checkpoints/Copy_of_hate_speech_2_extra_data_gab12-checkpoint.ipynb
      ]
     },
     "execution_count": 26,
     "metadata": {},
     "output_type": "execute_result"
    }
   ],
   "source": [
    "# Join 3 datasets together\n",
    "bigdata = pd.concat([data, df1,gab], ignore_index=True, sort=False)\n",
    "bigdata"
   ]
  },
  {
   "cell_type": "code",
   "execution_count": 27,
   "metadata": {
    "colab": {
     "base_uri": "https://localhost:8080/",
     "height": 402
    },
    "id": "e7zzrC48XrCh",
    "outputId": "b857d39f-fb9b-458f-b969-89856f8e18e0"
   },
   "outputs": [
    {
<<<<<<< HEAD:Copy_of_hate_speech_2_extra_data_gab12.ipynb
=======
     "name": "stdout",
     "output_type": "stream",
     "text": [
      "hate speech:\n",
      "    Total: 34325\n",
      "    hate: 10972 (31.97% of total)\n",
      "\n",
      "offensive speech:\n",
      "    Total: 34325\n",
      "    Offensive: 19190 (55.91% of total)\n",
      "\n",
      "neither:\n",
      "    Total: 34325\n",
      "    Neither: 4163 (12.13% of total)\n",
      "\n"
     ]
    }
   ],
   "source": [
    "hate, offensive, neither = np.bincount(bigdata['class'])\n",
    "total = hate + offensive + neither\n",
    "print(f'hate speech:\\n    Total: {total}\\n    hate: {hate} ({(100 * hate / total):.2f}% of total)\\n')\n",
    "print(f'offensive speech:\\n    Total: {total}\\n    Offensive: {offensive} ({(100 * offensive / total):.2f}% of total)\\n')\n",
    "print(f'neither:\\n    Total: {total}\\n    Neither: {neither} ({(100 * neither / total):.2f}% of total)\\n')"
   ]
  },
  {
   "cell_type": "code",
   "execution_count": 28,
   "metadata": {},
   "outputs": [
    {
>>>>>>> 7d11325816e9bbf2476260ae35eef9704214c307:.ipynb_checkpoints/Copy_of_hate_speech_2_extra_data_gab12-checkpoint.ipynb
     "data": {
      "text/html": [
       "<div>\n",
       "<style scoped>\n",
       "    .dataframe tbody tr th:only-of-type {\n",
       "        vertical-align: middle;\n",
       "    }\n",
       "\n",
       "    .dataframe tbody tr th {\n",
       "        vertical-align: top;\n",
       "    }\n",
       "\n",
       "    .dataframe thead th {\n",
       "        text-align: right;\n",
       "    }\n",
       "</style>\n",
       "<table border=\"1\" class=\"dataframe\">\n",
       "  <thead>\n",
       "    <tr style=\"text-align: right;\">\n",
       "      <th></th>\n",
       "      <th>tweet</th>\n",
       "      <th>is_retweet</th>\n",
       "      <th>retweeted</th>\n",
       "      <th>mentioned</th>\n",
       "      <th>hashtags</th>\n",
       "      <th>clean_tweet</th>\n",
       "    </tr>\n",
       "  </thead>\n",
       "  <tbody>\n",
       "    <tr>\n",
<<<<<<< HEAD:Copy_of_hate_speech_2_extra_data_gab12.ipynb
       "      <th>0</th>\n",
       "      <td>!!! RT @mayasolovely: As a woman you shouldn't...</td>\n",
       "      <td>woman shouldn complain cleaning house man alw...</td>\n",
       "    </tr>\n",
       "    <tr>\n",
       "      <th>1</th>\n",
       "      <td>!!!!! RT @mleew17: boy dats cold...tyga dwn ba...</td>\n",
       "      <td>boy dat cold tyga dwn bad cuffin dat hoe st p...</td>\n",
       "    </tr>\n",
       "    <tr>\n",
       "      <th>2</th>\n",
       "      <td>!!!!!!! RT @UrKindOfBrand Dawg!!!! RT @80sbaby...</td>\n",
       "      <td>dawg ever fuck bitch start cry confused shit</td>\n",
       "    </tr>\n",
       "    <tr>\n",
       "      <th>3</th>\n",
       "      <td>!!!!!!!!! RT @C_G_Anderson: @viva_based she lo...</td>\n",
       "      <td>look like tranny</td>\n",
       "    </tr>\n",
       "    <tr>\n",
       "      <th>4</th>\n",
       "      <td>!!!!!!!!!!!!! RT @ShenikaRoberts: The shit you...</td>\n",
       "      <td>shit hear might true might faker bitch told ya</td>\n",
       "    </tr>\n",
       "    <tr>\n",
       "      <th>...</th>\n",
       "      <td>...</td>\n",
       "      <td>...</td>\n",
       "    </tr>\n",
       "    <tr>\n",
       "      <th>34318</th>\n",
=======
       "      <th>4828</th>\n",
       "      <td>4968.0</td>\n",
       "      <td>3.0</td>\n",
       "      <td>0.0</td>\n",
       "      <td>1.0</td>\n",
       "      <td>2.0</td>\n",
       "      <td>2</td>\n",
       "      <td>@TNKidsFoodPorn @Oreo ..............&amp;#128530;</td>\n",
       "      <td>False</td>\n",
       "      <td>[]</td>\n",
       "      <td>[@TNKidsFoodPorn, @Oreo]</td>\n",
       "      <td>[]</td>\n",
       "      <td></td>\n",
>>>>>>> 7d11325816e9bbf2476260ae35eef9704214c307:.ipynb_checkpoints/Copy_of_hate_speech_2_extra_data_gab12-checkpoint.ipynb
       "      <td>NaN</td>\n",
       "      <td>touching picture chelsea handler dad wow mora...</td>\n",
       "    </tr>\n",
       "    <tr>\n",
<<<<<<< HEAD:Copy_of_hate_speech_2_extra_data_gab12.ipynb
       "      <th>34319</th>\n",
       "      <td>NaN</td>\n",
       "      <td>demorat cocksucking pussy hating faggot would...</td>\n",
       "    </tr>\n",
       "    <tr>\n",
       "      <th>34320</th>\n",
       "      <td>NaN</td>\n",
       "      <td>remember month ago intern yelled obscenity pr...</td>\n",
       "    </tr>\n",
       "    <tr>\n",
       "      <th>34321</th>\n",
       "      <td>NaN</td>\n",
       "      <td>sweden four major daily aftonbladet se dn se ...</td>\n",
       "    </tr>\n",
       "    <tr>\n",
       "      <th>34322</th>\n",
=======
       "      <th>6098</th>\n",
       "      <td>6274.0</td>\n",
       "      <td>3.0</td>\n",
       "      <td>0.0</td>\n",
       "      <td>2.0</td>\n",
       "      <td>1.0</td>\n",
       "      <td>1</td>\n",
       "      <td>@hoes &amp;#9829;</td>\n",
       "      <td>False</td>\n",
       "      <td>[]</td>\n",
       "      <td>[@hoes]</td>\n",
       "      <td>[]</td>\n",
       "      <td></td>\n",
>>>>>>> 7d11325816e9bbf2476260ae35eef9704214c307:.ipynb_checkpoints/Copy_of_hate_speech_2_extra_data_gab12-checkpoint.ipynb
       "      <td>NaN</td>\n",
       "      <td>absolutely unbelievably fascinating pakistani...</td>\n",
       "    </tr>\n",
       "  </tbody>\n",
       "</table>\n",
       "<p>34323 rows × 2 columns</p>\n",
       "</div>"
      ],
      "text/plain": [
       "                                                   tweet  \\\n",
       "0      !!! RT @mayasolovely: As a woman you shouldn't...   \n",
       "1      !!!!! RT @mleew17: boy dats cold...tyga dwn ba...   \n",
       "2      !!!!!!! RT @UrKindOfBrand Dawg!!!! RT @80sbaby...   \n",
       "3      !!!!!!!!! RT @C_G_Anderson: @viva_based she lo...   \n",
       "4      !!!!!!!!!!!!! RT @ShenikaRoberts: The shit you...   \n",
       "...                                                  ...   \n",
       "34318                                                NaN   \n",
       "34319                                                NaN   \n",
       "34320                                                NaN   \n",
       "34321                                                NaN   \n",
       "34322                                                NaN   \n",
       "\n",
       "                                             clean_tweet  \n",
       "0       woman shouldn complain cleaning house man alw...  \n",
       "1       boy dat cold tyga dwn bad cuffin dat hoe st p...  \n",
       "2           dawg ever fuck bitch start cry confused shit  \n",
       "3                                       look like tranny  \n",
       "4        shit hear might true might faker bitch told ya   \n",
       "...                                                  ...  \n",
       "34318   touching picture chelsea handler dad wow mora...  \n",
       "34319   demorat cocksucking pussy hating faggot would...  \n",
       "34320   remember month ago intern yelled obscenity pr...  \n",
       "34321   sweden four major daily aftonbladet se dn se ...  \n",
       "34322   absolutely unbelievably fascinating pakistani...  \n",
       "\n",
<<<<<<< HEAD:Copy_of_hate_speech_2_extra_data_gab12.ipynb
       "[34323 rows x 2 columns]"
      ]
     },
     "execution_count": 27,
=======
       "                                              tweet is_retweet retweeted  \\\n",
       "4828  @TNKidsFoodPorn @Oreo ..............&#128530;      False        []   \n",
       "6098                                  @hoes &#9829;      False        []   \n",
       "\n",
       "                     mentioned hashtags clean_tweet text  \n",
       "4828  [@TNKidsFoodPorn, @Oreo]       []              NaN  \n",
       "6098                   [@hoes]       []              NaN  "
      ]
     },
     "execution_count": 28,
>>>>>>> 7d11325816e9bbf2476260ae35eef9704214c307:.ipynb_checkpoints/Copy_of_hate_speech_2_extra_data_gab12-checkpoint.ipynb
     "metadata": {},
     "output_type": "execute_result"
    }
   ],
   "source": [
    "bigdata[['tweet','clean_tweet']]"
   ]
  },
  {
   "cell_type": "code",
<<<<<<< HEAD:Copy_of_hate_speech_2_extra_data_gab12.ipynb
   "execution_count": 28,
   "metadata": {
    "colab": {
     "base_uri": "https://localhost:8080/"
=======
   "execution_count": 29,
   "metadata": {},
   "outputs": [],
   "source": [
    "bigdata = bigdata[bigdata['clean_tweet']!=' ']"
   ]
  },
  {
   "cell_type": "code",
   "execution_count": 30,
   "metadata": {},
   "outputs": [],
   "source": [
    "# Most Frequent Words for Each Classification\n",
    "# creating new dfs for each classification\n",
    "df_freq_hate = data[data['class']==0]\n",
    "df_freq_offensive = data[data['class']==1]\n",
    "df_freq_neither = data[data['class']==2]\n",
    "\n",
    "# pulling out the text data for cleaned tweets\n",
    "data_hate = df_freq_hate['clean_tweet']\n",
    "data_offensive = df_freq_offensive['clean_tweet']\n",
    "data_neither = df_freq_neither['clean_tweet']\n",
    "\n",
    "# function to tokenize tweets and remove stop words with NLTK built-in library\n",
    "stop_words = set(stopwords.words('english'))\n",
    "def process_tweet(text):\n",
    "    tokens = nltk.word_tokenize(text)\n",
    "    stopwords_removed = [token.lower() for token in tokens if token.lower() not in stop_words]\n",
    "    return stopwords_removed\n",
    "\n",
    "\n",
    "# creating lists for processed hate & not hate data\n",
    "process_hate = list(map(process_tweet, data_hate))\n",
    "process_offensive = list(map(process_tweet, data_offensive))\n",
    "process_neither = list(map(process_tweet, data_neither))"
   ]
  },
  {
   "cell_type": "code",
   "execution_count": 31,
   "metadata": {},
   "outputs": [
    {
     "data": {
      "text/plain": [
       "3195"
      ]
     },
     "execution_count": 31,
     "metadata": {},
     "output_type": "execute_result"
    }
   ],
   "source": [
    "# exact amount of hate speech\n",
    "total_vocab_hate = set()\n",
    "for comment in process_hate:\n",
    "    total_vocab_hate.update(comment)\n",
    "len(total_vocab_hate)"
   ]
  },
  {
   "cell_type": "code",
   "execution_count": 32,
   "metadata": {},
   "outputs": [
    {
     "data": {
      "text/plain": [
       "8654"
      ]
     },
     "execution_count": 32,
     "metadata": {},
     "output_type": "execute_result"
    }
   ],
   "source": [
    "# exact amount of neither\n",
    "total_vocab_neither = set()\n",
    "for comment in process_neither:\n",
    "    total_vocab_neither.update(comment)\n",
    "len(total_vocab_neither)"
   ]
  },
  {
   "cell_type": "code",
   "execution_count": 34,
   "metadata": {},
   "outputs": [
    {
     "data": {
      "image/png": "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\n",
      "text/plain": [
       "<Figure size 432x288 with 1 Axes>"
      ]
     },
     "metadata": {},
     "output_type": "display_data"
    }
   ],
   "source": [
    "flat_hate = [item for sublist in process_hate for item in sublist]\n",
    "flat_offensive = [item for sublist in process_offensive for item in sublist]\n",
    "flat_neither = [item for sublist in process_neither for item in sublist]\n",
    "\n",
    "# Import the library\n",
    "import matplotlib.pyplot as plt\n",
    "from matplotlib_venn import venn3\n",
    "\n",
    "venn3([set(flat_hate), set(flat_offensive), set(flat_neither)], set_labels = ('Hate Speech', 'Offensive Speech', 'Neither'))\n",
    "plt.title('Comparison of Unique Words in Each Corpus Label')\n",
    "plt.savefig('./word_venn.png', bbox_inches = \"tight\", pad_inches=.5)"
   ]
  },
  {
   "cell_type": "code",
   "execution_count": 187,
   "metadata": {},
   "outputs": [
    {
     "data": {
      "text/plain": [
       "Text(0.5, 1.0, 'Distribution of Class')"
      ]
     },
     "execution_count": 187,
     "metadata": {},
     "output_type": "execute_result"
>>>>>>> 7d11325816e9bbf2476260ae35eef9704214c307:.ipynb_checkpoints/Copy_of_hate_speech_2_extra_data_gab12-checkpoint.ipynb
    },
    "id": "abUIrjOSZA_C",
    "outputId": "7e5243f6-d944-42a3-cc7e-be37784f05f5"
   },
   "outputs": [
    {
     "name": "stdout",
     "output_type": "stream",
     "text": [
      "hate speech:\n",
      "    Total: 34323\n",
      "    hate: 10972 (31.97% of total)\n",
      "\n",
      "offensive speech:\n",
      "    Total: 34323\n",
      "    Offensive: 19189 (55.91% of total)\n",
      "\n",
      "neither:\n",
      "    Total: 34323\n",
      "    Neither: 4162 (12.13% of total)\n",
      "\n"
     ]
    }
   ],
   "source": [
    "# Data Distribution\n",
    "hate, offensive, neither = np.bincount(bigdata['class'])\n",
    "total = hate + offensive + neither\n",
    "print(f'hate speech:\\n    Total: {total}\\n    hate: {hate} ({(100 * hate / total):.2f}% of total)\\n')\n",
    "print(f'offensive speech:\\n    Total: {total}\\n    Offensive: {offensive} ({(100 * offensive / total):.2f}% of total)\\n')\n",
    "print(f'neither:\\n    Total: {total}\\n    Neither: {neither} ({(100 * neither / total):.2f}% of total)\\n')"
   ]
  },
  {
   "cell_type": "code",
   "execution_count": 29,
   "metadata": {
    "id": "ppXP6-C3lWMF"
   },
   "outputs": [],
   "source": [
    "df = bigdata['clean_tweet']\n",
    "target = bigdata['class']"
   ]
  },
  {
   "cell_type": "code",
   "execution_count": 30,
   "metadata": {
    "id": "bjmo6bPMlWMF"
   },
   "outputs": [],
   "source": [
    "# Tokenizing\n",
    "# function to tokenize \n",
    "\n",
    "def unfiltered_tokens(text):\n",
    "    dirty_tokens = nltk.word_tokenize(text)\n",
    "    return dirty_tokens"
   ]
  },
  {
   "cell_type": "code",
   "execution_count": 31,
   "metadata": {
    "id": "EqYH0ZMdlWMG"
   },
   "outputs": [],
   "source": [
    "# applying this function to the `clean_tweets` column\n",
    "\n",
    "processed_data = list(map(unfiltered_tokens, df))"
   ]
  },
  {
   "cell_type": "code",
   "execution_count": 32,
   "metadata": {
    "id": "R-2vqoGPlWMH"
   },
   "outputs": [],
   "source": [
    "# morphing `processed_data` into a readable list\n",
    "\n",
    "flat_unfiltered = [item for sublist in processed_data for item in sublist]"
   ]
  },
  {
   "cell_type": "code",
   "execution_count": 33,
   "metadata": {
    "colab": {
     "base_uri": "https://localhost:8080/"
    },
    "id": "T0xJBv30lWMI",
    "outputId": "b3f52d5b-ec88-4822-efad-57d635cb9c28"
   },
   "outputs": [
    {
     "data": {
      "text/plain": [
       "[('bitch', 11805),\n",
       " ('like', 4381),\n",
       " ('hoe', 4356),\n",
       " ('nigger', 3367),\n",
       " ('not', 3033),\n",
       " ('get', 2514),\n",
       " ('pussy', 2361),\n",
       " ('don', 2343),\n",
       " ('no', 2337),\n",
       " ('faggot', 2322),\n",
       " ('fuck', 2080),\n",
       " ('nigga', 2025),\n",
       " ('shit', 1987),\n",
       " ('got', 1958),\n",
       " ('as', 1914),\n",
       " ('cunt', 1819),\n",
       " ('white', 1733),\n",
       " ('one', 1623),\n",
       " ('’', 1469),\n",
       " ('retarded', 1461)]"
      ]
     },
     "execution_count": 33,
     "metadata": {},
     "output_type": "execute_result"
    }
   ],
   "source": [
    "# getting frequency distribution\n",
    "corpus_freqdist = FreqDist(flat_unfiltered)\n",
    "\n",
    "# top 20 words in the corpus\n",
    "corpus_freqdist.most_common(20)"
   ]
  },
  {
   "cell_type": "code",
   "execution_count": 34,
   "metadata": {
    "colab": {
     "base_uri": "https://localhost:8080/"
    },
    "id": "NfZYAtbFlWMJ",
    "outputId": "a342a651-074a-4f9b-885e-d3015f4a351f"
   },
   "outputs": [
    {
     "data": {
      "text/plain": [
       "31613"
      ]
     },
     "execution_count": 34,
     "metadata": {},
     "output_type": "execute_result"
    }
   ],
   "source": [
    "total_vocab = set()\n",
    "for comment in processed_data:\n",
    "    total_vocab.update(comment)\n",
    "len(total_vocab)\n",
    "\n",
    "# Our corpus has a vocabulary of 17963. \n",
    "# This would also be the number of columns in the sparse matrix after we vectorize the data later."
   ]
  },
  {
   "cell_type": "code",
   "execution_count": 35,
   "metadata": {
    "id": "mZdU9OVzlWMO"
   },
   "outputs": [],
   "source": [
    "# Lemmatization: it reduces each word into a linguistically valid lemma, or root word. \n",
    "# It does this through linguistic mappings, using the WordNet lexical database.\n",
    "\n",
    "# creating a list with all lemmatized outputs\n",
    "lemmatizer = WordNetLemmatizer() \n",
    "lemmatized_output = []\n",
    "\n",
    "for listy in processed_data:\n",
    "    lemmed = ' '.join([lemmatizer.lemmatize(w) for w in listy])\n",
    "    lemmatized_output.append(lemmed)"
   ]
  },
  {
   "cell_type": "code",
   "execution_count": 36,
   "metadata": {
    "id": "UZVa_Lu2lWMP"
   },
   "outputs": [],
   "source": [
    "X_lem = lemmatized_output\n",
    "y_lem = target"
   ]
  },
  {
   "cell_type": "code",
   "execution_count": 37,
   "metadata": {
    "id": "o0x3mEFUlWMQ"
   },
   "outputs": [],
   "source": [
    "X_train, X_test, y_train, y_test = train_test_split(X_lem, y_lem, test_size=0.2, random_state= 20)\n",
    "\n",
    "# using tf_idf vectorizor\n",
    "tfidf = TfidfVectorizer()"
   ]
  },
  {
   "cell_type": "code",
   "execution_count": 43,
   "metadata": {
    "id": "PF0dw-8GlWMQ"
   },
   "outputs": [],
   "source": [
    "# sparse matrix format with 15671 stored elements\n",
    "tfidf_data_train = tfidf.fit_transform(X_train)\n",
    "tfidf_data_test = tfidf.transform(X_test)"
   ]
  },
  {
   "cell_type": "code",
   "execution_count": 44,
   "metadata": {
    "colab": {
     "base_uri": "https://localhost:8080/",
     "height": 392
    },
    "id": "HNEhU98pcE0X",
    "outputId": "0e68ab47-682c-4e0a-b6c7-1186a0150df2"
   },
   "outputs": [
    {
     "data": {
      "text/html": [
       "<div>\n",
       "<style scoped>\n",
       "    .dataframe tbody tr th:only-of-type {\n",
       "        vertical-align: middle;\n",
       "    }\n",
       "\n",
       "    .dataframe tbody tr th {\n",
       "        vertical-align: top;\n",
       "    }\n",
       "\n",
       "    .dataframe thead th {\n",
       "        text-align: right;\n",
       "    }\n",
       "</style>\n",
       "<table border=\"1\" class=\"dataframe\">\n",
       "  <thead>\n",
       "    <tr style=\"text-align: right;\">\n",
       "      <th></th>\n",
       "      <th>aa</th>\n",
       "      <th>aaaaaaaaand</th>\n",
       "      <th>aaaaahhh</th>\n",
       "      <th>aaaand</th>\n",
       "      <th>aaahahahahhaahahaa</th>\n",
       "      <th>aaahhhhh</th>\n",
       "      <th>aahahah</th>\n",
       "      <th>aaliyah</th>\n",
       "      <th>aamu</th>\n",
       "      <th>aan</th>\n",
       "      <th>...</th>\n",
       "      <th>¾ð</th>\n",
       "      <th>är</th>\n",
       "      <th>äußern</th>\n",
       "      <th>ä¼</th>\n",
       "      <th>étonnant</th>\n",
       "      <th>över</th>\n",
       "      <th>øbama</th>\n",
       "      <th>øh</th>\n",
       "      <th>σπάρτακος</th>\n",
       "      <th>कर</th>\n",
       "    </tr>\n",
       "  </thead>\n",
       "  <tbody>\n",
       "    <tr>\n",
       "      <th>0</th>\n",
       "      <td>0.0</td>\n",
       "      <td>0.0</td>\n",
       "      <td>0.0</td>\n",
       "      <td>0.0</td>\n",
       "      <td>0.0</td>\n",
       "      <td>0.0</td>\n",
       "      <td>0.0</td>\n",
       "      <td>0.0</td>\n",
       "      <td>0.0</td>\n",
       "      <td>0.0</td>\n",
       "      <td>...</td>\n",
       "      <td>0.0</td>\n",
       "      <td>0.0</td>\n",
       "      <td>0.0</td>\n",
       "      <td>0.0</td>\n",
       "      <td>0.0</td>\n",
       "      <td>0.0</td>\n",
       "      <td>0.0</td>\n",
       "      <td>0.0</td>\n",
       "      <td>0.0</td>\n",
       "      <td>0.0</td>\n",
       "    </tr>\n",
       "    <tr>\n",
       "      <th>1</th>\n",
       "      <td>0.0</td>\n",
       "      <td>0.0</td>\n",
       "      <td>0.0</td>\n",
       "      <td>0.0</td>\n",
       "      <td>0.0</td>\n",
       "      <td>0.0</td>\n",
       "      <td>0.0</td>\n",
       "      <td>0.0</td>\n",
       "      <td>0.0</td>\n",
       "      <td>0.0</td>\n",
       "      <td>...</td>\n",
       "      <td>0.0</td>\n",
       "      <td>0.0</td>\n",
       "      <td>0.0</td>\n",
       "      <td>0.0</td>\n",
       "      <td>0.0</td>\n",
       "      <td>0.0</td>\n",
       "      <td>0.0</td>\n",
       "      <td>0.0</td>\n",
       "      <td>0.0</td>\n",
       "      <td>0.0</td>\n",
       "    </tr>\n",
       "    <tr>\n",
       "      <th>2</th>\n",
       "      <td>0.0</td>\n",
       "      <td>0.0</td>\n",
       "      <td>0.0</td>\n",
       "      <td>0.0</td>\n",
       "      <td>0.0</td>\n",
       "      <td>0.0</td>\n",
       "      <td>0.0</td>\n",
       "      <td>0.0</td>\n",
       "      <td>0.0</td>\n",
       "      <td>0.0</td>\n",
       "      <td>...</td>\n",
       "      <td>0.0</td>\n",
       "      <td>0.0</td>\n",
       "      <td>0.0</td>\n",
       "      <td>0.0</td>\n",
       "      <td>0.0</td>\n",
       "      <td>0.0</td>\n",
       "      <td>0.0</td>\n",
       "      <td>0.0</td>\n",
       "      <td>0.0</td>\n",
       "      <td>0.0</td>\n",
       "    </tr>\n",
       "    <tr>\n",
       "      <th>3</th>\n",
       "      <td>0.0</td>\n",
       "      <td>0.0</td>\n",
       "      <td>0.0</td>\n",
       "      <td>0.0</td>\n",
       "      <td>0.0</td>\n",
       "      <td>0.0</td>\n",
       "      <td>0.0</td>\n",
       "      <td>0.0</td>\n",
       "      <td>0.0</td>\n",
       "      <td>0.0</td>\n",
       "      <td>...</td>\n",
       "      <td>0.0</td>\n",
       "      <td>0.0</td>\n",
       "      <td>0.0</td>\n",
       "      <td>0.0</td>\n",
       "      <td>0.0</td>\n",
       "      <td>0.0</td>\n",
       "      <td>0.0</td>\n",
       "      <td>0.0</td>\n",
       "      <td>0.0</td>\n",
       "      <td>0.0</td>\n",
       "    </tr>\n",
       "    <tr>\n",
       "      <th>4</th>\n",
       "      <td>0.0</td>\n",
       "      <td>0.0</td>\n",
       "      <td>0.0</td>\n",
       "      <td>0.0</td>\n",
       "      <td>0.0</td>\n",
       "      <td>0.0</td>\n",
       "      <td>0.0</td>\n",
       "      <td>0.0</td>\n",
       "      <td>0.0</td>\n",
       "      <td>0.0</td>\n",
       "      <td>...</td>\n",
       "      <td>0.0</td>\n",
       "      <td>0.0</td>\n",
       "      <td>0.0</td>\n",
       "      <td>0.0</td>\n",
       "      <td>0.0</td>\n",
       "      <td>0.0</td>\n",
       "      <td>0.0</td>\n",
       "      <td>0.0</td>\n",
       "      <td>0.0</td>\n",
       "      <td>0.0</td>\n",
       "    </tr>\n",
       "    <tr>\n",
       "      <th>5</th>\n",
       "      <td>0.0</td>\n",
       "      <td>0.0</td>\n",
       "      <td>0.0</td>\n",
       "      <td>0.0</td>\n",
       "      <td>0.0</td>\n",
       "      <td>0.0</td>\n",
       "      <td>0.0</td>\n",
       "      <td>0.0</td>\n",
       "      <td>0.0</td>\n",
       "      <td>0.0</td>\n",
       "      <td>...</td>\n",
       "      <td>0.0</td>\n",
       "      <td>0.0</td>\n",
       "      <td>0.0</td>\n",
       "      <td>0.0</td>\n",
       "      <td>0.0</td>\n",
       "      <td>0.0</td>\n",
       "      <td>0.0</td>\n",
       "      <td>0.0</td>\n",
       "      <td>0.0</td>\n",
       "      <td>0.0</td>\n",
       "    </tr>\n",
       "    <tr>\n",
       "      <th>6</th>\n",
       "      <td>0.0</td>\n",
       "      <td>0.0</td>\n",
       "      <td>0.0</td>\n",
       "      <td>0.0</td>\n",
       "      <td>0.0</td>\n",
       "      <td>0.0</td>\n",
       "      <td>0.0</td>\n",
       "      <td>0.0</td>\n",
       "      <td>0.0</td>\n",
       "      <td>0.0</td>\n",
       "      <td>...</td>\n",
       "      <td>0.0</td>\n",
       "      <td>0.0</td>\n",
       "      <td>0.0</td>\n",
       "      <td>0.0</td>\n",
       "      <td>0.0</td>\n",
       "      <td>0.0</td>\n",
       "      <td>0.0</td>\n",
       "      <td>0.0</td>\n",
       "      <td>0.0</td>\n",
       "      <td>0.0</td>\n",
       "    </tr>\n",
       "    <tr>\n",
       "      <th>7</th>\n",
       "      <td>0.0</td>\n",
       "      <td>0.0</td>\n",
       "      <td>0.0</td>\n",
       "      <td>0.0</td>\n",
       "      <td>0.0</td>\n",
       "      <td>0.0</td>\n",
       "      <td>0.0</td>\n",
       "      <td>0.0</td>\n",
       "      <td>0.0</td>\n",
       "      <td>0.0</td>\n",
       "      <td>...</td>\n",
       "      <td>0.0</td>\n",
       "      <td>0.0</td>\n",
       "      <td>0.0</td>\n",
       "      <td>0.0</td>\n",
       "      <td>0.0</td>\n",
       "      <td>0.0</td>\n",
       "      <td>0.0</td>\n",
       "      <td>0.0</td>\n",
       "      <td>0.0</td>\n",
       "      <td>0.0</td>\n",
       "    </tr>\n",
       "    <tr>\n",
       "      <th>8</th>\n",
       "      <td>0.0</td>\n",
       "      <td>0.0</td>\n",
       "      <td>0.0</td>\n",
       "      <td>0.0</td>\n",
       "      <td>0.0</td>\n",
       "      <td>0.0</td>\n",
       "      <td>0.0</td>\n",
       "      <td>0.0</td>\n",
       "      <td>0.0</td>\n",
       "      <td>0.0</td>\n",
       "      <td>...</td>\n",
       "      <td>0.0</td>\n",
       "      <td>0.0</td>\n",
       "      <td>0.0</td>\n",
       "      <td>0.0</td>\n",
       "      <td>0.0</td>\n",
       "      <td>0.0</td>\n",
       "      <td>0.0</td>\n",
       "      <td>0.0</td>\n",
       "      <td>0.0</td>\n",
       "      <td>0.0</td>\n",
       "    </tr>\n",
       "    <tr>\n",
       "      <th>9</th>\n",
       "      <td>0.0</td>\n",
       "      <td>0.0</td>\n",
       "      <td>0.0</td>\n",
       "      <td>0.0</td>\n",
       "      <td>0.0</td>\n",
       "      <td>0.0</td>\n",
       "      <td>0.0</td>\n",
       "      <td>0.0</td>\n",
       "      <td>0.0</td>\n",
       "      <td>0.0</td>\n",
       "      <td>...</td>\n",
       "      <td>0.0</td>\n",
       "      <td>0.0</td>\n",
       "      <td>0.0</td>\n",
       "      <td>0.0</td>\n",
       "      <td>0.0</td>\n",
       "      <td>0.0</td>\n",
       "      <td>0.0</td>\n",
       "      <td>0.0</td>\n",
       "      <td>0.0</td>\n",
       "      <td>0.0</td>\n",
       "    </tr>\n",
       "  </tbody>\n",
       "</table>\n",
       "<p>10 rows × 27526 columns</p>\n",
       "</div>"
      ],
      "text/plain": [
       "    aa  aaaaaaaaand  aaaaahhh  aaaand  aaahahahahhaahahaa  aaahhhhh  aahahah  \\\n",
       "0  0.0          0.0       0.0     0.0                 0.0       0.0      0.0   \n",
       "1  0.0          0.0       0.0     0.0                 0.0       0.0      0.0   \n",
       "2  0.0          0.0       0.0     0.0                 0.0       0.0      0.0   \n",
       "3  0.0          0.0       0.0     0.0                 0.0       0.0      0.0   \n",
       "4  0.0          0.0       0.0     0.0                 0.0       0.0      0.0   \n",
       "5  0.0          0.0       0.0     0.0                 0.0       0.0      0.0   \n",
       "6  0.0          0.0       0.0     0.0                 0.0       0.0      0.0   \n",
       "7  0.0          0.0       0.0     0.0                 0.0       0.0      0.0   \n",
       "8  0.0          0.0       0.0     0.0                 0.0       0.0      0.0   \n",
       "9  0.0          0.0       0.0     0.0                 0.0       0.0      0.0   \n",
       "\n",
       "   aaliyah  aamu  aan  ...   ¾ð   är  äußern   ä¼  étonnant  över  øbama   øh  \\\n",
       "0      0.0   0.0  0.0  ...  0.0  0.0     0.0  0.0       0.0   0.0    0.0  0.0   \n",
       "1      0.0   0.0  0.0  ...  0.0  0.0     0.0  0.0       0.0   0.0    0.0  0.0   \n",
       "2      0.0   0.0  0.0  ...  0.0  0.0     0.0  0.0       0.0   0.0    0.0  0.0   \n",
       "3      0.0   0.0  0.0  ...  0.0  0.0     0.0  0.0       0.0   0.0    0.0  0.0   \n",
       "4      0.0   0.0  0.0  ...  0.0  0.0     0.0  0.0       0.0   0.0    0.0  0.0   \n",
       "5      0.0   0.0  0.0  ...  0.0  0.0     0.0  0.0       0.0   0.0    0.0  0.0   \n",
       "6      0.0   0.0  0.0  ...  0.0  0.0     0.0  0.0       0.0   0.0    0.0  0.0   \n",
       "7      0.0   0.0  0.0  ...  0.0  0.0     0.0  0.0       0.0   0.0    0.0  0.0   \n",
       "8      0.0   0.0  0.0  ...  0.0  0.0     0.0  0.0       0.0   0.0    0.0  0.0   \n",
       "9      0.0   0.0  0.0  ...  0.0  0.0     0.0  0.0       0.0   0.0    0.0  0.0   \n",
       "\n",
       "   σπάρτακος   कर  \n",
       "0        0.0  0.0  \n",
       "1        0.0  0.0  \n",
       "2        0.0  0.0  \n",
       "3        0.0  0.0  \n",
       "4        0.0  0.0  \n",
       "5        0.0  0.0  \n",
       "6        0.0  0.0  \n",
       "7        0.0  0.0  \n",
       "8        0.0  0.0  \n",
       "9        0.0  0.0  \n",
       "\n",
       "[10 rows x 27526 columns]"
      ]
     },
     "execution_count": 44,
     "metadata": {},
     "output_type": "execute_result"
    }
   ],
   "source": [
    "# TFIDF table\n",
    "df_tfidf = pd.DataFrame(tfidf_data_train.toarray(), columns = tfidf.get_feature_names())\n",
    "df_tfidf.head(10)"
   ]
  },
  {
   "cell_type": "code",
   "execution_count": 45,
   "metadata": {
    "colab": {
     "base_uri": "https://localhost:8080/"
    },
    "id": "eIUzmytglWMS",
    "outputId": "64f6b75c-d8ef-4108-e94d-fdf97ee7b8ae"
   },
   "outputs": [
    {
     "name": "stdout",
     "output_type": "stream",
     "text": [
      "Average Number of Non-Zero Elements in Vectorized Articles: 10.202308980989146\n",
      "Percentage of columns containing ZERO: 0.9996293573719033\n"
     ]
    }
   ],
   "source": [
    "# taking a quick look of the non zero elements\n",
    "non_zero_cols = tfidf_data_train.nnz / float(tfidf_data_train.shape[0])\n",
    "print(\"Average Number of Non-Zero Elements in Vectorized Articles: {}\".format(non_zero_cols))\n",
    "\n",
    "percent_sparse = 1 - (non_zero_cols / float(tfidf_data_train.shape[1]))\n",
    "print('Percentage of columns containing ZERO: {}'.format(percent_sparse))\n",
    "\n",
    "# 99.9% of the columns contain a zero, meaning that's a very sparse matrix"
   ]
  },
  {
   "cell_type": "code",
   "execution_count": 46,
   "metadata": {
    "id": "R3hBcwZXlWMU"
   },
   "outputs": [],
   "source": [
    "# creating single df for training set\n",
    "X_train_df = pd.DataFrame(data=tfidf_data_train, index=None, columns=['clean_tweet']) \n",
    "y_train_df = pd.DataFrame(data=y_train, index=None, columns=['class']) \n",
    "# joining them\n",
    "training = pd.concat([X_train_df, y_train_df], axis=1)"
   ]
  },
  {
   "cell_type": "code",
   "execution_count": 47,
   "metadata": {
    "colab": {
     "base_uri": "https://localhost:8080/",
     "height": 195
    },
    "id": "REzMQNCklWMV",
    "outputId": "10009eb6-edaa-4bd5-bd97-08cbb4370e2d"
   },
   "outputs": [
    {
     "data": {
      "text/html": [
       "<div>\n",
       "<style scoped>\n",
       "    .dataframe tbody tr th:only-of-type {\n",
       "        vertical-align: middle;\n",
       "    }\n",
       "\n",
       "    .dataframe tbody tr th {\n",
       "        vertical-align: top;\n",
       "    }\n",
       "\n",
       "    .dataframe thead th {\n",
       "        text-align: right;\n",
       "    }\n",
       "</style>\n",
       "<table border=\"1\" class=\"dataframe\">\n",
       "  <thead>\n",
       "    <tr style=\"text-align: right;\">\n",
       "      <th></th>\n",
       "      <th>clean_tweet</th>\n",
       "      <th>class</th>\n",
       "    </tr>\n",
       "  </thead>\n",
       "  <tbody>\n",
       "    <tr>\n",
       "      <th>0</th>\n",
       "      <td>(0, 6125)\\t0.40905500413014356\\n  (0, 3398)\\...</td>\n",
       "      <td>2.0</td>\n",
       "    </tr>\n",
       "    <tr>\n",
       "      <th>1</th>\n",
       "      <td>(0, 4761)\\t0.33090792103349687\\n  (0, 8123)\\...</td>\n",
       "      <td>NaN</td>\n",
       "    </tr>\n",
       "    <tr>\n",
       "      <th>2</th>\n",
       "      <td>(0, 19317)\\t0.5373632531205229\\n  (0, 21868)...</td>\n",
       "      <td>NaN</td>\n",
       "    </tr>\n",
       "    <tr>\n",
       "      <th>3</th>\n",
       "      <td>(0, 24762)\\t0.5448176279387758\\n  (0, 15651)...</td>\n",
       "      <td>1.0</td>\n",
       "    </tr>\n",
       "    <tr>\n",
       "      <th>4</th>\n",
       "      <td>(0, 23728)\\t0.21148905673688537\\n  (0, 23863...</td>\n",
       "      <td>1.0</td>\n",
       "    </tr>\n",
       "  </tbody>\n",
       "</table>\n",
       "</div>"
      ],
      "text/plain": [
       "                                         clean_tweet  class\n",
       "0    (0, 6125)\\t0.40905500413014356\\n  (0, 3398)\\...    2.0\n",
       "1    (0, 4761)\\t0.33090792103349687\\n  (0, 8123)\\...    NaN\n",
       "2    (0, 19317)\\t0.5373632531205229\\n  (0, 21868)...    NaN\n",
       "3    (0, 24762)\\t0.5448176279387758\\n  (0, 15651)...    1.0\n",
       "4    (0, 23728)\\t0.21148905673688537\\n  (0, 23863...    1.0"
      ]
     },
     "execution_count": 47,
     "metadata": {},
     "output_type": "execute_result"
    }
   ],
   "source": [
    "training.head()"
   ]
  },
  {
   "cell_type": "code",
   "execution_count": 48,
   "metadata": {
    "id": "0TtamXx8lWMW"
   },
   "outputs": [],
   "source": [
    "# separate minority and majority classes\n",
    "hate = training[training['class']==0]\n",
    "offensive = training[training['class']==1]\n",
    "neither = training[training['class']==2]\n"
   ]
  },
  {
   "cell_type": "code",
   "execution_count": 49,
   "metadata": {
    "colab": {
     "base_uri": "https://localhost:8080/"
    },
    "id": "rk6aKuLwlWMY",
    "outputId": "f550ed5a-926f-4f75-d830-aca15fb89997"
   },
   "outputs": [
    {
     "name": "stdout",
     "output_type": "stream",
     "text": [
      "(8780, 2)\n",
      "(15345, 2)\n",
      "(3333, 2)\n"
     ]
    }
   ],
   "source": [
    "print(hate.shape)\n",
    "print(offensive.shape)\n",
    "print(neither.shape)"
   ]
  },
  {
   "cell_type": "markdown",
   "metadata": {
    "id": "ZKMbJT5mlWMY"
   },
   "source": [
    "We can see that this data has a huge class imbalance. After running a baseline, we can try oversampling the minority class (hate speech) with SMOTE and undersampling the majority class with Tomek Links."
   ]
  },
  {
   "cell_type": "markdown",
   "metadata": {
    "id": "Km1XPOLFlWMD"
   },
   "source": [
    "## Test traditional models"
   ]
  },
  {
   "cell_type": "markdown",
   "metadata": {
    "id": "rx39qO8ulWMZ"
   },
   "source": [
    "### Baseline Random Forest"
   ]
  },
  {
   "cell_type": "code",
   "execution_count": 50,
   "metadata": {
    "id": "gvF5pIw4lWMa"
   },
   "outputs": [],
   "source": [
    "rf_baseline = RandomForestClassifier(n_estimators=100, class_weight='balanced', random_state=0)\n",
    "# adding class_weight='balanced' increased accuracy & precision but decreased F1"
   ]
  },
  {
   "cell_type": "code",
   "execution_count": 51,
   "metadata": {
    "colab": {
     "base_uri": "https://localhost:8080/"
    },
    "id": "Uh182VFilWMa",
    "outputId": "821cdd27-9b3a-4704-a885-997a8301d676"
   },
   "outputs": [
    {
     "name": "stdout",
     "output_type": "stream",
     "text": [
      "              precision    recall  f1-score   support\n",
      "\n",
      "           0       0.87      0.88      0.87      2192\n",
      "           1       0.92      0.92      0.92      3844\n",
      "           2       0.81      0.76      0.79       829\n",
      "\n",
      "    accuracy                           0.89      6865\n",
      "   macro avg       0.87      0.86      0.86      6865\n",
      "weighted avg       0.89      0.89      0.89      6865\n",
      "\n"
     ]
    }
   ],
   "source": [
    "rf_baseline.fit(tfidf_data_train, y_train)\n",
    "rf_test_preds = rf_baseline.predict(tfidf_data_test)\n",
    "\n",
    "rf_baseline_report = classification_report(y_test, rf_test_preds)\n",
    "print(rf_baseline_report)"
   ]
  },
  {
   "cell_type": "code",
   "execution_count": 52,
   "metadata": {
    "colab": {
     "base_uri": "https://localhost:8080/",
     "height": 341
    },
    "id": "y1J6Y4OwlWMb",
    "outputId": "b19ee0ee-ebd8-4ab6-cf3c-8e0a3b3c77c2"
   },
   "outputs": [
    {
     "data": {
      "image/png": "iVBORw0KGgoAAAANSUhEUgAAAUQAAAFECAYAAABf6kfGAAAAOXRFWHRTb2Z0d2FyZQBNYXRwbG90bGliIHZlcnNpb24zLjMuNCwgaHR0cHM6Ly9tYXRwbG90bGliLm9yZy8QVMy6AAAACXBIWXMAAAsTAAALEwEAmpwYAAA15ElEQVR4nO3dd3hVRfrA8e8LCZrQBUGUJt1KXQVEpQqugLCsu6Ky6qr87GV1EddFBNtaUdRFxYJL0V1RkWYDRVGwBRQbJZAgRcTQQgoJCe/vj5nEm35DknMTeD/Pc5/cO2fOOXNOct/MnDNnRlQVY4wxUC3SBTDGmMrCAqIxxngWEI0xxrOAaIwxngVEY4zxLCAaY4wXFekCHIzatWtbX6EAJCQkRLoIh40GDRpEugiHDRGRopZZDdEYYzwLiMYY41lANMYYzwKiMcZ4FhCNMcazgGiMMZ4FRGOM8SwgGmOMZwHRGGM8C4jGGONZQDTGGM8CojHGeBYQjTHGs4BojDGeBURjjPEsIBpjjGcB0RhjPAuIxhjjWUA0xhjPAqIxxngWEI0xxrOAaIwxngVEY4zxLCAaY4xnAdEYYzwLiMYY41lANMYYzwKiMcZ4FhCNMcazgGiMMZ4FRGOM8SwgGmOMZwHRGGM8C4jGGONZQDTGGM8CojHGeBYQjTHGs4BojDGeBURjjPEsIJZB/fr1mTVrFtu2beP777/nggsuKDLvuHHjWLNmDZs3b2bhwoV06NAhd1nz5s2ZPXs2P/30E/Hx8TzyyCNUr149iEOoMpKTk7njjjvo168ff/jDH3jvvfeKzPvqq68yZMgQzjnnHO6//34yMzNzlyUmJnLDDTdwzjnn8Kc//YmPPvooiOJXGbt37+b666+nc+fO9O3bl3nz5hWZd9q0afTq1Ytu3brxj3/8I895/vvf/86ZZ55J165dGThwIK+99loQxS8zC4hl8Oijj5KZmUnr1q258sormTRpUp5Al2P48OGMGjWKgQMH0rx5c7744gumTp2au/yxxx4jKSmJtm3b0rNnT3r16sVVV10V5KFUeo8++ihRUVHMmzeP8ePH88gjj7Bhw4YC+T7//HNmzJjBE088wezZs9m6dSsvvPACAFlZWYwdO5YzzjiDt99+m9tvv52JEyfy008/BX04ldbEiROJjo7mk08+4eGHH2bChAmsW7euQL6lS5cydepUXnrpJRYvXsymTZt48sknc5ePHj2axYsXExcXx5QpU3jiiSf47rvvgjyUg2IB8SDFxsZy/vnnc++995Kamsry5ctZuHAhI0eOLJC3ZcuWLF++nMTERA4cOMCrr76aJ3C2bNmSN954g4yMDLZv386iRYs44YQTgjycSi09PZ0lS5Zw1VVXERsbS8eOHenVqxfvvvtugbxvv/02gwcPplWrVtSpU4fLLruMhQsXAvDTTz+RlJTEn//8Z6pXr07Xrl055ZRTeOedd4I+pEopLS2N999/nxtvvJGaNWvStWtX+vbty9y5cwvknTNnDiNGjKBt27bUrVuXa6+9ljfffDN3edu2balRo0buZxFh06ZNgRxHWVhAPEht2rQhOzub+Pj43LTvvvuu0EA2e/ZsWrVqRZs2bYiKiuLiiy9m0aJFucv//e9/M2LECGJiYmjSpAkDBgzIs/xwt2nTJqpVq0bz5s1z09q0aUNCQkKBvAkJCbRp0yZPvp07d7Jnzx5UtUB+VS10O4ejxMREqlWrxvHHH5+b1r59+0JriPHx8Xn+qXfo0IGkpCR27dqVmzZhwgQ6derE73//e44++mjOOuusij2AchB4QBSRI0TkPhHZICJ7fNo5InJ90GUpi1q1apGcnJwnLTk5mVq1ahXIu23bNpYtW8bKlSv59ddfGTZsGGPHjs1d/umnn3LCCSewdetW1q5dy8qVK4u9dnO4SUtLK3Bea9WqRVpaWol5c96npaXRokWL3Ou+WVlZfP7553z99dfs27evYg+gikhLS6N27dp50mrXrk1qamqJeXPOc2je8ePHExcXx8yZMxkwYECeGmNlFYka4iTgZOBiIOdf9vfANcWtJCKjReQrEflq//79FVzEkqWkpBT6x5OSklIg7x133EHXrl1p3749DRs25F//+hfz588nJiYGEeHNN99k7ty5NG7cmBYtWlCvXj3uueeeoA6l0ouNjS3wpUxNTSU2NrbEvDnvY2NjiYqK4oEHHmDZsmUMGTKEV199lb59+9KoUaOKPYAqIjY2tsDfb0pKCjVr1iwxb877/HlzLk1s27aNV155pQJKXb4iERCHAxep6nLgAICqbgGOK24lVX1OVbuparfo6OgAilm8+Ph4oqKiaN26dW7aySefzI8//lgg7ymnnMLrr7/O1q1byc7OZubMmdSrV48OHTpw1FFH0axZM5577jkyMzPZuXMnM2bM4JxzzgnycCq1Zs2akZ2dnecaVHx8fJ6mXY7jjz8+z2WM+Ph4jjrqKOrWrQu4JvTTTz/N22+/zaRJk9i6datdr/VatmxJdnY2iYmJuWlr1qyhbdu2BfK2adOG1atX58nXsGFD6tevX+i28//+KqtIBMRMICo0QUSOBnZEoCwHLS0tjblz53LnnXcSGxtL9+7dOe+88wr9LxgXF8fw4cM5+uijEREuvPBCoqOj2bBhAzt27CAhIYErr7yS6tWrU7duXS666CK+/fbbCBxV5RQTE8PZZ5/N888/T3p6OqtWrWLp0qUMHDiwQN5BgwYxf/58EhISSE5OZtq0afz+97/PXR4fH09GRgb79u1j1qxZ7NixI8/yw1lsbCwDBgxg8uTJpKWlsWLFChYvXszQoUML5B02bBivv/468fHx7NmzhylTpjB8+HAAduzYwYIFC0hNTSU7O5ulS5eyYMECunfvHvQhlVokAuJrwMsicjyAiDQBngJejUBZyuRvf/sbMTExbNiwgRdffJFbbrmF1atX07RpU37++WeaNm0KwKRJk/j2229ZtmwZmzdv5rrrruOSSy5hz549AFx88cX079+fhIQEvvnmm9zuIeY3t912GxkZGQwePJi7776b2267jVatWrFt2zb69+/Ptm3bAOjevTsXX3wxN9xwAyNGjOCYY47hiiuuyN3OO++8w/nnn8/gwYOJi4vj8ccfrxLXtoJy1113kZGRwRlnnMGtt97K+PHjadu2LVu3bqVLly5s3boVgDPPPJMrrriCSy+9lL59+3Lsscdyww03AO6O8iuvvELv3r057bTTeOihh3L7kFZ2UtidtwrdoUgN4CHgSiAWSAOmAmNVNSOcbdSuXTvYQh+m7O5rcBo0aBDpIhw2RESKXBZ0QMyzc9dUTtJSFsICYjAsIAbHAmJwiguIkeh2szPnvar+mhMMRWR70GUxxphQkbiGWOAWsYhEA/bwrjEmoqJKzlI+RGQprt/hkSLycb7FTYFlQZXFGGMKE1hABJ4HBPgd8EJIugK/AB8EWBZjjCkgsICoqi8DiMhnqrq6pPzGGBO0IGuIAKjqahFpDJwGNMTVGnOWvRh0eYwxJkfgAVFEhgEzgHXASbjnmE8GPgEsIBpjIiYSd5nvBS5X1c5Aqv85GoiLQFmMMSZXJAJic1XNP574y8BfIlAWY4zJFYmAuN1fQwRIFJEeQGusH6IxJsIiERCnAr38+0nAh8A3wJQIlMUYY3JF9FlmABFpDtRU1YIDCRbBnmUOhj3LHBx7ljk4xT3LHIknVYpajqpW/kkXjDGHrKCfVMkhwNPAtQHu3xhjihWxJrOI7FTVow5mXWsyB8OazMGxJnNwKtXwX8YYU1lZQDTGGC/Imyp98+9bRPqQ91lmG/HGGBMxQd5UeSHf5x3kfXZZgVbBFccYY/IKcvivgpPoGmNMJWLXEI0xxrOAaIwxngVEY4zxLCAaY4xnAdEYYzwLiMYY41lANMYYzwKiMcZ4FhCNMcazgGiMMZ4FRGOM8SwgGmOMd1ABUURiRKS/iLQo7wIZY0ykhBUQRWSaiFzr39cAvgDeA9aIyLkVWD5jjAlMuDXEgcBn/v1QoDZwDHC3fxljTJUXbkCsD2z37wcBr6vqduBV4MSKKJgxxgQt3IC4DThZRKrjaouLfHotYH9FFMwYY4IW7ojZLwL/BbYC2cBin346sLoCymWMMYELKyCq6kQR+R5oDrymqpl+URbwYEUVzhhjghSxierLIj09veoVugqKjY2NdBEOG1Xxe1iFlX2iehE5V0Tmi8gPItLMp10pIv3Ko4TGGBNp4fZDvBj4H7AOOB6I9ouqA2MqpmjGGBOscGuIY4CrVPUW3HXDHJ8Bncq7UMYYEwnhBsS2wPJC0lOAOuVXHGOMiZxwA+JWoF0h6WcB68uvOMYYEznhBsTngMkicob/3ExELgUeAqZUSMmMMSZg4fZDfEhE6gLvA0cCHwIZwCOq+nQFls8YYwJTqn6IIhKLe3a5GvCDqqZUVMGKY/0Qg2H9EINj/RADVWQ/ROuYbYpkATE4VfF7WIUVGRCLbDKLyFzgElVN9u+LpKpDy1A4Y4ypFIq7hrgDyPm3tTPkvTHGHJLCajL7a4cZqppd8UUqmTWZg2FN5uBYkzlQB/8ssx8DcQ/QvjxLZIwxlU2JAdHXCjcCNSq+OMYYEznhdsy+B/iXiDSsyMIYY0wkhXsN8Vt+G+VmM5AaulxVT62Q0hXBriEGw64hBseuIQaq9N1u8pldTgUxxphKyzpmmyJZDTE4VfF7WIWVuYbotiLSF/fongLfq+qSspXLGGMqj7ACoogcB7wJdMUNBQZwrIh8BQxX1a1FrmyMMVVEuHeZJ+OmH22jqs1UtRlu0Nhsv8wYY6q8cO8yJwO9VXVFvvRuwGJVrVtB5SuUXUMMhl1DDI5dQwxU2WfdK8KBMq5vjDGVRrgBcTFuxOxmOQki0hx4wi8zxpgqL9yAeCMQC2wQkY0ikoibSyXWLzPGmCqvtCNmDwA64NrgP6jqoooqWHHsGmIw7BpicOwaYqBsxGxTehYQg1MVv4dVWNk6ZovIXUUsUmAfEA+8o6rppS+bMcZUDuE+qXIB0ByoSUjHbNwgD78CzYDtInK2qm4o91IaY0wAwr2p8ijwJdBSVZuranOgJfA5MBEXHNcCkyqikMYYE4RwO2YnAOer6qp86Z2AOaraUkS6A2+pauMKKWkIu4YYDLuGGBy7hhioMnfMboyboD6/I4BG/v0vuG44xhhTJYUbEBcBz4rI70Skmn/9DpgCvO/znAIkVEQhjTEmCOEGxCtxNcDPgQz/+synXeXz7AVuK+8CGmNMUErbMbs9bvY9AX5U1bUVVbDi2DXEYNg1xODYNcRAlc8Asaq6RkR2A7+qqg3sYIw5pITVZBaRaBF5SET2AltwXW4QkQdF5NoKLJ8xxgQm3GuI44EhwCW464c5vgAuK+cyGWNMRITbZB4J/FVVPxKR0Kbyd0C78i+WMcYEL9wa4rHAxkLSoyjldUhjjKmswg2I3wNnFZL+JyCu/IpTtezZs4dbbrmF7t27c+6557Jw4cIi806fPp1+/frRq1cvxo8fT2ZmZu6yK664gtNOO40ePXrQo0cPzj///CCKX6XUr1+fN954g5SUFBITExk5cmSh+WrUqMFjjz3Gli1b2LlzJ08//TRRUVG5y55//nkSExNJTk5mxYoVDBo0KMjDqPR2797NddddR6dOnejTpw/z5s0rMu+0adM444wz6Nq1K3fccUfu33RmZib/+Mc/6NOnD507d2bYsGF89NFHQR1CmYQbECcAT4rInUB14AIReQkYC9xTUYWr7B544AGio6P54IMPuP/++7n//vuJj48vkG/ZsmW89NJLPPvssyxcuJDNmzczZcqUPHnGjh3L8uXLWb58OW+99VZQh1BlPP3002RmZtK4cWMuvvhipkyZwoknnlgg39ixY+nWrRsnn3wy7dq1o0uXLvzzn/8EICoqik2bNnH22WdTt25dxo0bx//+9z9atGgR9OFUWhMnTiQ6OppPP/2Uhx9+mLvvvpt169YVyLd06VKee+45pk2bxgcffMDmzZuZPNnNN5eVlUWTJk2YPn06cXFx3HTTTdx8881s3rw56MMptbACoqrOw9UGz8HNozIeN+vekIMZJFZEGojIKBEZ4z8fKyJNS7udSEpPT2fRokVcd911xMbG0rlzZ84++2wWLFhQIO/cuXMZNmwYbdq0oU6dOowePZq5c+dGoNRVU2xsLCNGjGDcuHGkpqby6aefMnfuXEaNGlUg75AhQ5g8eTK7du0iKSmJyZMn89e//hWAtLQ0JkyYwMaNG1FVFixYQEJCAl27dg36kCqltLQ03nvvPW666SZq1qxJt27d6Nu3b6H/oOfMmcMf//hH2rZtS926dbn22mt58803Aff7uuGGG2jatCnVqlWjT58+NG3alO+//z7oQyq1sCeZUtV3VfVsVa2lqrGq2ktV3yvtDkXkbGANcDEwzie3xT0GWGVs3LiR6tWr56ldtGvXjvXr1xfIu2HDBtq3b58n344dO9i9e3du2pNPPknv3r259NJL+fLLLyu07FVNu3btyM7OzlNT+eabbzjppJMK5BURRCTP52bNmlGnTp0CeRs1akS7du2qxBc1CImJiVSrVo3jjz8+N61Dhw6FtnrWrVtHhw4dcj+3b9+epKQkdu3aVSBvUlISiYmJtGnTpmIKXo7C7Ye4QUQaFJJeT0RKO/7h48CfVXUQkOXTPgdOK+V2IiotLY1atWrlSatVqxapqakl5s15n5P35ptvZv78+bz33nuMGDGCm266iU2bNlVg6auWWrVqsWfPnjxpe/bsoXbt2gXyvv3229x00000bNiQxo0bc+ONbsqf/E/dREVFMXPmTF5++WXWrFlTcYWvQtLS0gqc09q1a4f1N52zXv68+/fv57bbbmP48OG0bt26AkpdvsKtIbbEXTvM7wjguFLus6Wq5szUl/O8UiYl3K0WkdEi8pWIfPXCCy+UcpflLzY2tsAvPzU1lZo1axaaNyUlJU8+IDfvKaecQs2aNalRowZDhw6lU6dOfPLJJxVY+qolJSWlQA2vTp067N27t0De++67j5UrV/L111+zbNky5syZQ2ZmJtu3b8/NIyJMnz6dzMxMrr/++govf1WR/+8U3LkP5286531o3gMHDjBmzBiio6MZN25cgW1URsUGRBH5g4j8wX88L+ezf12Au9mSWMp9/iAiA/Ol9Qe+LW4lVX1OVbuparcrrriilLssfy1atCArK4uNG3/rjbR27dpC/wu2atWKtWvX5snXoEED6tWrV+i2RcSebQ2xdu1aoqKi8jS5OnbsWGhTd9++fbnXr1q3bs2OHTuIi4vjwIHfus++8MILNG7cmBEjRpCVlVVgG4erli1bkp2dTWJiYm7a6tWrC23qtm3bNk/NevXq1TRs2JD69esD7tnsO++8k6SkJJ588kmio6MrvPzloaQa4mz/UuCFkM+zgRlAH+DWUu7zVmCmiLwMxIjIs8A04O+l3E5ExcTE0K9fP6ZMmUJ6ejorV65kyZIlnHfeeQXyDhkyhDlz5rB+/XqSk5OZOnUqQ4cOBSA5OZlly5aRkZFBVlYWCxYsIC4ujp49ewZ9SJVWWloab7zxBhMnTiQ2NpaePXty/vnnM3369AJ5jz32WJo0aQLA6aefzrhx4xg/fnzu8ilTpnDCCScwZMgQ9u3bF9gxVAWxsbEMGDCAyZMnk5aWRlxcHIsXLy60G9j555/P7NmziY+PZ8+ePUyZMoXhw4fnLh8/fjzr16/nmWee4cgjCxtKtZJS1RJfuHEOG4aTN8ztHQeMAZ7Gdd1pWpr109LStDK8fv75Zx09erSeeuqpetZZZ+ns2bM1LS1N169frx07dtT169fn5n322We1e/fu2rlzZ73tttt09+7dmpaWpps3b9Zhw4Zpp06dtEuXLjpixAhdvHhxxI8tLS1Ncf8IK8Wrfv36+uabb2pKSopu3LhRR44cqYA2a9ZM9+7dq82aNVNAzzzzTE1ISNDU1FRdvXq1XnTRRbnbaN68uaqqpqen6969e3NfoXki9aosdu3apddcc4127NhRzz77bJ07d66qqm7ZskU7deqkW7Zsyc374osvao8ePbRz5846duxYzcjIUFXVzZs3a7t27fTkk0/WTp065b7eeuutiBxTIYqMLYFPQyoinVT167Jsw4b/CoYN/xWcoL+Hh7myD/8lIkcBg3Cz79UIXaaqE0tRmPdF5FdgFjBTVW2UbWNMpRDuJFPdgQW4kW6Oxg0B1sR/TlTVU8PeoUh1XGAdCQzFPRY4C/ivqm4vbt0cVkMMhtUQg2M1xEAVWUMMNyAuBVYCNwHJQEfcnMyvAC+o6syDKpVIDHA+cA3QXVWPCGc9C4jBsIAYHAuIgSrzrHunAk+p+61lA0eo6i/A7cDdB1UikSOBwcCfgW7A0oPZjjHGlJdwA2JmyPtfgJzn1VJwQ4OFTUR+LyIzgO24LjgfAa1VtX9ptmOMMeUt3JsqK4DfAWuBJcC9ItIYN4L2qmLWK8wjuKZ2Z1Ut+OCvMcZESLjXELsBtVX1QxE5GvgPcAYuQP5VVUsbFMvEriEGw64hBseuIQaqbDdVyrx3kTtV9T7/vsguOqp6Vzjbs4AYDAuIwbGAGKiy9UMUkZOA6vlrgiJyKpClqj+UsInQsQ6bhbNPY4wJWrhN5k+Bp1V1Vr70C4HrVbVXBZWvUFZDDIbVEINjNcRAlflJlVNxU47m9yVwSqlKInIisENVfxGRWrhBHbKBR1Q1rTTbMsaY8hRut5tsoG4h6fUpJtoWYRZQz79/BDd5VQ/g2VJuxxhjylW4Tea3cEHxAlXN9mlRwGtAtKoODnuHIrtVtZ64cd63AScB6UCCqjYKZxvWZA6GNZmDY03mQJW5yTwG+ASIF5GcoZx7AbUofHrS4mSISG3gRGCTqib54FqFBk0zxhyKwp11bw3uOuIs4CigATAT6KiqP5Zyn7OAD4CXcQPDAnTBjblojDERE/h4iAAicg6wX1U/9J+7AXVU9YNw1rcmczCsyRwcazIHKrIds8ubBcRgWEAMTlX8HlZhZR8gtryIyPHAfUAn3DXIXKraPOjyGGNMjsADIu4a4nrcSDfW79AYU2lEYk6VZKCeqh4oMXMRrMkcDGsyB8eazIEq8wCxbisiDUXkdBEJa2TrInwMdC7D+sYYUyHCHdyhNm5e5j/ipk1sC2wQkWeAbap6dyn2mQi8KyJv4Dpm5wp3tBtjjKkI4dYQH8TNpdwF91RJjvnA8ELXKFpNYB4QjRv5JvRljDERE+5NlaHAcFX9WkRCL3b8CLQqzQ5V9fLS5DfGmKCEGxDrAzsKSa+Ne8a5VETkBFzzu7GqXi8i7XETVwU68rYxxoQKt8n8Ja6WmCOnlvh/wLLS7FBELsDdWDkO+ItPrg08VprtGGNMeQu3hvgP3I2Qk/w6f/PvT6P0gztMBAb45veffdo3uLmejTEmYsId3GEZ0BOogetU3Q/YCvRQ1RWl3GcjXACE32qaGvLeGGMiIuwnVVT1W+DScthnHDAKN3NfjgspfERuY4wJTLj9EI8qbrmq7izFPm8E3hORK4CaIvIu0A44pxTbMMaYchfuiNkHKKZJq6rVS1i/vqruCvkcCwwGWgCbgPmqmhJuoe3RvWDYo3vBsUf3AlXm0W765PscjXv87hrgn2GsvxGoAyAii1S1P/C/MPdtjDGBKNPgDiIyArhSVc8tId82oD+uI/cu3IRVBaJ0uAM+WA0xGFZDDI7VEANVYeMhfk143W4m4G6a5AwKkZVvueCa5MU2vY0xpiIddA3Rz6n8AK5PYYcw8kcBxwCrcTPtFaCqG8PZt9UQg2E1xOBYDTFQZashishe8t5UESAWSAUuDmP9z1S1O7BZRN4KN/AZY0yQwm0yX5/v8wHgV+Dz0LvHxWgnIkeq6j5gSGkKaIwxQSkxIPqmbk1gjqpuPcj9vAWsFZFEIEZEPi4sk6qW9jFAY4wpNyUGRFXNEpGHgQUHuxNVvVxEegEtgd8Bz1NMO94YYyIh3CbzZ0BXXH/Cg6Kqn4jIZ7jnoQcCDYEkYDEwXVX3H+y2jTGmPIQbEKcCj4hIc9yzyKmhC8MZ4EFE6gLv4Z5OeQdYATTB3am+RkT6q+qecAqTnp5eciZTZvHx8ZEuwmHj1FNPjXQRDhurVhU97GqxAVFEXgRuxk0dCoWPWRhu/8EHcDXCvqqaG1BFpCbuqZUHgGvD2I4xxlSIkmqIlwJjgePLYV/DgO6hwRBAVVNF5DpgORYQjTERVFJAFAi/w3QJ6gJbili2Gf+sszHGREo4A8SWVxf69UDfIpb1AzaU036MMeaghBMQt4lIdnGvMPf1GPAfERkhItUARKSaiPwRmIbNqWKMibBw7jKPBnaXdUeqOk1EGuCC3ysikoTrepMBTFTVl8q6D2OMKYtwAuI8Vd1eHjtT1UdF5Dnc/Cw5/RCXq2pyeWzfGGPKoqSAWO5DcKjqXuDd8t6uMcaUVUnXEO3xOmPMYaPYGqKqhjuRvTHGVHkW8IwxxrOAaIwxngVEY4zxLCAaY4xnAdEYYzwLiMYY41lANMYYzwKiMcZ4FhCNMcazgGiMMZ4FRGOM8SwgGmOMZwHRGGM8C4jGGONZQDTGGM8CojHGeBYQjTHGs4BojDGeBURjjPEsIBpjjGcB0RhjPAuIxhjjWUA0xhjPAqIxxngWEI0xxrOAaIwxngVEY4zxLCAaY4xnAdEYY7yoSBegKtuzZw/3338/X3zxBfXq1ePqq69m4MCBheZ95ZVXmDFjBhkZGfTu3ZsxY8ZQo0YNABITE3nkkUdYvXo19erV4/rrr6d3794BHknlt3fvXh5//HFWrFhBnTp1uOyyy+jTp0+BfImJiTz//PPEx8eTnJzMwoUL8yy//fbbWb16NdWrVwegQYMGTJ06NZBjqArq1KnDhAkT6NmzJ7t27WLy5MkFziHAP//5TwYPHpz7OSoqiv3799OjR4/ctEGDBnH11VfTpEkTkpKSGDduHCtWrAjkOA6WBcQyePTRR4mOjmbBggWsW7eOW2+9lbZt29KqVas8+T777DOmT5/OU089RcOGDRk7dizPP/881157LVlZWYwZM4bhw4fzxBNPsHLlSv7+97/TqlUrmjdvHqEjq3z+/e9/ExUVxaxZs9iwYQPjx4+nVatWtGjRIk++qKgozjzzTM477zzuueeeQrd1zTXXMGjQoCCKXeXceeed7N+/n969e9OhQweeeuop1qxZw/r16/Pku/fee7n33ntzP99zzz0cOHAg93P37t25+eabGTNmDN9++y1HH310YMdQFtZkPkjp6el8+OGHjB49mtjYWDp27MiZZ57JO++8UyDvwoULGTJkCK1ataJOnTpcfvnlLFiwAICNGzeSlJTEhRdeSPXq1enWrRunnnoqb7/9dtCHVGnt27ePTz/9lFGjRhETE8NJJ53E6aefzgcffFAgb9OmTRk4cGCBQGlKFhMTQ//+/Xn66adJT09n5cqVLFmyJE9NsLj15s6dm5t27bXX8uyzz7Jq1SpUle3bt7N9+/aKPoQyCzQgikh1EfmriBwR5H4rwk8//US1atXy1OLatGnDhg0bCuRNSEigbdu2uZ/btm3Lzp072bNnD6paIL+qFrqdw9WWLVuoVq0aTZs2zU1r1aoVGzduPKjtTZs2jQsvvJBbb72VVatWlVcxq7wWLVqQnZ2d57yuXbuWNm3aFLte//792bVrF3FxcQBUq1aNk046ifr16zN//nzef/997rjjDo44ovJ/7QMNiKqaDTymqhlB7rcipKenU6tWrTxptWrVIi0trdC8NWvWzJMPIC0tjZYtW1K/fn1mzpxJVlYWn3/+OStXriQjo8qfonKT//wB1KxZk/T09FJv6/LLL+fFF19k+vTpnHvuuUyYMIGff/65vIpapcXGxpKSkpInLSUlhdjY2GLXGzp0KPPmzcv93KBBA6KjoxkwYACXXXYZF1xwAR06dGD06NEVUu7yFIkm8zwRGRKB/ZarmJgYUlNT86SlpqYW+seTP2/O+9jYWKKionjwwQf59NNPOe+883jllVfo169flbnmEoSYmJgC/2jS0tKIiYkp9bY6dOhAbGws0dHR9O/fnxNPPJEvv/yyvIpapaWlpRX6j6ewf/I5GjduTNeuXfM0l/ft2we4G4lJSUns3r2b6dOn06tXr4opeDmKREA8EpgtIktEZLqI/CfnVdxKIjJaRL4Ska9efvnlgIpatObNm5Odnc2mTZty09atW1fghgrA8ccfT3x8fJ58Rx11FHXr1gVcU3vKlCm8++67PP7442zZsoUTTzyx4g+iijjuuOPIzs5my5YtuWkbNmwot+uEhV22OBxt3LiRqKioPJeB2rdvn+dvN7+hQ4fyzTff5Pnd7N27l23btlXJ8xqJgPgdcD/wIRAPrA95FUlVn1PVbqra7dJLL634UpYgJiaG3r17M3XqVNLT0/nmm29YunRpoXcvzz33XObNm0dCQgLJyclMmzaN8847L3d5fHw8GRkZ7Nu3j5kzZ7Jjx448yw93Rx55JD179mTGjBns27eP77//ns8++4y+ffsWyKuqZGZmkpWVBUBmZib79+8HXPMvLi6OzMxMsrOz+fDDD/nuu+/o2rVroMdTWaWnp7No0SKuu+46YmJi6NSpE71792b+/PlFrjNkyBDeeuutAulz5sxh5MiRHHXUUdSuXZtLLrmEjz/+uCKLXy6kKkbxnTt3VopCh/ZDrFu3Ltdccw0DBw5k27ZtXHTRRcyaNYtjjjkGcM2H6dOnk5GRQZ8+ffL0Q3zyySeZN28eWVlZdOzYkb/97W80a9YskocGwK5duyJdhFx79+5l0qRJrFy5Mk8/xO3bt3P11VfzzDPP0KhRI3755Rcuv/zyPOs2atSIadOmsWfPHu666y42b96ce5Nm1KhRdOnSJUJH9Zvhw4dHugiA64c4ceJEevTowe7du3niiSdYuHAhxxxzDHPmzGHYsGFs27YNgFNPPZWpU6fSp0+fAs3qqKgobr/9ds4991wyMzN59913mTRpEpmZmZE4rDxWrVolRS2LSEAUkQHAhUAjVR0iIt2AOqpasB9FISpLQDzUVaaAeKirLAHxcFBcQAy8ySwiNwBTgHXAWT45Hbi3yJWMMSYAkbiGeDPQX1X/BeR0bV8NtI9AWYwxJlckAmJtIOfWbE7TNxqI/MUFY8xhLRIB8WNgbL60G3F3nY0xJmIiMbjDDbjO2VcBtUVkDZAMVPnO2saYqi3wgKiqP4vI74DTgOa45vMXqnqg+DWNMaZiRWT4L3V9fT4XkdxnpkSkmgVFY0wkRaLbTRcRWS4iqcB+/8ryP40xJmIiUUN8GZgH/BUo+qlxY4wJWCQCYgvgTq2KzwwaYw5pkeh28yZwTgT2a4wxxQqkhigi0/mtE/YRwJsi8gmwLTSfqv4liPIYY0xhgmoy5x9Q7YeA9muMMWELJCCq6oSc9yJyjKpuy59HRI4JoizGGFOUSFxDXFtEutUajTERFYmAWGAsMhGpw28j3xhjTEQE1u1GRDbhbqzEiMhP+RY3AF4JqizGGFOYIPshXoKrHS4ERoWkK/CLqq4JsCzGGFNAYAFRVT8CEJGGqmpPqBhjKp2g+iHeqar3+Y9jRQqf0kBV7wqiPMYYU5igaohNQ95Hfjo5Y4wpRFD9EK8JeX95cXmNMSZSIjIeooicAPwRaKyq14tIe+AIVV0VifIYYwxEZjzEC3DzqhwH5Dy7XBt4LOiyGGNMqEh0zJ4IDFDVq4Fsn/YN0DECZTHGmFyRCIiNcAEQfhsBR0PeG2NMREQiIMaRt2M2wIXAFxEoizHG5IrETZUbgfdE5Aqgpoi8C7QHBkSgLMYYkysS05CuFpEOwGBgPvATsEBVU4IuizHGhApycIcPKfo64f+JiKpqv6DKY4wx+QVZQ5xRRPpxuGZ0bIBlMcaYAoIc3OGF0M8i0gC4A7gK+C+uO44xxkRMJDpm1xGRe3DzrDQGuqjqaFXdHHRZjDEmVGABUURiROQOYANwAtBLVUep6vqgymCMMcUJ8hpiAlAdeAj4CmgsIo1DM6jqBwGWxxhj8ggyIO7D3WW+pojlCrQKrjjGGJNXkDdVWga1L2OMORiReHTPGGMqJQuIxhjjWUA0xhjPAqIxxniiasMQBkVERqvqc5Eux6HOznNwDrVzbTXEYI2OdAEOE3aeg3NInWsLiMYY41lANMYYzwJisA6Zay2VnJ3n4BxS59puqhhjjGc1RGOM8SwgmkpBnJdEZJeIfOHTrhGRX0QkxQ8oXBH7fUZExlXEtg8lJZ0nEblbRIoaFb/KsIB4EEQkUUT650u7TEQ+CWPdsPIdivyxfysiaSKyTUSmiEg9v7gXbubFpqp6mohEA48B56hqLVXdURFlUtWrVfWeith2ZeP/bn8RkZohaVeKyJKS1g09TyLSW0QOyQGdLSCaQIjIrcCDwN+BukB3oAXwvojU8O8TVTXVr9IYOBL4PgLFPZRFATdFuhDFEZFITI8MWECsECIyVkTWi8heEflBRIb79BOAZ4Aevhm426cfISKPiMhP/j/4MyISE8FDKFciUgeYANygqu+o6n5VTQT+hAuEo4Dn+e28vAKs8avvFpEP/HY6iMj7IrJTRNaIyJ9C9jFNRJ4WkQX+vH8uIq39MhGRSSKyXUT2iMgqETk5ZL17/fsfRWRwyDajRCRJRLr4z91FZJmI7BaRb0Skd0WetwryMHBbSM08Vxjn915fu3wbONb/rlJE5FifrYaI/Mef/+9FpFvI+seKyOsi8quIJIjIjSHL7haR2SIyQ0SSgcsq6NhLZAGxYqwHzsTVhCYAM0Skiar+CFwNLPfNwHo+/4NAO6AT0AY3E+FdQRe6AvXE1fbeCE30c3G/DfQn73kZCZzks9VT1b7+i/g+MAtoBIwE/i0iJ4VsciTufNfHzdlzn08/BzgLd47rAX8GCmuCv+K3kWMgkKSqK0TkOGABcC9wFHAb8LqIHF26UxFxXwFLcOXPFeb5xdfgzwW2+t9VLVXd6hcPBV7FneO5wFN+29WAecA3uL/tfsDNIjIwZNPnA7P9ujPL51BLzwLiwZvjawq7fU3v3zkLVPU1Vd2qqgdU9b/AOuC0wjYiIoKbefAWVd2pqnuB+4ELK/4QAtMQF1iyCln2s19eksG4JvVLqpqlqiuA14E/huR5Q1W/8PuZifsHA7AfqA10wHU1+1FVfy5kH7OAoSKSMyXuRT4N4BJgoaou9L/X93HB5fdhlL2yuQu4IV8wD+f8luQTf36ygelAR5/+O+BoVZ2oqpmqugGYSt6/8eWqOsef2/SDPrIyilhb/RAwTFUX5XwQkcuAK/37vwB/A1r6xbUo+kt/NG5O6jgXG93mcPPPHCqSgIYiElVIUGzil5ekBXB6zmUGLwr3xcuxLeR9Gu68o6ofiMhTwNNAcxF5E7hNVZNDd6Cq8SLyIzBERObhajydQ/Z/gYgMCVklGvgwjLJXKqr6nYjMB8YCP/rkcM5vSfKf/yP99cAWuCZ26LarA0tDPm8qxX4qjAXEciYiLXD//frh/utli8jXuCAHbu6YUElAOnCSqm4JrKDBWg5kAH8A/peT6Jtp5wL/CGMbm4CPVHXAwRRAVScDk0WkkS/D34HCupHkNJurAT+oanzI/qer6lUHs/9KaDywAnjUfy7N+S3t0xybgARVbVuO26wQ1mQufzVxv9xfAUTkcuDkkOW/AE39nVVU9QAugE7yX1ZE5Lh811eqNFXdg7u296SIDBKRaBFpCbwGbCa8Wsh8oJ2IjPLrR4vI7/yNqmL5fKeL68qTipvwLLuI7K/irjlew2/NZYAZuJrjQBGpLiJHiut+0jSMslc6PtD/F8i5uVGa8/sL0EBE6oa5uy+AZBG5Xdx0xNVF5GQR+V3Zj6R8WUAsZ6r6A+6/7nLcH84pwKchWT7AdSXZJiI5TcXbcTcBPvN32RYB7QMrdABU9SFcTfARIBn4HFdz6KeqGWGsvxcXqC4EtuKaZw8CR4Sx+zq4fzq7gI24GyqPFLGfn3G/u564gJGTvgl34f8fuH92m3C1zKr8HZqI+wdeqvOrqqtxNekN/hr6sfnz5MufDQzBXdNNwLWKnsfddKxU7FlmY4zxqvJ/N2OMKVcWEI0xxrOAaIwxngVEY4zxLCAaY4xnAdEYYzwLiKZEIvJHEdGQz5eJSEqEyjJfRKZFYt+RJCJL/OOHpgJZQKyi/HBM6l/7RWSDuCHEapa8dpn9F2gVbmZxA5PeVnLOyBORlv6cdis5d6D+ANwR6UIc6uxZ5qptEW4swWjccGPP4548uCZ/Rv+QfbaWQ098PxpJxEYkOZyISA0/QszOSJflcGA1xKotQ1W3qeomVZ2FG/JqGOQOuvmdb96uxw2uUFNE6orIc+IGS90rIh/lrw2JyF9EZKO4of7n40avDl1eoMksIueJG5Q1XUR2iMg8/7zvEtxoJw/n1GhD1unp958mIlvETSlQJ2R5rK8Jp4gbODecQSByBnL9QERSxQ0Iuzjn8TL/LPVScXO37BSRd/M9r5vgf37py7skZLuXixvwd5+IrBWRW8SN9ZezvJ0/nn3iBlj9vS/7ZSF5ThGRRf487fTHVzdk+TR/WeB2ccP0b/bpeZrMIlJDRB4Ukc3+OL+UkOff/bPIk0Vkq4hkiMgmEflXOOfvcGYB8dCSjqst5jgeN6bfBbix6TJwg5wehxv/rjPwMfCBiDQBEJHTgWm4+XY74Qb2nFjcTkVkEPAWboDRrkAf4CPc39cfcF/qibihvnL2cwrwHm4g0Y4+XyfgxZBNP4KbZ2UEbvSgzriBXosrS0fckFzxwBm4qQr+x2+toZrA47jxKXsDe4B54gfb4LdxKwf5sv7Bb/cq3DiVdwEnALfinkG/1i+vBrwJZPl9XoYbUSb3WWBx4yy+A6T4/QzHPTMdeswAZwOn+jL0K+JQX/L5LsI9L/+yP46cMQhv9Nu/EGiLGxR3TSHbMaFU1V5V8IULWvNDPp+Ge2j+v/7z3biBURuH5OmL+zLG5NvW18AY/34W8H6+5c+7P5Xcz5cBKSGfPwVeLaasibjxB0PT/gO8kC+tE26koEa4sQwzgItDltcCdgPTitnXTOCzUpzHmriRb3r5zy19Gbrly/cTMCpf2s24IcLAja6dBRwXsryn39Zl/vNVuABcOyRPb5+nTcjv9VfgiHz7WgI85d+3Bg4AzfPlmQP827+fDCzGj1dgr/Bedg2xahvkm65RuJrhW8ANIcs3q+ovIZ+74gaj/VV+G4wW3PD+rf37E3C1wlDLgSuKKUdn3Be5NLoCbUTkzyFpOYVqjRtgtIbfN+CmHBCRb0vYbmdcTa1Q4uZZuQc4HTc4bzX/al7MOkcDzYBnRWRKyKKokDJ3wA2rHzqm5Ze4wJXjBGCVupFlcizzeU7E1WoBvtPiRwDq4vf7Q77f4xG40ZTA/T7eB9aKyHvAQuBtdcPNmSJYQKzaPgZG42qCW1V1f77lqfk+V8MNSXZmIdvKGT1aCllWEarhap6TClm2hYMf/qyk8s/z2/8//zML+AEXfIuSc2npalwAK2q/Jd2wKi5PaHr+31th5VHc0Pz5f+fpAOrmgWmJa3b3xTWpvxGRARYUi2YBsWpL099GdA7HCtwNkgPq5rUozA+4a2Ch8n/ObyXuWtfUIpZnUnBKhBW4UcILLb+IxOO+7N2BDT6tJm6w3fXFlGUFLgAUts0GuFradar6oU/rQt7vQab/mVteVf1FRLYArVX1P0Xs90fgOBE5Vn+bdKkbea/T/wD8VURqh9QSe/o8PxK+lbjgekzOcRTG7+M14DVxfTc/w01itrYU+zqs2E2Vw8si3PW+t0TkXBE5XkR6iMgEEcmpNU4G+ovIHSLS1t9MGF7Cdu/DzTdyr4icKCIn+TuwOZM1JQJnihsJPGdumQeB08RNudpZRNqIyGAReRZyZ+R7AXhQRAaIm/3tRUqea+ZhoLO4O+kdRaS9uMnYm+MGiE0CrvL7Oxs3LWzoPC/bcbWsgSLSOOQO8N3AGH9c7cWN+PwXEcnpG/g+7qbFy36/3YHH/LZzan8zcbW///i7zWcBz+Imxwr7H5uqrvXbmiau03wrEekmIreJSM5NoL+JyEgROUFE2uBuviTj71qbIkT6Iqa9Du5FvpsqhSy/G3ctKn96beAJ3BcjEzfy86u42k9OnstxNxHScdOEXk8xN1V82lAgDncjJAl39/hIv6w7bgrKffm20w131zUZFyi+BSaGLK+Ju/mSggtU43BD3U8r4dz0wl1OSMfdhFkENPHL+gLf+bJ8h7sZkoK/8eHzXOmPPxtYEpI+ElcD3YcLrp8AF4Ysb+f3m4ELjoP9Of5zSJ5TcDc70v02pgF1S/q9EnJTxX+O9r/jDX4f2/w57+qXX+XLutef34+AnpH+u63sLxsx25gK4rvAfI27Yx0X4eKYMFhANKaciMhwXE13Ha77zmO4a32d1b5oVYLdVDGm/NTGXRtthmsOLwFusWBYdVgN0RhjPLvLbIwxngVEY4zxLCAaY4xnAdEYYzwLiMYY41lANMYY7/8BYiBUMtYJf1gAAAAASUVORK5CYII=\n",
      "text/plain": [
       "<Figure size 360x360 with 1 Axes>"
      ]
     },
     "metadata": {
      "needs_background": "light"
     },
     "output_type": "display_data"
    }
   ],
   "source": [
    "import seaborn\n",
    "conf_matrix = confusion_matrix(y_test, rf_test_preds)\n",
    "matrix_proportions = np.zeros((3,3))\n",
    "for i in range(0,3):\n",
    "    matrix_proportions[i,:] = conf_matrix[i,:]/float(conf_matrix[i,:].sum())\n",
    "names=['Hate','Offensive','Neither']\n",
    "confusion_df = pd.DataFrame(matrix_proportions, index=names,columns=names)\n",
    "plt.figure(figsize=(5,5))\n",
    "seaborn.heatmap(confusion_df,annot=True,annot_kws={\"size\": 12},cmap='gist_gray_r',cbar=False, square=True,fmt='.2f')\n",
    "plt.ylabel(r'True categories',fontsize=14)\n",
    "plt.xlabel(r'Predicted categories',fontsize=14)\n",
    "plt.tick_params(labelsize=12)"
   ]
  },
  {
   "cell_type": "markdown",
   "metadata": {
    "id": "-CHBg6eylWMc"
   },
   "source": [
    "### Baseline Logistic Regression"
   ]
  },
  {
   "cell_type": "code",
   "execution_count": 81,
   "metadata": {
    "id": "w7_yid3nlWMc"
   },
   "outputs": [],
   "source": [
    "logreg_baseline = LogisticRegression(penalty='l2', class_weight='balanced', random_state=20)"
   ]
  },
  {
   "cell_type": "code",
   "execution_count": 82,
   "metadata": {
    "colab": {
     "base_uri": "https://localhost:8080/"
    },
    "id": "0NzglxuqlWMd",
    "outputId": "b71451c7-a192-415b-8672-d994a40d04fe"
   },
   "outputs": [
    {
     "name": "stdout",
     "output_type": "stream",
     "text": [
      "              precision    recall  f1-score   support\n",
      "\n",
      "           0       0.86      0.91      0.88      2186\n",
      "           1       0.96      0.87      0.91      3851\n",
      "           2       0.71      0.92      0.80       828\n",
      "\n",
      "    accuracy                           0.89      6865\n",
      "   macro avg       0.84      0.90      0.87      6865\n",
      "weighted avg       0.90      0.89      0.89      6865\n",
      "\n"
     ]
    }
   ],
   "source": [
    "logreg_baseline.fit(tfidf_data_train, y_train)\n",
    "logreg_test_preds = logreg_baseline.predict(tfidf_data_test)\n",
    "\n",
    "logreg_baseline_report = classification_report(y_test, logreg_test_preds)\n",
    "print(logreg_baseline_report)"
   ]
  },
  {
   "cell_type": "code",
   "execution_count": 83,
   "metadata": {
    "colab": {
     "base_uri": "https://localhost:8080/",
     "height": 341
    },
    "id": "VjDct_0BlWMe",
    "outputId": "b27704a4-61bb-4ed5-89ad-3a37f1c4bccc"
   },
   "outputs": [
    {
     "data": {
      "image/png": "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\n",
      "text/plain": [
       "<Figure size 360x360 with 1 Axes>"
      ]
     },
     "metadata": {
      "needs_background": "light",
      "tags": []
     },
     "output_type": "display_data"
    }
   ],
   "source": [
    "conf_matrix = confusion_matrix(y_test, logreg_test_preds)\n",
    "matrix_proportions = np.zeros((3,3))\n",
    "for i in range(0,3):\n",
    "    matrix_proportions[i,:] = conf_matrix[i,:]/float(conf_matrix[i,:].sum())\n",
    "names=['Hate','Offensive','Neither']\n",
    "confusion_df = pd.DataFrame(matrix_proportions, index=names,columns=names)\n",
    "plt.figure(figsize=(5,5))\n",
    "sns.heatmap(confusion_df,annot=True,annot_kws={\"size\": 12},cmap='gist_gray_r',cbar=False, square=True,fmt='.2f')\n",
    "plt.ylabel(r'True categories',fontsize=14)\n",
    "plt.xlabel(r'Predicted categories',fontsize=14)\n",
    "plt.tick_params(labelsize=12)"
   ]
  },
  {
   "cell_type": "markdown",
   "metadata": {
    "id": "K6tj98AllWMe"
   },
   "source": [
    "### Baseline with SMOTE"
   ]
  },
  {
   "cell_type": "code",
   "execution_count": 84,
   "metadata": {
    "id": "M_z4THQulWMf"
   },
   "outputs": [],
   "source": [
    "sm = SMOTE(random_state=35)\n",
    "smote_X_train, smote_y_train = sm.fit_sample(tfidf_data_train, y_train)"
   ]
  },
  {
   "cell_type": "code",
   "execution_count": 85,
   "metadata": {
    "colab": {
     "base_uri": "https://localhost:8080/"
    },
    "id": "nBAVqc7YlWMg",
    "outputId": "895a002a-73c8-4aa1-ab1b-82a2bfed2b0c"
   },
   "outputs": [
    {
     "name": "stdout",
     "output_type": "stream",
     "text": [
      "              precision    recall  f1-score   support\n",
      "\n",
      "           0       0.85      0.91      0.88      2186\n",
      "           1       0.95      0.88      0.91      3851\n",
      "           2       0.74      0.88      0.81       828\n",
      "\n",
      "    accuracy                           0.89      6865\n",
      "   macro avg       0.85      0.89      0.87      6865\n",
      "weighted avg       0.90      0.89      0.89      6865\n",
      "\n"
     ]
    }
   ],
   "source": [
    "smote_logreg = LogisticRegression(penalty='l2', random_state=35)\n",
    "\n",
    "smote_logreg.fit(smote_X_train, smote_y_train)\n",
    "smote_logreg_test_preds = smote_logreg.predict(tfidf_data_test)\n",
    "\n",
    "smote_logreg_report = classification_report(y_test, smote_logreg_test_preds)\n",
    "print(smote_logreg_report)"
   ]
  },
  {
   "cell_type": "code",
   "execution_count": 86,
   "metadata": {
    "colab": {
     "base_uri": "https://localhost:8080/",
     "height": 341
    },
    "id": "HWqtSOXOlWMh",
    "outputId": "2eb0c014-9c65-44f2-da74-bbeef6dd7659"
   },
   "outputs": [
    {
     "data": {
      "image/png": "iVBORw0KGgoAAAANSUhEUgAAAUQAAAFECAYAAABf6kfGAAAABHNCSVQICAgIfAhkiAAAAAlwSFlzAAALEgAACxIB0t1+/AAAADh0RVh0U29mdHdhcmUAbWF0cGxvdGxpYiB2ZXJzaW9uMy4yLjIsIGh0dHA6Ly9tYXRwbG90bGliLm9yZy+WH4yJAAAgAElEQVR4nO3deXxVxdnA8d8DCZhLCCCVCCiJ7FZlM4CABUVUfAWVWhAVRXkVFBWqtlb7vlql6vsiFZS61bYK4lJeWQyEatmE1l3AXQh7RKgJiAaysASf94+ZxJv9BpJzE3i+n8/9cO+cuefMOSRP5szMmRFVxRhjDNSLdgGMMaa2sIBojDGeBURjjPEsIBpjjGcB0RhjPAuIxhjjxUS7AIdDRGysUAD27dsX7SIcMxo2bBjtIhxLpLwNVkM0xhjPAqIxxngWEI0xxrOAaIwxngVEY4zxLCAaY4xnAdEYYzwLiMYY41lANMYYzwKiMcZ4FhCNMcazgGiMMZ4FRGOM8SwgGmOMZwHRGGM8C4jGGONZQDTGGM8CojHGeBYQjTHGs4BojDGeBURjjPEsIBpjjGcB0RhjPAuIxhjjWUA0xhjPAqIxxngWEI0xxrOAaIwxngVEY4zxLCAaY4xnAdEYYzwLiMYY41lANMYYzwKiMcZ4FhCNMcazgGiMMZ4FRGOM8SwgGmOMZwHRGGM8C4hHoFmzZsybN4+cnBy2bt3KlVdeWWa+Jk2aMGPGDDIzM8nMzOR3v/tdse2TJk3i008/5eDBg6W2GSc7O5tf/vKX9OrViwsvvJBFixaVmU9VmTZtGj/72c/42c9+xrRp01DVou2HDh3ij3/8I+eddx5nnXUWI0aMYM+ePUGdRq33/fffc8stt9CtWzfOPfdcFi5cWGY+VWXKlCn07t2b3r17M2XKlKLrvHv3bkaOHEnv3r1JSUnhiiuuYPXq1UGexmGLiXYB6rInn3ySAwcOkJiYSLdu3Vi0aBGffPIJX375ZbF806ZNIxQKkZycTIsWLVi2bBkZGRnMmDEDgI0bN3LXXXdx0003ReEs6oaHHnqI2NhYVqxYwbp167j11lvp1KkT7du3L5Zvzpw5LF++nFdffRURYdy4cbRu3ZoRI0YA8NRTT/Hxxx8za9YsWrZsycaNG2nYsGE0TqlWmjRpErGxsbz99tusXbuWcePG0blzZzp06FAs3+zZs1m6dCmpqamICNdffz0nnXQSV155JY0aNeLhhx8mOTkZEWHZsmXcfPPNvPPOO8TE1O6QYzXEwxQKhbj88su59957yc3N5e2332bBggVcc801pfIOHTqURx55hPz8fDIyMvjrX//KmDFjira/8MILvPHGG+zduzfIU6gz8vLyWLp0KbfccguhUIgePXpwzjnnkJaWVirvggULGD16NCeeeCKJiYlce+21pKamArBnzx5efPFF7r//flq1aoWI0KFDBwuIXl5eHosXL2bixIk0atSIlJQUBg4cWHT9wr322muMGTOm6Dpff/31zJ8/H4CGDRvStm1b6tWrh6pSr149srOzyc7ODvqUqqx2h+tarGPHjhQUFLBhw4aitE8++YQBAwaUmV9Eir0//fTTa7yMR4uMjAxiYmJITk4uSuvYsSOrVq0qlXfTpk107Nix6HOnTp3YtGkTAOvXrycmJoYlS5Ywa9Ys4uPjufrqqxk5cmSNn0NdsHXrVurXr88pp5xSlNa5c2c+/PDDUnk3bNhA586di+UL/10AVxHYsmULBw8eZPjw4TRv3rzmCl9NAg+IItIQuA+4Emiuqk1E5AKgo6o+EXR5Dld8fHyptqfs7GwaN25cKu8bb7zB3XffzejRo0lMTGTMmDGEQqGgilrn5eXl0ahRo2Jp8fHx5OXllZk3/P+gMJ+qkpmZyd69e8nIyOD111/nq6++4sYbbyQpKYk+ffrU+HnUdnl5ecTHxxdLa9y4Mbm5uZXmbdy4cdF1Lvzjv3DhQvbv38+SJUs4ePBgzRa+mkTjlnkacDpwNVDY2v0FcHNFXxKRsSKySkRKVwuiICcnh4SEhGJpCQkJZd72Tpgwgfz8fDZs2EBqaiqvvPIKX3/9dVBFrfNCoVCpX8rc3Nwy/6iEQiFycnJK5RMRjjvuOADGjRvHcccdR8eOHRk8eDD/+te/avYE6oiS1w7cz3nJP0aFecP/T3Jycoquc7iGDRsyZMgQnn32WdatW1czBa9G0QiIw4CrVPVd4AcAVd0OtK7oS6r6rKqmqGpKAGWsVOHtV3ijfteuXfniiy9K5f3uu+8YNWoULVu25PTTT6devXp88MEHQRa3TktKSqKgoICMjIyitPT09FIdKgDt2rUjPT29WL527doBFN1Kl2y+ME5ycjKHDh1i69atRWnr1q0r8zp36NChWIBbt25dqY6XcAUFBWzbtq1ay1sTohEQD1DiVl1ETgC+jUJZDlteXh7z5s1j0qRJhEIh+vbty6WXXsqsWbNK5W3bti3HH3889erVY/DgwYwdO5YHH3ywaHtMTAwNGzakXr16xd4bJxQKMWjQIJ588kny8vL46KOPWLFiBUOGDCmVd+jQocyaNYvMzEyysrJ44YUXuPTSSwE4+eST6dGjB3/+8585cOAAmzdv5vXXX6d///5Bn1KtFAqFOP/885k+fTp5eXmsXr2aZcuWFV2/cJdeeinPP/980VCy559/nmHDhgHw8ccfs2rVKg4cOMC+fft49tln2bVrF126dAn6lKpOVQN9AX8AXgNOAXYDLYHZwENV2IfWhlezZs10/vz5mpOToxkZGXrllVcqoGeffbbu3bu3KN/w4cN1+/btmpubqx999JFecMEFxfbz/PPPa0mjR4+O+vnt27ev1rwyMzN13Lhx2qVLF+3fv7/OnTtX9+3bp2+//bZ27dq1KF9+fr4+/PDDmpKSoikpKfrwww9rfn5+0faMjAy97rrrtGvXrnruuefqrFmzon5u+/btK/X/Hy3fffed3nzzzdq1a1cdMGCALliwQFVVP/zwQ+3WrVtRvh9++EEnT56sPXv21J49e+rkyZP1hx9+UFXV999/X4cOHardunXTnj176tVXX60ffPBBVM6nHOXGFtGwQatBEJEGwGTgRiAE5AF/Bu5W1f0R7iPYQh+j9u3bF+0iHDNs6E+gym0nCTwgFju4u1XepVUshAXEYFhADI4FxECVGxADb6gSkd2F71V1Z2EwFJGsoMtijDHhotFyH1syQURigfpRKIsxxhQJbGC2iPwL11h/nIj8s8Tmk4B3giqLMcaUJcgnVf6Cu3fvCfw1LF2BTGB5gGUxxphSotHL3FlVj2jIunWqBMM6VYJjnSqBKrdTJfBnmVV1nYgkAr2AnxBWOFV9LujyGGNMoWhM7nAZ8CKwATgN9xzz6cBbgAVEY0zURKOX+UHgelXtDuT6f8cCdWNKXWPMUSsabYh7VDXBv/9OVZuJSD3gG1VtEeE+rA0xANaGGBxrQwxU7RmYDWT5NkSArSLSB2iHjUM0xkRZNALin4Gz/ftpwJvAJ8DTUSiLMcYUieqzzAAi0gZopKprq/Adu2UOgN0yB8dumQMV/WE3YU+qlLcdVbWJ6YwxURP0kyqFBHgSGB/g8Y0xpkJRu2UWkd2qevxhftdumQNgt8zBsVvmQNWqXmZjjKmVLCAaY4wXZKfKwJLHFpFzKf4ss814Y4yJmsDaEEVkSyVZVFXbRrgva0MMgLUhBsfaEAMV/WE3qnpKUMcyxpjDYW2IxhjjWUA0xhjPAqIxxngWEI0xxrOAaIwxngVEY4zxLCAaY4xnAdEYYzwLiMYY41lANMYYzwKiMcZ4FhCNMcY7rIAoInEiMkhEkqq7QMYYEy0RBUQRmSEi4/37BsAHwGIgXUQuqsHyGWNMYCKtIV4IvOffXwI0Bk4E7vcvY4yp8yINiM2ALP9+MDBXVbOAvwE/rYmCGWNM0CINiN8Ap4tIfVxtcalPjwcO1kTBjDEmaJHOmP0cMBvYARwClvn03sC6GiiXMcYELqKAqKqTROQLoA3wqqoe8JsKgMk1VThjjAlS1BaqPxI5OTl1r9B10AknnBDtIhwz9u7dG+0iHDNiYmKOfKF6EblIRNJE5EsROdmn3SAi51VHIY0xJtoiHYd4NfB/wAbgFCDWb6oP3FUzRTPGmGBFWkO8C7hRVW/HtRsWeg/oVu2lMsaYKIg0IHYA3i0jPQdIqL7iGGNM9EQaEHcAHctI7w9sqr7iGGNM9EQaEJ8FpotIP//5ZBEZDTwCPF0jJTPGmIBFOg7xERFpAiwBjgPeBPYDf1DVJ2uwfMYYE5gqjUMUkRDu2eV6wJeqmlNTBauIjUMMho1DDI6NQwxOReMQI310DwBVzQNWHXGJjDGmFio3IIrIAmCUqu7x78ulqpdUe8mMMSZgFdUQvwUKb013h703xpijUkRtiL7tcL+qHqr5IlXO2hCDYW2IwbE2xOAc0bPMfg7EbKBTdRbKGGNqm0oDoq8VZgANar44xhgTPZEOzP498L8i8pOaLIwxxkRTpMNufoWb5Wa7iHwN5IZvVNUu1V0wY4wJWqQBcU6NlsIYY2qBSB/de6CmC2KMMdFWpSdVRGQg7tE9Bb5Q1RU1UShjjImGiAKiiLQG5gNn4qYCA2glIquAYaq6o9wvG2NMHRFpL/N03PKj7VX1ZFU9GTdp7CG/zRhj6rxIb5nPB85R1S2FCaq6WUQm8OMazcYYU6dFvOoeZT/LbI/QGWOOGpEGxGXAHwuXHwUQkTbAY1gN0RhzlIg0IE4AGgGbRSRDRDJwa6k08tuMMabOi3Qc4jYR6QEMAjr75LWqurTGSmaMMQGLeByiunnClviXMcYcdSIdh3hfOZsU2AdsBN5Q1fzqKpgxxgQt0hricKANrs2waGA2bpKHncDJQJaIDFDVzdVeSmOMCUCknSqPAh8CyaraRlXbAMnA+8AkXHBcD0ytiUIaY0wQIl1CYAtwqap+WiK9G/CaqiaLyFlAqqom1kxRf2RLCATDlhAIji0hEJwjWkLAS8QtUF9SQ6CFf58JhKpWNGOMqT0iDYhLgT+JSE8RqedfPYGn+bHX+QxgS7l7MMaYWi7SgHgDrgb4PrDfv97zaTf6PHtxM2sbY0ydFFEbYlFmkU78uPreOlVdXyOlqoS1IQbD2hCDY22IwamoDbFKE8SqarqIfA/sVNUfjrhkxhhTi0R0yywisSLyiIjsBbbjhtwgIpNFZHwNls8YYwITaRvi74ChwChc+2GhD4DrqrlMxhgTFZHeMl8JjFHVlSISfqv8OdCx+otljDHBi7SG2ArIKCM9hiq2QxpjTG0VaUD8AuhfRvoIYHX1Faduyc7O5s4776Rfv35cfPHFvP7662XmU1WmT5/OwIEDGThwINOnT6ewd/+jjz7i7LPPLvY688wzWbbM5t0t1KxZM2bPns2uXbtIT0/niiuuKDNfgwYNmD59Olu3bmX79u3MmTOHVq1aFW1v06YN8+fPZ8eOHWzZsoVp06ZRv379oE6jTvj++++ZMGECKSkpDBo0iLS0tDLzqSqPPvooffv2pW/fvjz66KOEj1g57bTTSElJKXrdd19588PULpHW7h4AXvQzZtcHhotIZ+Aq4OKaKlxtN3nyZGJjY1myZAnp6elMnDiRjh070q5du2L55s2bx4oVK3jllVcQEcaPH0+rVq34xS9+Qffu3XnrrbeK8q5atYrbb7+dvn37Bn06tdZjjz3GgQMHSEpKomvXrsybN49PP/2UtWvXFst366230rt3b3r16kV2djZPPvkkU6dOZeTIkQA8/vjj7Ny5k1NOOYWmTZuSlpbGuHHjeOqpp6JxWrXSgw8+SGxsLCtXrmTdunWMHz+ezp070759+2L5Xn31VZYvX868efMQEW644QZOOumkYn+s5s6dS1JSUtCncEQiqiGq6kJcbfAC4AdcJ0sHYOjhTBIrIs1F5BoRuct/biUiJ1V1P9GUn5/PsmXLuPnmmwmFQnTv3p0BAwawaNGiUnnT0tIYNWoUiYmJtGjRglGjRrFw4cIy95uWlsZ5551HXFxcTZ9CnRAKhbjssst44IEHyM3N5Z133mHRokVcddVVpfImJSWxdOlSsrKy2L9/P3PmzOHUU08t2p6cnMzcuXPZv38/mZmZLFmypNj2Y11eXh5Llizhtttuo1GjRpx55pmce+65LFiwoFTe1NRURo8ezYknnkhiYiLXXXcdr732WhRKXb0iXmRKVf+hqgNUNV5VQ6p6tqouruoBRWQAkA5cDdzrkzvgHgOsMzIyMqhfv36xv4AdOnRg8+bSs59t2rSJDh06FH3u2LFjmfkKg+yQIUNqptB1UIcOHSgoKGDjxo1FaZ999lmZgWzmzJn06dOHli1bEhcXx8iRI1m8+Mcf0SeeeILhw4cTFxdHq1atuOCCC1iyxOY7LpSRkUFMTAzJyclFaZ06dSp27Qtt3LiRzp07V5hv9OjR9O/fn4kTJ7J9+/YaK3d1inQc4mYRaV5GelMRqer8h48BV6jqYKDAp70P9KrifqIqPz+f+Pj4Ymnx8fHk5eVVmrcwX8mnhJYvX07Tpk0588wza6bQdVB8fDx79uwplpadnU3jxo1L5d24cSNff/01mzdvJisri06dOvHwww8XbX/rrbc49dRTycrKYtOmTaxZs6bM2s+xKi8vj0aNGhVLK+9nOi8vr9jPdOPGjYv9TM+cOZPFixeTlpbGCSecwPjx4ykoKCi1n9om0hpiMq7tsKSGQOsqHjNZVQt7DAojwgEqac8UkbEiskpEVj333HNVPGT1i4uLIycnp1habm4uoVDpCX/i4uLIzc0tlU+k+BNEaWlpXHzxxaXSj2U5OTkkJCQUS0tISCjzUbfHHnuMhg0b0qpVK5o3b05qaiqpqakAiAgLFiwgNTWV5s2b07p1a5o2bcpDDz0UyHnUBaFQqNjPKZT/Mx0KhYr9/Ofk5BT7mU5JSaFBgwYkJCRwzz33sH379jLvimqbCgOiiPxcRH7uP15c+Nm/huM6W7ZW8ZhfisiFJdIGAZ9V9CVVfVZVU1Q1ZcyYMVU8ZPVLSkri0KFDfPXVV0VpGzZsoG3btqXytmvXjvXrf3zse/369aXyffPNN6xevZqLLz5m+6jKtGHDBmJiYop1VJ1xxhmlOlQAunTpwqxZs/juu+84cOAATz/9ND179qR58+Ycf/zxtGnThmeeeYYDBw6we/duZs2axYUXlvxRPHYlJSVRUFBARsaPI+zS09NLdagAtG/fnvT09ErzhavKvAnRUlkNcY5/KfDXsM9zgBeBc4E7q3jMO4GXRGQmECcifwJmAL+u4n6iKi4ujoEDB/LMM8+Qn5/Pxx9/zIoVK8oMaBdffDEvvfQSWVlZ7Ny5kxdffJGhQ4cWy/P3v/+dLl26cPLJJ5f6/rEsLy+P1NRU7rvvPkKhEH369GHIkCG8/PLLpfKuXr2aq6++moSEBGJiYhg7diw7duzg22+/5dtvv2XLli2MHTuW+vXr06RJE0aNGsXnn38ehbOqnUKhEOeffz5//OMfycvLY82aNSxfvpxLLrmkVN5LLrmEF154gczMTLKyspgxYwaXXXYZ4Jou1q5dy6FDh8jNzeWRRx4hMTGxzMpCbVNhQFTVeqpaD/gKaFH42b8aqmonVS17oFL5+3wP6Iob2/gcbg7FXqr64WGeQ9Tcfffd7Nu3j0GDBvHb3/6We+65h3bt2hWNLSx0+eWX079/f6644gpGjBjB2WefzeWXX15sX2lpadaZUo6JEycSFxfHV199xcyZM5k4cSJr166lX79+7Ny5syjfPffcw759+/jss8/Ytm0bgwcPLjYMZOTIkZx//vls27aNzz//nIMHD3LXXXdF45Rqrf/+7/9m//799O/fn1//+tfce++9tG/fntWrV5OSklKUb8SIEQwYMIDLLruMSy+9lP79+zNixAgAdu3axa9+9St69+7N4MGD2bFjB0899RSxsbHROq2IVWn6r2o5oEg3Vf34SPZh038Fw6b/Co5N/xWcapn+S0SaARfhVt9rEL5NVSdVoTyLRWQn8ArwkqraLNvGmFoh0nWZzwIW4Wa6OQE3BVhL/3krbuW9SLUEBuMmjPhERL4AXgZmq2pWFfZjjDHVKtJhN1OAl3BDbPYBA3E1xVXA5KocUFUPqeoiVR2FW7zqceAXwLaq7McYY6pbpAGxC/CEugbHQ0BDVc0EfgPcfzgHFpHjgCHAFUAK8K/D2Y8xxlSXSAPigbD3mUDh82o5uKnBIiYi/yEiLwJZuCE4K4F2qjqoKvsxxpjqFmmnyhqgJ7AeWAE8KCKJuBm0P63ge2X5A65Dpbuqbqrid40xpsZEGhD/Cyh8ePS/gReAP+ICZJUeG1HVn1YlvzHGBCWigKiqq8Le78QNv4mYiPyXqj7k35fbI62qdWMWSWPMUSnSYTenAfVV9dMS6V2AAlX9spJdhM91aM+mGWNqpUhvmZ8FnqR0e+FPgVuBs0t9I4yq3hz2/vqqFNAYY4ISaUDsgltytKQPgTOqckAR+Snwrapmikg8blKHH4Apqlp64jVjjAlIpMNuDgFNykhvBlR18r5XgKb+/R9wi1edBfypivsxxphqFdHkDiKSiguKw1X1kE+LAV4FYlU14mlaRCRbVZuIm0kyE3fbnQ9sUdUWkezDJncIhk3uEByb3CE41TG5w13AW8BGESlcIu5sIJ6ylyetyD4RaYwLhF+p6i4fXI+r4n6MMaZaRbrqXjquHfFl4Hj/egnoqqqlpy6u2MvAcmAmbmJYgB64eRGNMSZqAp8PEUBELgAOquqb/nMKkKCqyyP5vt0yB8NumYNjt8zBqZb5EKtTyeVLwwd+G2NMtAQeEEXkFOAhoBuuDbKIqrYJujzGGFMoGjXEl4FNuJlubNyhMabWiEZAPA3op6o/ROHYxhhTrkgHZgMgIj8Rkd4i0vAIjvlPoPsRfN8YY2pEpJM7NMaty/wL3BrNHYDNIvIM8I2q3l+FY24F3hCR+cA34RtsthtjTDRFWkOcjFtPpQfuqZJCacCwKh6zkf9eLG7mm/CXMcZETaRtiJcAw1T1YxEJHwO4FmhblQPabDfGmNoq0oDYDPi2jPTGuGecq0REOgPDgURVvVVEOuEWrqrqcgTGGFNtIr1l/hBXSyxUWEscB7xTlQOKyHDcCnutgWt9cmNgalX2Y4wx1S3SGuJvgX/4mbNjgDv8+15UfXKHScAgVf1ERK7waZ8AXau4H2OMqVaRTu7wDtAXaIAbVH0esAPoo6prqnjMFvw487aG/WvPJxtjoirigdmq+hkwuhqOuRq4BrdyX6GRlD0jtzHGBCbScYjHV7RdVXdX4ZgTgMUi8p9AIxH5B9ARuKAK+zDGmGoXaQ1xFxXf0tav6Msi0kxVvwNQ1XW+l3kIbjziNiBNVXMiLIsxxtSISAPiuSU+x+Iev7sZt3B9ZTKABAARWaqqg4D/i7SQxhgThEgXql9ZRvJSEdkM3ICbwaYieSJyOm4gdy+/nkqpSRptwgdjTDQd6Ww3HxPZsJsHcJ0mhZNCFJTYLrhb8gpvvY0xpiYddkD0ayr/EtcGWCFVfVpE/gycCKzDTQFmjDG1SqS9zHsp3qkiQAjIBa6O4PvvqepZwNcikqqqGYdTWGOMqUmR1hBvLfH5B2An8H5h73ElOorIcaq6DxhalQIaY0xQKg2Ifs3kRsBrqrrjMI+TCqwXka1AnIj8s6xMqlrVxwCNMabaVBoQVbVARKYAiw73IKp6vYicDSQDPYG/UEYvszHGRFOkt8zvAWfixhMeFlV9S0Tewz0PfSHwE9yA72XALFU9eLj7NsaY6hDRQvUiMhJ4GJiOexY5N3x7JBM8iEgTYAmQBLwO/BtoCVwEfIWbASc7kkLn5eXZRBABiI2NjXYRjhkJCQnRLsIxIz8/v9y70woDoog8hxta830F+1dVrXT8oIg8hQuGI1Q1Nyw9HpgNZKjq+Mr2AxYQg2IBMTgWEINzJAHxEK4WF1fRASIZRiMiO4CzVPWrMrYlA++qasvK9gMWEINiATE4FhCDU1FArKwNUSCygBeBJsD2crZ9jX/W2RhjoiWSCWKrqza2CRhYzrbzgM3VdBxjjDkskQTEb0TkUEWvCI81FXhBRC4XkXoAIlJPRH4BzMDWVDHGRFkkw27GUnGnSkRUdYaINMcFv1dEZBdu6M1+YJKqPn+kxzDGmCNRWafKD8CJqppVbQcUaYxbn6VwHOK7qrqnKvuwTpVgWKdKcKxTJThH0qlS7YFHVfcC/6ju/RpjzJGqrA3RHq8zxhwzKqwhqmqkC9kbY0ydZwHPGGM8C4jGGONZQDTGGM8CojHGeBYQjTHGs4BojDGeBURjjPEsIBpjjGcB0RhjPAuIxhjjWUA0xhjPAqIxxngWEI0xxrOAaIwxngVEY4zxLCAaY4xnAdEYYzwLiMYY41lANMYYzwKiMcZ4FhCNMcazgGiMMZ4FRGOM8SwgGmOMZwHRGGM8C4jGGONZQDTGGM8CojHGeBYQjTHGs4B4BLKzs7njjjvo06cPF110Ea+//nqZ+VSVxx9/nHPOOYdzzjmHxx9/HFUFYM2aNfTt27fYq3v37ixdujTIU6n1srOzmTBhAj179uT8889n0aJFZeZTVaZOnUq/fv3o168fU6dOLbrWAKeffjo9e/Yset13331BnUKd0KxZM2bPns2uXbtIT0/niiuuKDNfgwYNmD59Olu3bmX79u3MmTOHVq1aFW1v06YN8+fPZ8eOHWzZsoVp06ZRv379oE7jsMVEuwB12f/8z/8QGxvLsmXLSE9PZ8KECXTs2JF27doVyzd37lzefPNNZs+ejYhw00030apVK4YPH06PHj145513ivKuWrWKiRMn0q9fv6BPp1Z78MEHiY2NZeXKlaxbt47x48fTqVMn2rdvXyzfq6++yvLly5k7dy4iwo033kjr1q2L/WLPnTuXNm3aBH0KdcJjjz3GgQMHSEpKomvXrsybN49PP/2UtWvXFst366230rt3b3r16kV2djZPPvkkU6dOZeTIkQA8/vjj7Ny5k1NOOYWmTZuSlpbGuHHjeOqpp6JxWhGzGuJhys/PZ9myZYwfP55QKET37t0ZMJADR8MAABVySURBVGAAaWlppfIuXLiQa665hsTERFq0aME111zDwoULy9zvwoULGTRoEHFxcTV9CnVGXl4eS5Ys4bbbbiMUCtGjRw/OOeecMq9hamoqo0eP5sQTTyQxMZHRo0eTmpoahVLXPaFQiMsuu4wHHniA3Nxc3nnnHRYtWsRVV11VKm9SUhJLly4lKyuL/fv3M2fOHE499dSi7cnJycydO5f9+/eTmZnJkiVLim2vrQINiCJSX0TGiEjDII9bEzIyMoiJiSEpKakorWPHjmzevLlU3s2bN9OxY8di+TZt2lQqX35+PkuXLmXo0KE1U+g6qvBaJycnF6V16tSJjRs3lsq7adMmOnXqVGG+0aNHM2DAACZOnMj27dtrrNx1TYcOHSgoKCh2vT777LMyA9nMmTPp06cPLVu2JC4ujpEjR7J48eKi7U888QTDhw8nLi6OVq1accEFF7BkyZJAzuNIBBoQVfUQMFVV9wd53JqQl5dHo0aNiqXFx8eTm5tbZt74+Phi+fLy8oq1bQEsW7aMpk2bcuaZZ9ZMoeuosq5148aNI7rWjRs3LnatZ8yYweLFi1m4cCEtWrTglltuoaCgoGZPoI6Ij49nz549xdKys7Np3LhxqbwbN27k66+/ZvPmzWRlZdGpUycefvjhou1vvfUWp556KllZWWzatIk1a9awYMGCGj+HIxWNW+aFIlLnq0ChUKjUL2ROTk6pX9yy8ubm5hIKhRCRYvkWLlzIkCFDSqUf647kWufk5BS71ikpKcTGxpKQkMDdd9/N9u3by6zVH4tycnJISEgolpaQkMDevXtL5X3sscdo2LAhrVq1onnz5qSmphY1TYgICxYsIDU1lebNm9O6dWuaNm3KQw89FMh5HIloBMTjgDkiskJEZonIC4Wvir4kImNFZJWIrHruuecCKmr5kpKSKCgoICMjoyht/fr1tG3btlTetm3bsn79+mL5Sna8fPPNN6xevZohQ4bUXKHrqLKudXp6eqkOFYB27dqRnp5eab5wJWvqx6oNGzYQExNT7GfzjDPOKNWhAtClSxdmzZrFd999x4EDB3j66afp2bMnzZs35/jjj6dNmzY888wzHDhwgN27dzNr1iwuvPDCIE/nsEQjIH4OPAy8CWwENoW9yqWqz6pqiqqmjBkzpuZLWYm4uDgGDhzI008/TX5+Ph9//DErV64sM6ANGTKEF198kaysLLKyspg1a1apdsJFixbRpUsXTj755KBOoc4IhUIMGjSIJ554gry8PNasWcObb75ZZlvrJZdcwsyZM8nMzCQrK4uZM2dy6aWXAu42b926dRw6dIi8vDymTJlCYmJimX/EjkV5eXmkpqZy3333EQqF6NOnD0OGDOHll18ulXf16tVcffXVJCQkEBMTw9ixY9mxYwfffvst3377LVu2bGHs2LHUr1+fJk2aMGrUKD7//PMonFXVSF3865iXl1crCp2dnc3999/Pe++9R9OmTZkwYQIXXXQRa9as4dZbby0aTlM4DnH+/PkADBs2jIkTJxa7NR42bBjXXnstw4YNi8q5lCU2NjbaRSiSnZ3Nvffey7vvvkuTJk24/fbbufjii1m9ejU33XQTH374IfDjOMS5c+cCcPnll3PHHXcgIrz//vv8/ve/JzMzk7i4OLp168add95ZrGMsWkreqkZLs2bN+NOf/sTAgQPZvXs39957L7Nnz6Zfv3689tprnHDCCQAcf/zxPProowwcOJAGDRrw5Zdf8pvf/IZVq1YBrgY5ZcoUzjjjDA4dOsTKlSu54447yMrKiubpAZCfn19um1RUAqKInA+MBFqo6lARSQESVHV5JN+vLQHxaFebAuLRrrYExGNBRQEx8FtmEbkNeBrYAPT3yfnAg0GXxRhjwgVeQxSRTcB5qrpVRL5T1WYiUh/IUtXmkezDaojBsBpicKyGGJxaVUMEGgPb/PvCwBYLHIhCWYwxpkg0AuI/gbtLpE3A9TobY0zUROOWuSWwEPgJ0BrYDOwFhqjqN5Hsw26Zg2G3zMGxW+bgVHTLHPhsN6r6bxHpCfQC2uBunz9Q1R+CLosxxoSLyvRf6qql74vIh4VpIlLPgqIxJpqiMeymh4i8KyK5wEH/KvD/GmNM1ESjhjgT14Y4BsiLwvGNMaZM0ehU2QM00SM4sHWqBMM6VYJjnSrBqW3jEOcDF0ThuMYYU6FAbplFZBY/DsJuCMwXkbeAYsNsVPXaIMpjjDFlCaoNseRc718GdFxjjIlYIAFRVR8ofC8iJ5Y1AFtETgyiLMYYU55otCGuLyfdao3GmKiKRkAs1cMjIgmADco2xkRVYOMQRWQbrmMlTkS+KrG5OfBKUGUxxpiyBDkwexSudvh34JqwdAUyVTW9zG8ZY0xAAguIqroSQER+oqr2hIoxptYJahzif6lq4aKsd5e37rCq3hdEeYwxpixB1RBPCntv62waY2olW4bUlMueZQ6OPcscnFo1QSyAiHQGhgOJqnqriHQCGqrqp9EojzHGQHTmQxwO/Au3fEDhs8uNgalBl8UYY8JFY2D2JGCQqt4EHPJpnwBdo1AWY4wpEo2A2AIovDXWsH+tXdAYE1XRCIirKT4wG2Ak8EEUymKMMUWi0akyAVgsIv8JNBKRfwCdgPOjUBZjjCkSjWVI1/le5iFAGvAVsEhVc4IuizHGhAtycoc3Kb+dcJyIqKqeF1R5jDGmpCBriC+Wk94adxsdCrAsxhhTSpCTO/w1/LOINAfuAW4EZuOG4xhjTNREY2B2goj8HrfOSiLQQ1XHqurXQZfFGGPCBRYQRSRORO4BNgOnAmer6jWquimoMhhjTEWCbEPcigvAjwCrgEQRSQzPoKrLAyyPMcYUE2RAzMf1Mt9cznYF2gZXHGOMKS7ITpXkoI5ljDGHIxqP7hljTK1kAdEYYzwLiMYY41lANMYYr06uqVJXichYVX022uU42tl1Ds7Rdq2thhissdEuwDHCrnNwjqprbQHRGGM8C4jGGONZQAzWUdPWUsvZdQ7OUXWtrVPFGGM8qyEaY4xnAdHUCuI8LyLficgHPu1mEckUkRw/oXBNHPcZEbm3JvZ9NKnsOonI/SJS3qz4dYYFxMMgIltFZFCJtOtE5K0IvhtRvqORP/fPRCRPRL4RkadFpKnffDZu5cWTVLWXiMQCU4ELVDVeVb+tiTKp6k2q+vua2Hdt439us0SkUVjaDSKyorLvhl8nETlHRI7KCZ0tIJpAiMidwGTg10AT4CwgCVgiIg38+62qmuu/kggcB3wRheIezeoDE6NdiIqISDSWRwYsINYIEblbRDaJyF4R+VJEhvn0U4FngD7+NvB7n95QRP4gIl/5W8RnRCQumudQnUQkAXgAuE1V31DVg6q6FRgBJAPXAH/hx+vyCpDuv/69iCz3++ksIktEZLeIpIvIiLBjzBCRJ0Vkkb/u74tIO79NRGSarx3t8bXU08O+96B/v1ZEhoTtM0ZEdopID//5LBF5R0S+F5FPROScmrxuNWQK8KuwmnmRCK7vg752+TrQyv9f5YhIK5+tgYi84K//FyKSEvb9ViIy11/PLSIyIWzb/SIyR0ReFJE9wHU1dfKVsYBYMzYBP8PVhB4AXhSRlqq6FrgJeNffBhb+UP4v0BHoBrTHrUR4X/DFrjF9cbW9eeGJfi3uvwODKH5drgRO89maqupA/4u4BHgZaAGMBJ4SkZ+G7XIk7no3w63Z85BPvwDoj7vGTXCBuKxb8FeAK8M+XwjsUtU1ItIaWAQ8CBwP/AqYKyInVPFaRNsqYAWu/EUivL74GvxFwA7/fxWvqjv85kuAvwFNgQXAE37f9YCFwCe4n+3zgF+KyIVhu74UmOO/+1J1nWxVWUA8fK/5msL3vqb3VOEGVX1VVXeo6g+qOhvYAPQqayciIrjHn25X1d2quhd4GPcDebT4CS6wFJSx7d9+e2WG4G6pn1fVAlX9CJgLDA/LM19VP/DHeQn3BwbgINAY6IwbarZWVf9dxjFeBi4RkcIlca/CBUmAUcDfVfXv/v91CS64/EcEZa9t7gNuKxHMI7m+lXnLX59DwCygq0/vCZygqpNU9YCqbgb+TPGf8XdV9TV/bfMP+8yOUNTu1Y8Cl6nq0sIPInIdcIN/fy1wB+52ECCe8n/pT8CtSb3axUa3O1xbz9FiF/ATEYkpIyi29NsrkwT0Lmxm8GJwv3iFvgl7n4e77qjqchF5AngSSBKRecCvVHVP+AFUdaOIrAWGishCXI2ne9jxh4vI0LCvxAJvRlD2WkVVPxeRNOBuYK1PjuT6Vqbk9T/Otwcm4W6xw/ddH/hX2OdtVThOjbGAWM1EJAn31+883F+9QyLyMS7IgVs7Jtwu3Hozp6nq9uBKGqh3gf3Az4H/K0wUkXjc7ddvI9jHNmClqp5/OAVQ1enAdBFp4cvwa6CsYSSFt831gC9VdWPY8Wep6o2Hc/xa6HfAGuBR/7kq17eqT3NsA7aoaodq3GeNsFvm6tcI95+7E0BErgdOD9ueCZzke1ZR1R9wAXSa/2VFRFqXaF+p01Q1G9e290cRGSwisSKSjAtMXxNZLSQN6Cgi1/jvx4pIT99RVSGfr7e4oTy5wD7gh3Ky/w3X5ngz7ha60Iu4muOFIlJfRI4TN/zkpAjKXuv4QD8bKOzcqMr1zQSai0iTCA/3AbBXRH4jbjni+iJyuoj0PPIzqV4WEKuZqn6J+6v7Lu4H5wzg7bAsy3FDSb4RkcJbxd/gOgHe871sS4FOgRU6AKr6CK4m+AdgD/A+ruZwnqruj+D7e3GBaiSwA3d7NhloGMHhE3B/dL4DMnAdKlPKOc6/cf93fXEBozB9G67h/7e4P3bbcLXMuvw7NAn3B7xK11dV1+Fq0pt9G3qrknlK5D+Ea6PsBmzB3RX9BdfBVavYs8zGGOPV5b9uxhhTrSwgGmOMZwHRGGM8C4jGGONZQDTGGM8CojHGeBYQTaVE5BciomGfrxORnCiVJU1EZkTj2NEkIiv844emBllArKP8dEzqXwdFZLO4KcQaVf7tIzYbaBtpZnETk/6q8pzRJyLJ/pqmVJ47UD8H7ol2IY529ixz3bYUN5dgLG66sb/gnjy4uWRG/5D9Ia2Gkfh+NpKozUhyLBGRBn6GmN3RLsuxwGqIddt+Vf1GVbep6su4Ka8ug6JJNz/3t7ebcJMrNBKRJiLyrLjJUveKyMqStSERuVZEMsRN9Z+Gm706fHupW2YR+Q9xk7Lmi8i3IrLQP++7AjfbyZTCGm3Yd/r64+eJyHZxSwokhG0P+ZpwjriJcyOZBKJwItflIpIrItn+fSu/bbCI/Evc2i27ReQfJZ7X3eL//dCXd0XYfq8XN+HvPhFZLyK3i5vrr3B7R38++8RNsPofvuzXheU5Q0SW+uu0259fk7DtM3yzwG/ETdP/tU8vdsssIg1EZLKIfO2v34cS9vy7fxZ5uojsEJH9IrJNRP43kut3LLOAeHTJx9UWC52Cm9NvOG5uuv24SU5b454t7Q78E1guIi0BRKQ3MAO33m433MSekyo6qIgMxk0IugQ4EzgXWIn7+fo57pd6Em6qr8LjnAEs9t/r6vN1A54L2/UfcOusXI6bPag7bqLXisrSFTcl10agH26pgtn8eDfUCHgMNz/lOUA2sFD8ZBv8OG/lYF/Wn/v93oibp/I+4FTgTtwz6OP99nrAfKDAH/M63IwyRc8C++aMfwA5/jjDcM9Mh58zwACgiy/DeeWc6vM+31W4yUNm+vMonINwgt//SKADcAU/zkJuyqOq9qqDL1zQSgv73Av30Pxs//l+3MSoiWF5BuJ+GeNK7Otj4C7//mVgSYntf3E/KkWfrwNywj6/DfytgrJuxc0/GJ72AvDXEmndcDMFtcDNZbgfuDpsezzwPTCjgmO9hJt2LdLr2Ag4BJztPyf7MqSUyPcVcE2JtF/ipggDN7t2AdA6bHtfv6/r/OcbcQG4cViec3ye9mH/rzuBhiWOtQJ4wr9vh5utp02JPK8BT/n304Fl+PkK7BXZy9oQ67bB/tY1BlczTAVuC9v+tapmhn0+EzcZ7U75cTJacNP7t/PvT8XVCsO9C/xnBeXojvtFroozgfYickVYWmGh2uEmGG3gjw24JQdE5LNK9tsdV1Mrk7h1Vn4P9MZNzlvPv9pU8J0TgJOBP4nI02GbYsLK3Bk3rX74nJYfUnyasVOBT9XNLFPoHZ/np7haLcDnWvEMQD38cb8s8f/YEDebErj/jyXAehFZjFuq4XV1082ZclhArNv+iVt+4CDul/Fgie25JT7Xw01J9rMy9rWnjLSaVA9X85xWxrbtuPVPakIa7hZ+nD9OAfAlLviWp7Bp6SZcAKsJ4Z1dJf/fSqrn8/fE/d+HywdQtw5MMq7meh7ulvoTETnfgmL5LCDWbXn644zOkViD6yD5Qd26FmVZi2sDC1fyc0kf4X7p/lzO9gOUXhJhDW6W8DLL7zuCDvpjb/ZpjXDtZZsqKcvAcvbZHFeTG6+qb/q0HhT/PTjg/y0qr6pmisgOoJ2qvlDOcdfhpslvpT8uupRC8Xb6tcAYEWkcVkvs6/OsJXIf4WqIJxaeR1n8MeYAc8SN3XwPt4jZ+ioc65hinSrHlqW49r5UEblIRE4RkT4i8oCIFNYapwODROQeEengOxOGVbLfh3DrjTwoIj8VkdN8D2zhYk1bgZ+Jmwm8cG2ZyUAvcUuudheR9iIyRET+BEUr8v0VmCwi54vIabjOh8rWmpkCdBfXk95VRDqJW4y9DW6C2F3Ajf54A3DLwoav85KFq2VdKCKJYT3AvwPu8ufVSdyMz9eKSOHYwCW4TouZ/rhnAVP9vgtrfy/hmgJe8L3N/YE/AfOq8odNVdf7fc0QN2i+rYikiMivRKSwE+gOEblSRE4Vkfa4zpc9+F5rU45oN2La6/BelOhUKWP7/bi2qJLpjYHHcb8YB3AzP/8NV/spzHM9rhMhH7cG761U0Kni0y4BVuM6Qnbheo+P89vOwi1Bua/EflKAN3C/qLnAZ8CksO2NcJ0vObhAdS/ulndGJdfmbFxzQj6uE2Yp0NJvGwh87svyOe6WMgff8eHz3ODP/xCwIiz9SlzNdh8uuL4FjAzb3tEfdz8uOA7x1/iKsDxn4Do78v0+ZgBNKvt/JaxTxX+O9f/Hm/0xvvHX/Ey//UZf1r3++q4E+kb757a2v2zGbGNqiB8C8zGux3p1tMtjKmcB0ZhqIiLDcDXdDbjhO1NxbX3d1X7R6gTrVDGm+jTGtY2ejLsdXgHcbsGw7rAaojHGeNbLbIwxngVEY4zxLCAaY4xnAdEYYzwLiMYY41lANMYY7/8BsK00BzIEK8wAAAAASUVORK5CYII=\n",
      "text/plain": [
       "<Figure size 360x360 with 1 Axes>"
      ]
     },
     "metadata": {
      "needs_background": "light",
      "tags": []
     },
     "output_type": "display_data"
    }
   ],
   "source": [
    "conf_matrix = confusion_matrix(y_test, smote_logreg_test_preds)\n",
    "matrix_proportions = np.zeros((3,3))\n",
    "for i in range(0,3):\n",
    "    matrix_proportions[i,:] = conf_matrix[i,:]/float(conf_matrix[i,:].sum())\n",
    "names=['Hate','Offensive','Neither']\n",
    "confusion_df = pd.DataFrame(matrix_proportions, index=names,columns=names)\n",
    "plt.figure(figsize=(5,5))\n",
    "sns.heatmap(confusion_df,annot=True,annot_kws={\"size\": 12},cmap='gist_gray_r',cbar=False, square=True,fmt='.2f')\n",
    "plt.ylabel(r'True categories',fontsize=14)\n",
    "plt.xlabel(r'Predicted categories',fontsize=14)\n",
    "plt.tick_params(labelsize=12)"
   ]
  },
  {
   "cell_type": "markdown",
   "metadata": {
    "id": "piwoQjN5lWMi"
   },
   "source": [
    "### Baseline with Tomek Links¶"
   ]
  },
  {
   "cell_type": "code",
   "execution_count": 87,
   "metadata": {
    "colab": {
     "base_uri": "https://localhost:8080/"
    },
    "id": "uq5FgvzglWMi",
    "outputId": "fb249024-0109-4afc-a1e3-097ba1a6d37a"
   },
   "outputs": [
    {
     "name": "stdout",
     "output_type": "stream",
     "text": [
      "Resampled dataset shape Counter({1: 14892, 0: 8468, 2: 3334})\n"
     ]
    }
   ],
   "source": [
    "# Under-sample the majority class (offensive)\n",
    "\n",
    "from collections import Counter\n",
    "from imblearn.under_sampling import TomekLinks # doctest: +NORMALIZE_WHITESPACE\n",
    "\n",
    "tl = TomekLinks()\n",
    "tomek_X_train, tomek_y_train = tl.fit_resample(tfidf_data_train, y_train)\n",
    "print('Resampled dataset shape %s' % Counter(tomek_y_train))\n",
    "\n",
    "# It removed 230 values from the 'offensive language' class and 144 values from 'neither' class"
   ]
  },
  {
   "cell_type": "code",
   "execution_count": 88,
   "metadata": {
    "colab": {
     "base_uri": "https://localhost:8080/"
    },
    "id": "JqtefZVDlWMk",
    "outputId": "d9fad142-d089-4ecc-823b-b30bf06734de"
   },
   "outputs": [
    {
     "name": "stdout",
     "output_type": "stream",
     "text": [
      "              precision    recall  f1-score   support\n",
      "\n",
      "           0       0.86      0.91      0.88      2186\n",
      "           1       0.93      0.91      0.92      3851\n",
      "           2       0.82      0.77      0.80       828\n",
      "\n",
      "    accuracy                           0.89      6865\n",
      "   macro avg       0.87      0.86      0.87      6865\n",
      "weighted avg       0.89      0.89      0.89      6865\n",
      "\n"
     ]
    }
   ],
   "source": [
    "tomek_logreg = LogisticRegression(penalty='l2', random_state=55)\n",
    "\n",
    "tomek_logreg.fit(tomek_X_train, tomek_y_train)\n",
    "tomek_logreg_test_preds = tomek_logreg.predict(tfidf_data_test)\n",
    "\n",
    "tomek_logreg_report = classification_report(y_test, tomek_logreg_test_preds)\n",
    "print(tomek_logreg_report)"
   ]
  },
  {
   "cell_type": "code",
   "execution_count": 89,
   "metadata": {
    "colab": {
     "base_uri": "https://localhost:8080/",
     "height": 341
    },
    "id": "dODl3yV-lWMm",
    "outputId": "43f90692-02f1-4394-ff16-242777812480"
   },
   "outputs": [
    {
     "data": {
      "image/png": "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\n",
      "text/plain": [
       "<Figure size 360x360 with 1 Axes>"
      ]
     },
     "metadata": {
      "needs_background": "light",
      "tags": []
     },
     "output_type": "display_data"
    }
   ],
   "source": [
    "conf_matrix = confusion_matrix(y_test, tomek_logreg_test_preds)\n",
    "matrix_proportions = np.zeros((3,3))\n",
    "for i in range(0,3):\n",
    "    matrix_proportions[i,:] = conf_matrix[i,:]/float(conf_matrix[i,:].sum())\n",
    "names=['Hate','Offensive','Neither']\n",
    "confusion_df = pd.DataFrame(matrix_proportions, index=names,columns=names)\n",
    "plt.figure(figsize=(5,5))\n",
    "sns.heatmap(confusion_df,annot=True,annot_kws={\"size\": 12},cmap='gist_gray_r',cbar=False, square=True,fmt='.2f')\n",
    "plt.ylabel(r'True categories',fontsize=14)\n",
    "plt.xlabel(r'Predicted categories',fontsize=14)\n",
    "plt.tick_params(labelsize=12)"
   ]
  },
  {
   "cell_type": "markdown",
   "metadata": {
    "id": "4Wfi4V4FlWMn"
   },
   "source": [
    "### Grid Search "
   ]
  },
  {
   "cell_type": "code",
   "execution_count": 90,
   "metadata": {
    "id": "r62HLdtYlWMo"
   },
   "outputs": [],
   "source": [
    "# creating the model\n",
    "baseline_model = LogisticRegression(class_weight='balanced', random_state=50)"
   ]
  },
  {
   "cell_type": "code",
   "execution_count": 91,
   "metadata": {
    "id": "bxzuw6JXlWMp"
   },
   "outputs": [],
   "source": [
    "# creating param_dict\n",
    "param_dict={'penalty': ['l1', 'l2'], 'solver': ['liblinear', 'newton-cg', 'sag'], 'C':\n",
    "[100, 10, 1.0, 0.1, 0.01]}"
   ]
  },
  {
   "cell_type": "code",
   "execution_count": 92,
   "metadata": {
    "id": "hzdT6AaFlWMp"
   },
   "outputs": [],
   "source": [
    "# instantiate Grid Search CV with F1 metric\n",
    "from sklearn.metrics import f1_score, make_scorer\n",
    "f1 = make_scorer(f1_score , average='weighted')\n",
    "grid_baseline = GridSearchCV(baseline_model, param_dict, cv=5, scoring= f1, verbose=1)"
   ]
  },
  {
   "cell_type": "code",
   "execution_count": 93,
   "metadata": {
    "colab": {
     "base_uri": "https://localhost:8080/"
    },
    "id": "2U_zCyUDlWMq",
    "outputId": "1c12fdc5-4804-4ac9-d834-542e83a7a010"
   },
   "outputs": [
    {
     "name": "stdout",
     "output_type": "stream",
     "text": [
      "Fitting 5 folds for each of 30 candidates, totalling 150 fits\n"
     ]
    },
    {
     "name": "stderr",
     "output_type": "stream",
     "text": [
      "[Parallel(n_jobs=1)]: Using backend SequentialBackend with 1 concurrent workers.\n",
      "[Parallel(n_jobs=1)]: Done 150 out of 150 | elapsed:  1.7min finished\n"
     ]
    },
    {
     "name": "stdout",
     "output_type": "stream",
     "text": [
      "F1 Score: 0.8960248389554231\n",
      "Best Hyperparameters: {'C': 1.0, 'penalty': 'l2', 'solver': 'liblinear'}\n",
      "Model object with best parameters: \n",
      "LogisticRegression(C=1.0, class_weight='balanced', dual=False,\n",
      "                   fit_intercept=True, intercept_scaling=1, l1_ratio=None,\n",
      "                   max_iter=100, multi_class='auto', n_jobs=None, penalty='l2',\n",
      "                   random_state=50, solver='liblinear', tol=0.0001, verbose=0,\n",
      "                   warm_start=False)\n"
     ]
    }
   ],
   "source": [
    "# fit the grid search to our data\n",
    "grid_baseline.fit(tfidf_data_train, y_train)\n",
    "\n",
    "# generate score with .best_score_ and hyperparemeters with .best_params_\n",
    "print('F1 Score:', grid_baseline.best_score_)\n",
    "print('Best Hyperparameters:', grid_baseline.best_params_)\n",
    "print('Model object with best parameters: ')\n",
    "print(grid_baseline.best_estimator_)\n"
   ]
  },
  {
   "cell_type": "code",
   "execution_count": 94,
   "metadata": {
    "colab": {
     "base_uri": "https://localhost:8080/"
    },
    "id": "rGPk4tIJlWMr",
    "outputId": "7ff86878-8bb7-456a-a7cb-270daada46cd"
   },
   "outputs": [
    {
     "name": "stdout",
     "output_type": "stream",
     "text": [
      "              precision    recall  f1-score   support\n",
      "\n",
      "           0       0.85      0.91      0.88      2186\n",
      "           1       0.95      0.88      0.92      3851\n",
      "           2       0.74      0.87      0.80       828\n",
      "\n",
      "    accuracy                           0.89      6865\n",
      "   macro avg       0.85      0.89      0.87      6865\n",
      "weighted avg       0.90      0.89      0.89      6865\n",
      "\n"
     ]
    }
   ],
   "source": [
    "grid_base_test_preds = grid_baseline.best_estimator_.predict(tfidf_data_test)\n",
    "\n",
    "grid_base_logreg_report = classification_report(y_test, grid_base_test_preds)\n",
    "print(grid_base_logreg_report)"
   ]
  },
  {
   "cell_type": "markdown",
   "metadata": {
    "id": "U3lBIohBlWMs"
   },
   "source": [
    "### Running This Tuned Baseline on SMOTE Data"
   ]
  },
  {
   "cell_type": "code",
   "execution_count": 95,
   "metadata": {
    "colab": {
     "base_uri": "https://localhost:8080/"
    },
    "id": "fz9ZGe0ZlWMs",
    "outputId": "13218ad1-9c1b-4a0a-9ef6-cad82014f1b0"
   },
   "outputs": [
    {
     "name": "stdout",
     "output_type": "stream",
     "text": [
      "              precision    recall  f1-score   support\n",
      "\n",
      "           0       0.84      0.92      0.88      2186\n",
      "           1       0.96      0.88      0.92      3851\n",
      "           2       0.75      0.89      0.81       828\n",
      "\n",
      "    accuracy                           0.89      6865\n",
      "   macro avg       0.85      0.89      0.87      6865\n",
      "weighted avg       0.90      0.89      0.89      6865\n",
      "\n"
     ]
    }
   ],
   "source": [
    "# best model according to grid search\n",
    "smote_tuned = LogisticRegression(C=1.0, class_weight='balanced', penalty='l1', random_state=50,\n",
    "                   solver='liblinear')\n",
    "\n",
    "smote_tuned.fit(smote_X_train, smote_y_train)\n",
    "smote_tuned_test_preds = smote_tuned.predict(tfidf_data_test)\n",
    "\n",
    "smote_tuned_logreg_report = classification_report(y_test, smote_tuned_test_preds)\n",
    "print(smote_tuned_logreg_report)"
   ]
  },
  {
   "cell_type": "markdown",
   "metadata": {
    "id": "ZIP5fbKPlWMt"
   },
   "source": [
    "### Running This Tuned Baseline on TOMEK Data"
   ]
  },
  {
   "cell_type": "code",
   "execution_count": 96,
   "metadata": {
    "colab": {
     "base_uri": "https://localhost:8080/"
    },
    "id": "brEVZblOlWMu",
    "outputId": "85ea2343-d4af-4227-dd76-a5db4d6d4c36"
   },
   "outputs": [
    {
     "name": "stdout",
     "output_type": "stream",
     "text": [
      "              precision    recall  f1-score   support\n",
      "\n",
      "           0       0.84      0.91      0.87      2186\n",
      "           1       0.96      0.88      0.92      3851\n",
      "           2       0.76      0.88      0.82       828\n",
      "\n",
      "    accuracy                           0.89      6865\n",
      "   macro avg       0.85      0.89      0.87      6865\n",
      "weighted avg       0.90      0.89      0.89      6865\n",
      "\n"
     ]
    }
   ],
   "source": [
    "tomek_tuned = LogisticRegression(C=1.0, class_weight='balanced', penalty='l1', random_state=50,\n",
    "                   solver='liblinear')\n",
    "tomek_tuned.fit(tomek_X_train, tomek_y_train)\n",
    "tomek_tuned_test_preds = tomek_tuned.predict(tfidf_data_test)\n",
    "tomek_tuned_logreg_report = classification_report(y_test, tomek_tuned_test_preds)\n",
    "print(tomek_tuned_logreg_report)"
   ]
  },
  {
   "cell_type": "markdown",
   "metadata": {
    "id": "BZVmGYmflWMv"
   },
   "source": [
    "### Baseline Naive Bayes"
   ]
  },
  {
   "cell_type": "code",
   "execution_count": 97,
   "metadata": {
    "colab": {
     "base_uri": "https://localhost:8080/"
    },
    "id": "c8jE2yWdlWMw",
    "outputId": "cb5bc022-280d-42d4-c1e2-ecc9a04a679a"
   },
   "outputs": [
    {
     "name": "stdout",
     "output_type": "stream",
     "text": [
      "              precision    recall  f1-score   support\n",
      "\n",
      "           0       0.79      0.84      0.82      2186\n",
      "           1       0.84      0.89      0.86      3851\n",
      "           2       0.80      0.41      0.54       828\n",
      "\n",
      "    accuracy                           0.82      6865\n",
      "   macro avg       0.81      0.72      0.74      6865\n",
      "weighted avg       0.82      0.82      0.81      6865\n",
      "\n"
     ]
    }
   ],
   "source": [
    "baseline_bayes = MultinomialNB(alpha = .01)\n",
    "\n",
    "baseline_bayes.fit(tfidf_data_train, y_train)\n",
    "bayes_test_preds = baseline_bayes.predict(tfidf_data_test)\n",
    "\n",
    "bayes_baseline_report = classification_report(y_test, bayes_test_preds)\n",
    "print(bayes_baseline_report)"
   ]
  },
  {
   "cell_type": "code",
   "execution_count": 98,
   "metadata": {
    "colab": {
     "base_uri": "https://localhost:8080/",
     "height": 341
    },
    "id": "uj_mz3v0lWM4",
    "outputId": "4694d929-d437-4ae8-a690-727b8ea72c55"
   },
   "outputs": [
    {
     "data": {
      "image/png": "iVBORw0KGgoAAAANSUhEUgAAAUQAAAFECAYAAABf6kfGAAAABHNCSVQICAgIfAhkiAAAAAlwSFlzAAALEgAACxIB0t1+/AAAADh0RVh0U29mdHdhcmUAbWF0cGxvdGxpYiB2ZXJzaW9uMy4yLjIsIGh0dHA6Ly9tYXRwbG90bGliLm9yZy+WH4yJAAAgAElEQVR4nO3deZgU1bnH8e/LNswCiCgICAwKiqiIigJCRBSXGAWJEkTiGjAu0dyI5Bq5KoLmXgPRRGOIJooLGvF6cY2K4IJL3FCDyKKATESQRRRZhpmB4b1/1JmxZ++BmeoZ+H2ep5/pPnW66lRN99un6pw6x9wdERGBBqkugIhIXaGAKCISKCCKiAQKiCIigQKiiEiggCgiEjRKdQF2RosWLdRXKAbvvvtuqouwx+jWrVuqi7AnsYoWqIYoIhIoIIqIBAqIIiKBAqKISKCAKCISKCCKiAQKiCIigQKiiEiggCgiEiggiogECogiIoECoohIoIAoIhIoIIqIBAqIIiKBAqKISKCAKCISKCCKiAQKiCIigQKiiEiggCgiEiggiogECogiIoECoohIoIAoIhIoIIqIBAqIIiKBAqKISKCAKCISKCCKiAQKiCIigQKiiEiggCgiEiggiogECogiIoECoohIoIAoIhIoIIqIBAqIIiKBAuIuaNmyJdOmTWPVqlXMnz+fc845p9x8TZo04Y477mDJkiXk5OTw2GOP0bZt2zL5DjjgANasWcO9995b20WvdzZt2sRvf/tbfvKTnzBq1CjmzJlTbr6PP/6YcePGMWLECEaPHl1m+ejRoxk2bBjDhw9n+PDh3HTTTbVd9Hplw4YNXHnllfTs2ZOBAwfy7LPPlpvP3Zk0aRK9e/emd+/eTJo0CXcvXn7DDTdw6qmn0q1bN2bMmBFX8XdZo1QXoD6bPHky27Zto2vXrhx++OE8/vjjfPLJJyxevLhEvssvv5xjjjmG4447jo0bN/LHP/6RSZMm8dOf/rREvt///vd8+OGHce5CvXHPPffQqFEjHnzwQZYvX87EiRPp3LkzHTt2LJGvadOmDBo0iIKCAp544oly1zVu3Dh69uwZR7HrnQkTJtC4cWPeeustFi1axM9//nO6detG165dS+SbPn06s2fP5umnn8bMuPjii9l///0ZMWIEAN26deP0009n0qRJqdiNnaYa4k7KyMhg8ODB3HLLLWzZsoV33nmHF154gXPPPbdM3k6dOvHKK6+wbt068vPzmTFjBt26dSuR5+yzz+a7776rsOazJ8vLy+Ptt99m5MiRpKen0717d4499lheffXVMnkPOuggBg4cSJs2bVJQ0votNzeXl156iV/+8pdkZmbSq1cvTjzxRJ5++ukyeZ966ikuueQS9ttvP9q0acPFF1/Mk08+Wbx85MiR9O3bl7S0tDh3YZcpIO6kLl26sH37dpYtW1ac9sknn5QJdAAPP/wwvXv3Zr/99iM9PZ2f/OQnzJo1q3h5s2bNuP7667n++utjKXt9s2rVKho0aED79u2L07Kzs1mxYsVOre/222/n/PPP56abbmL58uU1Vcx6Lycnh4YNG9K5c+fitG7durF06dIyeZcsWVLis96tWzeWLFkSSzlrU+ynzGaWBtwIjABauXsLMzsFOMjd/xR3eXZWZmYmmzZtKpG2ceNGsrKyyuRdtmwZK1eu5NNPP2X79u0sXLiQsWPHFi8fN24cDz/8MKtWrar1ctdHW7duJSMjo0RaZmYmW7durfa6rrnmGg444AAAnn32WcaPH8/dd99d7v9tT5Obm1vmODRr1owtW7ZUmbdZs2bk5ubi7phZrZe1tqSihngHcBgwEii6CrsAuLyyN5nZpWY218zmFhQU1HIRq7ZlyxaaNWtWIq1Zs2Zs3ry5TN7JkyfTpEkTsrOzadu2Lc8880zx9a3DDz+cE044gbvvvjuWctdH6enp5ObmlkjLzc0lPT292us65JBDSEtLIy0tjXPOOYfMzEwWLlxYU0Wt1zIyMsp8fjdv3kxmZma5eRMD5ebNm8nIyKjXwRBSExCHAue5+9vADgB3Xwm0r+xN7n6vu/dy915NmjSJoZiVW7p0KY0aNSqubQAcdthhZRpUIAp6jz76KN9++y0FBQXce++99OrVi7333pv+/fvTsWNHFixYwGeffcZVV13F4MGDef311+PcnTqtXbt27Nixo0QNevny5XTo0GGX121mJVpH92TZ2dkUFhaSk5NTnLZ48WK6dOlSJm/Xrl1LfNYXL15cpuGlPkpFQCyg1Km6me0LrE9BWXZabm4uzz77LOPGjSMjI4PevXtz+umn89hjj5XJ++GHHzJixAiaN29Oo0aNGDVqFKtWreKbb77hgQceoGfPnvTv35/+/fszdepUXnrpJYYOHZqCvaqbmjZtSp8+fXj00UfJy8tj0aJFvPfeewwcOLBM3h07dlBQUEBhYSHuTkFBAdu2bQNg3bp1LFq0iG3btlFQUMCMGTPYuHEjhxxySNy7VCdlZGRw8sknc+edd5Kbm8sHH3zAyy+/zJAhQ8rkHTJkCFOnTmXNmjWsWbOGqVOnlvjMFhQUkJ+fj7uzfft28vPz2bFjR5y7s1NSERD/F3jQzDoDmFlb4E9A2UhSx40ZM4amTZuydOlS7rvvPq655hoWL15M3759WblyZXG+//qv/yIvL48PP/yQZcuWcfLJJzNy5Egguj62du3a4sfmzZvJy8tj/fp69ftQ6y677DIKCgq44IILmDx5MpdddllxzXr48OHF+RYsWMCwYcOYMGEC69atY9iwYYwfPx6IjvWUKVMYOXIkl1xyCR999BE33ngjzZs3T9Fe1T033XQTeXl5HHfccYwZM4bx48fTtWtX5s6dy5FHHlmc79xzz2XgwIGceeaZnHnmmQwYMKBED4uf/exn9OjRg48++ogbbriBHj168P7776dil6rF4j5dMLMmwG3AaCADyAX+Clzn7vnJrKNFixY6x4nBu+++m+oi7DHK650gtabCC52xtzK7ewHwK+BX4VT5a9dFHBGpA2I/ZTazb4qeu/u6omBoZmvjLouISKJUXENsXDrBzBoDDVNQFhGRYrGdMpvZG0T9DpuaWek+JfsD/4yrLCIi5YnzGuLfiC5mHgPcl5DuwBrglRjLIiJSRmwB0d0fBDCzd9y9bO9lEZEUS0Ur82IzawMcC+xDQhO4u98fd3lERIqkYnCHs4BpwBLgUKL7mA8D3gQUEEUkZVLRynwLcLG7HwlsCX8vBT5IQVlERIqlIiB2dPf/LZX2IHBBCsoiIlIsFQFxbbiGCJBjZn2BA1E/RBFJsVQExL8C/cPzO4BXgXnAlBSURUSkWCpamW9LeP6Qmb0GZLr7orjLIiKSKBV3qlS0HHc/Pq7yiIiUFvedKkUMuBu4Isbti4hUKvY7VYqY2e2l00REUknTkIqIBAqIIiJBnI0qJ5betpkNpOS9zBrxRkRSJs5GlftKvV5PyXuXHTgAEZEUibNRpXNc2xIR2Rm6higiEiggiogECogiIoECoohIoIAoIhIoIIqIBAqIIiKBAqKISKCAKCISKCCKiAQKiCIigQKiiEiwUwHRzNLNbJCZdarpAomIpEpSAdHMHjCzK8LzJsB7wEvAp2b2w1osn4hIbJKtIZ4KvBOeDwaaAfsB48NDRKTeSzYgtgTWhuenAf/n7muBx4DutVEwEZG4JRsQVwOHmVlDotri7JCeBWyrjYKJiMQt2RGz7wemA6uAQuDlkN4bWFwL5RIRiV1SAdHdJ5jZAqAj8L/uXhAWbQduq63CiYjEydw91WWotjVr1tS/QtdD++23X6qLsMcoLCxMdRH2GA0aNLAKlyW7EjP7oZk9Z2YLzaxDSBtlZifVRCFFRFIt2X6II4HHgSVAZ6BxWNQQ+HXtFE1EJF7J1hB/DYx2918RXTcs8g7Qs8ZLJSKSAskGxK7A2+Wkbwaa11xxRERSJ9mAuAo4qJz044FlNVccEZHUSTYg3gvcaWb9wusOZnYh8DtgSq2UTEQkZsn2Q/ydmbUAZgFNgVeBfGCyu99di+UTEYlNtfohmlkG0b3LDYCF7r65tgpWGfVDjIf6IcZH/RDjU1k/xGRv3QPA3XOBubtcIhGROqjCgGhmzwA/dfeN4XmF3H1wjZdMRCRmldUQ1wNFp6bfJDwXEdktJXUNMVw7zHf3OnGhQ9cQ46FriPHRNcT47NK9zGEMxO+Ag2uyUCIidU2VATHUCv8NNKn94oiIpE6yHbMnAv9jZvvUZmFERFIp2W431xKNcrPSzL4EtiQudPceNV0wEZG4JRsQn6jVUoiI1AHJ3rp3c20XREQk1ap1p4qZnUh0654DC9z9tdoolIhIKiQVEM2sPfAkcDTRUGAA7cxsLjDU3VdV+GYRkXoi2VbmO4mmH+3i7h3cvQPRoLGFYZmISL2X7CnzycAJ7r68KMHdPzezq/l+jmYRkXot6Vn3KP9eZt1CJyK7jWQD4svAXUXTjwKYWUfgD6iGKCK7iWQD4tVAJvC5mf3bzP5NNJdKZlgmIlLvJdsPcYWZHQUMArqF5EXuPrvWSiYiErOk+yF6NE7YrPAQEdntJNsP8cYKFjmQBywFXnT3rTVVMBGRuCVbQxwGdCS6ZljcMZtokId1QAdgrZkNcPfPa7yUIiIxSLZR5ffA+0C2u3d0945ANvAuMIEoOH4G3F4bhRQRiUOyUwgsB4a4+8el0nsCT7l7tpn1AZ529za1U9TvaQqBeGgKgfhoCoH47NIUAkEbognqS0sDWofna4CM6hVNRKTuSDYgzgbuMbNjzKxBeBwDTOH7VufDgeUVrkFEpI5LNiCOIqoBvgvkh8c7IW10yLOJaGRtEZF6KalriMWZzQ7m+9n3Frv7Z7VSqiroGmI8dA0xPrqGGJ/KriFWa4BYd//UzDYA69x9xy6XTESkDknqlNnMGpvZ78xsE7CSqMsNZnabmV1Ri+UTEYlNstcQbwLOBH5KdP2wyHvARTVcJhGRlEj2lHkEcIm7zzGzxFPlT4CDar5YIiLxS7aG2A74dznpjajmdUgRkboq2YC4ADi+nPSfAB/UXHHql40bNzJu3DhOOeUUhg0bxqxZ5Q8E5O5MmTKFM844gzPOOIMpU6aQ2Lr/1ltvceGFF3Lqqady+eWXk5OTE9Me1B8tW7ZkxowZbN68mZycHEaMGFFuviZNmjBlyhRWr17N+vXreeaZZ2jXrl3x8m7duvHyyy+zYcMGlixZwllnnRXXLtQLGzZs4Be/+AVHHXUUJ554Is8991y5+dydyZMn06dPH/r06cPkyZOLP9PLly/nyiuv5LjjjqNPnz6MGjWK5cvrRxflZAPizUQjZo8DGgLDzGwqcB0wsbYKV9fdcccdNGrUiKeeeoobbriB22+/vdx//DPPPMObb77J/fffz9SpU/nnP//JM888A8CKFSuYOHEiY8aM4R//+Af9+vXjN7/5Ddu3b497d+q0u+++m4KCAtq0acPIkSOZMmUK3bt3L5Pvl7/8JX379qVHjx60a9eOb7/9lrvuuguAhg0b8vTTT/Pcc8+x9957c+mllzJt2jS6du0a9+7UWRMnTqRx48a88cYbTJo0iZtvvpklS5aUyff444/z8ssv89RTT/H000/z2muvMX36dAA2bdrEwIEDef7553njjTc4/PDDufLKK+PelZ2SVEB092eJaoOnADuIGlm6AmfuzCCxZtbKzM43s1+H1+3MbP/qrieVtm7dypw5cxg1ahQZGRn06NGDfv36MXPmzDJ5X3zxRYYPH07r1q3Zd999GT58OC+88AIA7733Hj169KBHjx40atSI8847j3Xr1jFv3ry4d6nOysjI4Oyzz+aGG25gy5YtvPXWWzzzzDOcf/75ZfJ27tyZmTNnsnbtWvLz85k+fTqHHnooENUO27Vrxx133MGOHTt49dVXeeutt8pdz54oNzeXWbNmcfXVV5OZmcnRRx/NwIEDi3+8Ez311FNcfPHF7LfffrRp04aLLrqIJ598EoAePXpwzjnnsNdee9G4cWMuvPBCli9fzrfffhv3LlVb0pNMuftMdx/g7lnunuHu/d39pepu0MwGAJ8CI4EbQnJXotsA640VK1bQsGFDOnQonmaGAw88sNzT3ZycHLp06VL8ukuXLiVqkomnz0XPP/9co6gVOeigg9i+fXuJmsq8efOKA12i++67j379+tG2bVvS09MZOXJk8Y9PecyMww47rFbKXd/k5OTQsGFDOnfuXJzWrVs3li5dWibv0qVLOfjgg6vMBzB37lz22WcfWrZsWfOFrmHJ9kP83MxalZO+l5lV95v7B2C4u58GFJ0XvgscW831pNTWrVvJzMwskZaVlUVubm6VeTMzM9m6dSvuTq9evZg3bx4fffQR27ZtY9q0aWzbto38/Pwy69lTZWVlsXHjxhJp3333Hc2aNSuTd8mSJaxYsYJVq1axceNGDjnkECZMmADAp59+ytq1axk7diyNGjXi5JNPZsCAAWRkaEwSiGqIWVlZJdKysrLYsmVLuXkTj3/RZ7/0nW+rV69m4sSJXHfddbVT6BqWbA0xm+jaYWlpQPtqbjPb3Ytm6is6egVU0VptZpea2Vwzm/vwww9Xc5M1Lz09vcwHZcuWLeV+uUrnzc3NJT09HTOjU6dOXH/99fzhD39g6NChbNiwgezsbPbdd99a34f6YvPmzTRv3rxEWvPmzdm0aVOZvHfffTdpaWnsvffeZGZmMmPGjOIa4vbt2znrrLP40Y9+xOrVqxkzZgyPP/44X375ZSz7UddlZGSwefPmEmlbtmwp88NfXt6iz77Z93fFffPNN4waNYoRI0bwox/9qPYKXoOqCkI/Tnj5IzP7LuF1Q+AkIKea21xoZqe6e+LFtkHA/Mre5O73AvdC3biXuUOHDhQWFrJixYri0+Zly5aRnZ1dJm92djbLli0rbgRYunRpidOSE044gRNOOAGILkg///zzdOvWrcx69lSfffYZjRo1okuXLsWnZUcccQQLFiwok7dnz56MGzeu+HrVXXfdxcSJE2nVqhXr169n/vz5xccaohb+Bx98MJb9qOuys7MpLCwkJyen+HO8ePHiEpd7inTp0oXFixfTo0ePcvN99913jBo1ioEDB3LZZZfFUv6aUFUN8YnwcOC+hNdPANOAgcCYam5zDPCImT0IpJvZPcADwNhqriel0tPTOf7447n//vvZunUr8+fP58033+TUU08tk/e0005j+vTprFu3jq+//prp06fzwx/+sHj5p59+SmFhIRs2bGDy5Mn069ePTp06xbk7dVpubi4zZsxgwoQJZGRkcNxxxzFkyBDKO1N4//33ueCCC2jevDmNGjXiiiuuYOXKlaxfvx6Aww8/nLS0NNLT0xkzZgxt27blgQceiHmP6qaMjAwGDRrEXXfdRW5uLh9++CGvvPIKgwcPLpN3yJAhPPjgg6xZs4a1a9cydepUhg4dCkQ1+tGjR3PkkUcyZkx1w0NqVRoQ3b2BuzcAvgBaF70OjzR3P9jdy++oVPE63wGOIOrbeD/RGIrHuvv7O7kPKXPNNdeQn5/PkCFDuPnmm7nmmmvo3Lkz8+bNKxEYBw8eTL9+/bjooou48MIL6du3b4kP2Z133snpp5/OyJEjycrKYuzYevXbEIsrrriC9PR01q5dy9///ncuv/xyFi5cSP/+/UucOl977bXk5eWxZMkS1q1bx+mnn178RQU4//zz+eqrr1i7di0nnXQSJ598MgUFBanYpTrpxhtvJD8/n/79+3Pttddy00030bVrV+bOncvRRx9dnG/48OGccMIJDBkyhMGDBzNgwACGDx8OwOzZs5k/fz5PPvkkRx99dPFj1apVFW22zqjW8F81skGznu7+r11ZR104Zd4TaPiv+Gj4r/jUyPBfZtYS+CHR7HtNEpe5+4RqlOclM1sH/B14xN3rRxd2EdntJTsvcx/gH0Qj3exLNARY2/A6h2jmvWS1BU4jGjBinpktAB4Fprv72mqsR0SkRiXb7WYS8AhRF5s84ESimuJc4LbqbNDdC939H+7+U6LJq/4InAOsqM56RERqWrIBsQfwJ48uOBYCae6+BvhPYPzObNjMmgJnAMOBXsAbO7MeEZGakmxATGyGWwMU9QnZTDQ0WNLM7HQzmwasJeqCMwc40N0HVWc9IiI1LdlGlQ+BY4DPgNeAW8ysDdEI2h9X8r7yTCZqUDnS3ZdV870iIrUm2YA4Dii6cfG/gIeAu4gC5CXV2aC7lx2zSUSkDkgqILr73ITn64i63yTNzMa5+63heYUt0u5+Y3XWKyJSk5LtdnMo0NDdPy6V3gPY7u4Lq1hF4liHHSrMJSKSQsmeMt8L3E3Z64XdgV8A/St7s7tfnvD84uoUUEQkLskGxB5EU46W9j5weHU2aGbdgfXuvsbMsogGddgBTHL3soMJiojEJNluN4VAi3LSWwIV3hdYgb8De4Xnk4kmr+oD3FPN9YiI1KikBncws6eJguIwdy8MaY2A/wUau/sZSW/Q7Dt3b2HRSJJriE67twLL3b11MuvQ4A7x0OAO8dHgDvGpicEdfg28CSw1szdDWn8gi/KnJ61Mnpk1IwqEX7j71yG4Nq3mekREalSys+59SnQd8VFg7/B4BDjC3RdVc5uPAq8ADxINDAtwFNG4iCIiKRP7eIgAZnYKsM3dXw2vewHN3f2VZN6vU+Z46JQ5Pjpljk+NjIdYk0pPX5rY8VtEJFViD4hm1hm4FehJdA2ymLt3jLs8IiJFUlFDfBRYRjTSjfodikidkYqAeCjQz913pGDbIiIVSrZjNgBmto+Z9TaztF3Y5uvAkbvwfhGRWpHs4A7NiOZlPodojuauwOdm9hdgtbuPr8Y2c4AXzexJYHXiAo12IyKplGwN8Tai+VSOIrqrpMhzwNBy31GxzPC+xkQj3yQ+RERSJtlriIOBoe7+LzNL7AO4CDigOhvUaDciUlclGxBbAuvLSW9GdI9ztZhZN2AY0Mbdf2FmBxNNXFXd6QhERGpMsqfM7xPVEosU1RJ/DvyzOhs0s2FEM+y1By4Iyc2A26uzHhGRmpZsDfF6YGYYObsRcE14fizVH9xhAjDI3eeZ2fCQNg84oprrERGpUckO7vBP4DigCVGn6pOAVUBfd/+wmttszfcjb3vCX92fLCIplXTHbHefD1xYA9v8ADifaOa+IudS/ojcIiKxSbYf4t6VLXf3b6qxzauBl8zsZ0Cmmc0EDgJOqcY6RERqXLI1xK+p/JS2YWVvNrOW7v4tgLsvDq3MZxD1R1wBPOfum5Msi4hIrUg2IA4s9box0e13lxNNXF+VfwPNAcxstrsPAh5PtpAiInFIdqL6OeUkzzazz4FRRCPYVCbXzA4j6sh9bJhPpcwgjRrwQURSaVdHu/kXyXW7uZmo0aRoUIjtpZYb0Sl5pafeIiK1aacDYphT+T+IrgFWyt2nmNlfgf2AxURDgImI1CnJtjJvomSjigEZwBZgZBLvf8fd+wBfmtnT7v7vnSmsiEhtSraG+ItSr3cA64B3i1qPq3CQmTV19zzgzOoUUEQkLlUGxDBncibwlLuv2sntPA18ZmY5QLqZvV5eJnev7m2AIiI1psqA6O7bzWwS8I+d3Yi7X2xm/YFs4Bjgb5TTyiwikkrJnjK/AxxN1J9wp7j7m2b2DtH90KcC+xB1+H4ZeNjdt+3sukVEakJSE9Wb2bnAb4E7ie5F3pK4PJkBHsysBTAL6AS8AHwFtAV+CHxBNALOd8kU+uOPP9ZAEDGYOXNmqosgUuPGjh27cxPVm9n9RF1rijpelzdmYbL9B/+bqCFmoLsXB9TQfWd6WH5FEusREakVVZ0yXwhcB3SugW2dBfRJDIYA7r7ZzK4E3kYBUURSqKqAaAA11G+wBbCygmVfEu51FhFJlWQGiK2p63XLgBMrWHYS8HkNbUdEZKckExBXm1lhZY8kt3U78JCZnW1mDQDMrIGZnQM8gOZUEZEUS6bbzaXAhl3dkLs/YGatiILf383sa6KuN/nABHefuqvbEBHZFckExGfdfW1NbMzdf29m9xLNz1LUD/Ftd99YE+sXEdkVVQXEGu/v5+6bAHVwE5E6p6priLq9TkT2GJXWEN092YnsRUTqPQU8EZFAAVFEJFBAFBEJFBBFRAIFRBGRQAFRRCRQQBQRCRQQRUQCBUQRkUABUUQkUEAUEQkUEEVEAgVEEZFAAVFEJFBAFBEJFBBFRAIFRBGRQAFRRCRQQBQRCRQQRUQCBUQRkUABUUQkUEAUEQkUEEVEAgVEEZFAAVFEJFBAFBEJFBBFRAIFRBGRoFGqC1Cfbdq0iSlTpvDxxx/TrFkzzjvvPH7wgx+UyffJJ5/wxBNP8Pnnn5OVlcWf//zn4mXr1q3jV7/6VYn8+fn5XHDBBZx55pm1vg/1RdOmTTnttNPo1KkTW7du5Y033mDRokUV5m/QoAEXXXQRTZo04S9/+QsALVu2ZMCAAbRv3x4zY/Xq1bz88st8++23ce1GnVcTxxnglFNOoUOHDrRs2ZIXXniBBQsWxFH8XaaAuAvuu+8+GjVqxF//+ldycnL47//+b7Kzs+nQoUOJfGlpaQwcOJB+/frx5JNPlli27777Mm3atOLXa9as4aqrrqJ3796x7EN9MWjQIAoLC/nzn/9M69atOfvss1m7di3r168vN/+xxx5Lbm4uTZo0KU5LS0tj2bJlvPjiixQUFNC3b1+GDh3K/fffH9du1Hk1cZwh+qFfvHgxAwYMiKPYNUanzDspLy+Pd955h3PPPZf09HQOOeQQevXqxZw5c8rk7dq1KwMGDKBNmzZVrvf111+ne/futG7dujaKXS81btyYgw46iDfffJNt27axcuVKli5dyqGHHlpu/hYtWtC9e3fefffdEumrV69m/vz55OXlsWPHDj744ANatWpF06ZN49iNOq+mjjPARx99xBdffMH27dtru9g1KtaAaGYNzewSM0uLc7u14auvvqJhw4a0a9euOC07O5svv/xyp9fp7syZM6fe/arWtpYtW7Jjx44Sp7br1q2jVatW5eY/6aSTeOONN6r8Mu6///5s3ryZvLy8Gi1vfVVbx7k+iTUgunshcFsU4ncAABLCSURBVLu758e53dqQl5dHenp6ibSMjAy2bt260+tcvHgxGzZsoE+fPrtavN1K48aNKSgoKJGWn59f5jQNotq4mbFkyZJK15mVlcWgQYN49dVXa7Ss9VltHOf6JhWnzM+aWb1vLWjatGmZ4Ld169YyQbI6XnvtNfr06bNL69gdbdu2rcyXskmTJmW+vI0bN2bAgAG8/PLLla4vPT2dYcOG8a9//YvFixfXeHnrq5o+zvVRKhpVmgJPmNnbwArAixa4+wUVvcnMLgUuBbjhhhs455xzaruclWrbti2FhYV89dVXtG3bFoCcnBz233//nVpffn4+b7/9NmPHjq3JYu4Wvv32Wxo0aMBee+3Fhg0bAGjdunWZC/0tW7akefPmnHfeeUDUApqWlsYVV1zBtGnT2LhxI2lpaQwbNoxly5bxzjvvxL4vdVlNHuf6KhUB8ZPwqBZ3vxe4F+Djjz/2KrLXuqZNm9K7d2+mT5/OZZddRk5ODu+//z633nprmbw7duxg+/btFBYW4u4UFBRgZjRu3Lg4z3vvvUdWVhaHHXZYnLtRL2zbto3PPvuM/v37M3PmTFq3bk2XLl145JFHSuRbt24d99xzT/Hrdu3aMWjQIB566KHiltBhw4axcuVKXn/99bh3o86rqeMMUZA0M8yMhg0b0rBhQwoLC2Pdn50Re0B095vj3mZtGTVqFFOmTGHUqFFkZWUxevRoOnTowKJFi7j11luLu9MsWrSI8ePHF79v5MiRdO/enZtv/v5QzJkzh+OPPx4zi3s36oXZs2dz2mmnccUVV5CXl8esWbNYv3497du355xzzuGPf/wj7s6WLVuK35OXl1cirWvXrrRt25ZWrVqV+OG5//772bRpU+z7VBfVxHEGGDZsGB07dgSgffv2nHrqqTz22GOsWLEi9n2qDnOPv7JlZicD5wKt3f1MM+sFNHf3V5J5f12oIe4JZs6cmeoiiNS4sWPHVljriL1RxcyuAqYAS4DjQ/JW4Ja4yyIikigVrcz/AQxy9/8BdoS0xcDBKSiLiEixVATEZkSty/B9C3NjoKD87CIi8UhFQHwduK5U2tWAesiKSEqlotvNVUSds0cDzczsU2ATcEYKyiIiUiwV3W6+MrNjgGOBjkSnz++5+47K3ykiUrtSMvyXR3193jWz94vSzKyBgqKIpFIqut0cZWZvm9kWYFt4bA9/RURSJhU1xAeBZ4FLgNwUbF9EpFypCIidgHGeiltkREQqkYpuN08Cp6RguyIilYqlhmhmD/N9J+w04EkzexNYnZivsuG/RERqW1ynzEtLvV4Y03ZFRJIWS0BMHPLLzPZz99Wl85jZfnGURUSkIqm4hvhZBemqNYpISqUiIJYZi8zMmvP9yDciIikRW7cbMyuaPyXdzL4otbgV8Pe4yiIiUp44+yH+lKh2+DxwfkK6A2vc/dMYyyIiUkZsAdHd5wCY2T7urjtURKTOiasf4jh3L5qO7rqKJlJy9xvjKI+ISHniqiEmTlbcIaZtiohUS1z9EC9PeH5xHNsUEamulIyHaGbdgGFAG3f/hZkdDKS5+8epKI+ICKRmPMRhwBtAe6Do3uVmwO1xl0VEJFEqOmZPIJqG9DKgMKTNA45IQVlERIqlIiC2BopOjT3hr8ZHFJGUSkVA/ICSHbMBzgXeS0FZRESKpaJR5WrgJTP7GZBpZjOBg4GTU1AWEZFiqZiGdHFoZT4DeA74AviHu2+OuywiIoniHNzhVSq+TvhzM3N3Pymu8oiIlBZnDXFaBentiU6jM2Isi4hIGXEO7nBf4mszawX8BhgNTCfqjiMikjKp6Jjd3MwmEs2z0gY4yt0vdfcv4y6LiEii2AKimaWb2W+Az4FDgP7ufr67L4urDCIilYnzGmIOUQD+HTAXaGNmbRIzuPsrMZZHRKSEOAPiVqJW5ssrWO7AAfEVR0SkpDgbVbLj2paIyM5Ixa17IiJ1kgKiiEiggCgiEiggiogE5q5hCONiZpe6+72pLsfuTsc5PrvbsVYNMV6XproAewgd5/jsVsdaAVFEJFBAFBEJFBDjtdtca6njdJzjs1sdazWqiIgEqiGKiAQKiFInWGSqmX1rZu+FtMvNbI2ZbQ4DCtfGdv9iZjfUxrp3J1UdJzMbb2YVjYpfbygg7gQzyzGzQaXSLjKzN5N4b1L5dkdh3+ebWa6ZrTazKWa2V1jcn2jmxf3d/VgzawzcDpzi7lnuvr42yuTul7n7xNpYd10TPrdrzSwzIW2Umb1W1XsTj5OZnWBmu+WAzgqIEgszGwPcBowFWgB9gE7ALDNrEp7nuPuW8JY2QFNgQQqKuztrCPwy1YWojJmlYnpkQAGxVpjZdWa2zMw2mdlCMxsa0g8B/gL0DaeBG0J6mplNNrMvwiniX8wsPZX7UJPMrDlwM3CVu7/o7tvcPQf4CZANnA/8je+Py9+BT8PbN5jZK2E93cxslpl9Y2afmtlPErbxgJndbWb/CMf9XTM7MCwzM7sj1I42hlrqYQnvuyU8X2RmZySss5GZrTOzo8LrPmb2TzPbYGbzzOyE2jxutWQScG1CzbxYEsf3llC7fAFoF/5Xm82sXcjWxMweCsd/gZn1Snh/OzP7v3A8l5vZ1QnLxpvZE2Y2zcw2AhfV1s5XRQGxdiwDfkBUE7oZmGZmbd19EXAZ8HY4DSz6UP4PcBDQE+hCNBPhjfEXu9YcR1Tbm5GYGObifh4YRMnjMgI4NGTby91PDF/EWcCjQGvgXODPZtY9YZXnEh3vlkRz9twa0k8Bjic6xi2IAnF5p+B/B0YkvD4V+NrdPzSz9sA/gFuAvYFrgf8zs32reSxSbS7wGlH5iyV5fAk1+B8Cq8L/KsvdV4XFg4HHgL2AZ4A/hXU3AJ4F5hF9tk8C/sPMTk1Y9RDgifDeR2pqZ6tLAXHnPRVqChtCTe/PRQvc/X/dfZW773D36cAS4NjyVmJmRnT706/c/Rt33wT8lugDubvYhyiwbC9n2VdheVXOIDqlnuru2939I+D/gGEJeZ509/fCdh4h+oEB2AY0A7oRdTVb5O5flbONR4HBZlY0Je55REES4KfA8+7+fPi/ziIKLqcnUfa65kbgqlLBPJnjW5U3w/EpBB4GjgjpxwD7uvsEdy9w98+Bv1LyM/62uz8Vju3Wnd6zXZSyc/XdwFnuPrvohZldBIwKzy8AriE6HQTIouIv/b5Ec1J/EMXGaHVE13p2F18D+5hZo3KCYtuwvCqdgN5FlxmCRkRfvCKrE57nEh133P0VM/sTcDfQycxmANe6+8bEDbj7UjNbBJxpZs8S1XiOTNj+MDM7M+EtjYFXkyh7neLun5jZc8B1wKKQnMzxrUrp4980XA/sRHSKnbjuhsAbCa9XVGM7tUYBsYaZWSeiX7+TiH71Cs3sX0RBDqK5YxJ9TTTfzKHuvjK+ksbqbSAf+DHweFGimWURnX5dn8Q6VgBz3P3knSmAu98J3GlmrUMZxgLldSMpOm1uACx096UJ23/Y3UfvzPbroJuAD4Hfh9fVOb7VvZtjBbDc3bvW4DprhU6Za14m0T93HYCZXQwclrB8DbB/aFnF3XcQBdA7wpcVM2tf6vpKvebu3xFd27vLzE4zs8Zmlk0UmL4kuVrIc8BBZnZ+eH9jMzsmNFRVKuTrbVFXni1AHrCjguyPEV1zvJzoFLrINKKa46lm1tDMmlrU/WT/JMpe54RAPx0oatyozvFdA7QysxZJbu49YJOZ/adF0xE3NLPDzOyYXd+TmqWAWMPcfSHRr+7bRB+cw4G3ErK8QtSVZLWZFZ0q/idRI8A7oZVtNnBwbIWOgbv/jqgmOBnYCLxLVHM4yd3zk3j/JqJAdS6wiuj07DYgLYnNNyf60fkW+DdRg8qkCrbzFdH/7jiigFGUvoLowv/1RD92K4hqmfX5OzSB6Ae8WsfX3RcT1aQ/D9fQ25XOUyp/IdE1yp7AcqKzor8RNXDVKbqXWUQkqM+/biIiNUoBUUQkUEAUEQkUEEVEAgVEEZFAAVFEJFBAlCqZ2Tlm5gmvLzKzzSkqy3Nm9kAqtp1KZvZauP1QapECYj0VhmPy8NhmZp9bNIRYZtXv3mXTgQOSzWzRwKTXVp0z9cwsOxzTXlXnjtWPgd+kuhC7O93LXL/NJhpLsDHRcGN/I7rz4PLSGcNN9oVeAz3xw2gkKRuRZE9iZk3CCDHfpLosewLVEOu3fHdf7e4r3P1RoiGvzoLiQTc/Cae3y4gGV8g0sxZmdq9Fg6VuMrM5pWtDZnaBmf3boqH+nyMavTpxeZlTZjM73aJBWbea2Xozezbc7/sa0Wgnk4pqtAnvOS5sP9fMVlo0pUDzhOUZoSa82aKBc5MZBKJoINdXzGyLmX0XnrcLy04zszcsmrvlGzObWep+3eXh7/uhvK8lrPdiiwb8zTOzz8zsVxaN9Ve0/KCwP3kWDbB6eij7RQl5Djez2eE4fRP2r0XC8gfCZYH/tGiY/i9DeolTZjNrYma3mdmX4fi9bwn3v4d7ke80s1Vmlm9mK8zsf5I5fnsyBcTdy1ai2mKRzkRj+g0jGpsun2iQ0/ZE95YeCbwOvGJmbQHMrDfwANF8uz2JBvacUNlGzew0ogFBZwFHAwOBOUSfrx8TfaknEA31VbSdw4GXwvuOCPl6AvcnrHoy0TwrZxONHnQk0UCvlZXlCKIhuZYC/YimKpjO92dDmcAfiManPAH4DnjWwmAbfD9u5WmhrD8O6x1NNE7ljcAhwBiie9CvCMsbAE8C28M2LyIaUab4XuBwOWMmsDlsZyjRPdOJ+wwwAOgRynBSBbs6NeQ7j2jwkAfDfhSNQXh1WP+5QFdgON+PQi4VcXc96uGDKGg9l/D6WKKb5qeH1+OJBkZtk5DnRKIvY3qpdf0L+HV4/igwq9Tyv0UfleLXFwGbE16/BTxWSVlziMYfTEx7CLivVFpPopGCWhONZZgPjExYngVsAB6oZFuPEA27luxxzAQKgf7hdXYoQ69S+b4Azi+V9h9EQ4RBNLr2dqB9wvLjwrouCq9HEwXgZgl5Tgh5uiT8X9cBaaW29Rrwp/D8QKLRejqWyvMU8Ofw/E7gZcJ4BXok99A1xPrttHDq2oioZvg0cFXC8i/dfU3C66OJBqNdZ98PRgvR8P4HhueHENUKE70N/KySchxJ9EWujqOBLmY2PCGtqFAHEg0w2iRsG4imHDCz+VWs90iimlq5LJpnZSLQm2hw3gbh0bGS9+wLdADuMbMpCYsaJZS5G9Gw+oljWr5PyWHGDgE+9mhkmSL/DHm6E9VqAT7xykcAOipsd2Gp/2Ma0WhKEP0/ZgGfmdlLRFM1vODRcHNSAQXE+u11oukHthF9GbeVWr6l1OsGREOS/aCcdW0sJ602NSCqed5RzrKVRPOf1IbniE7hfx62sx1YSBR8K1J0aekyogBWGxIbu0r/30prEPIfQ/S/T7QVwKN5YLKJaq4nEZ1SzzOzkxUUK6aAWL/l+vcjOifjQ6IGkh0ezWtRnkVE18ASlX5d2kdEX7q/VrC8gLJTInxINEp4ueUPDUHbwrY/D2mZRNfLllVRlhMrWGcroprcFe7+akg7ipLfg4Lwt7i87r7GzFYBB7r7QxVsdzHRMPnt/PtJl3pR8jr9IuASM2uWUEs8LuRZRPI+Iqoh7le0H+UJ23gCeMKivpvvEE1i9lk1trVHUaPKnmU20fW+p83sh2bW2cz6mtnNZlZUa7wTGGRmvzGzrqExYWgV672VaL6RW8ysu5kdGlpgiyZrygF+YNFI4EVzy9wGHGvRlKtHmlkXMzvDzO6B4hn57gNuM7OTzexQosaHquaamQQcaVFL+hFmdrBFk7F3JBog9mtgdNjeAKJpYRPneVlLVMs61czaJLQA3wT8OuzXwRaN+HyBmRX1DZxF1GjxYNhuH+D2sO6i2t8jRJcCHgqtzccD9wAzqvPD5u6fhXU9YFGn+QPMrJeZXWtmRY1A15jZCDM7xMy6EDW+bCS0WksFUn0RU4+de1CqUaWc5eOJrkWVTm8G/JHoi1FANPLzY0S1n6I8FxM1ImwlmoP3F1TSqBLSBgMfEDWEfE3Uetw0LOtDNAVlXqn19AJeJPqibgHmAxMSlmcSNb5sJgpUNxCd8j5QxbHpT3Q5YStRI8xsoG1YdiLwSSjLJ0SnlJsJDR8hz6iw/4XAawnpI4hqtnlEwfVN4NyE5QeF7eYTBcczwjEenpDncKLGjq1hHQ8ALar6v5LQqBJeNw7/48/DNlaHY350WD46lHVTOL5zgONS/bmt6w+NmC1SS0IXmH8RtVh/kOrySNUUEEVqiJkNJarpLiHqvnM70bW+I11ftHpBjSoiNacZ0bXRDkSnw68Bv1IwrD9UQxQRCdTKLCISKCCKiAQKiCIigQKiiEiggCgiEiggiogE/w+vCAzfBIJjewAAAABJRU5ErkJggg==\n",
      "text/plain": [
       "<Figure size 360x360 with 1 Axes>"
      ]
     },
     "metadata": {
      "needs_background": "light",
      "tags": []
     },
     "output_type": "display_data"
    }
   ],
   "source": [
    "confusion_matrix = confusion_matrix(y_test, bayes_test_preds)\n",
    "matrix_proportions = np.zeros((3,3))\n",
    "for i in range(0,3):\n",
    "    matrix_proportions[i,:] = confusion_matrix[i,:]/float(confusion_matrix[i,:].sum())\n",
    "names=['Hate','Offensive','Neither']\n",
    "confusion_df = pd.DataFrame(matrix_proportions, index=names,columns=names)\n",
    "plt.figure(figsize=(5,5))\n",
    "sns.heatmap(confusion_df,annot=True,annot_kws={\"size\": 12},cmap='gist_gray_r',cbar=False, square=True,fmt='.2f')\n",
    "plt.ylabel(r'True categories',fontsize=14)\n",
    "plt.xlabel(r'Predicted categories',fontsize=14)\n",
    "plt.tick_params(labelsize=12)"
   ]
  },
  {
   "cell_type": "markdown",
   "metadata": {
    "id": "ifyMMuxNlWM5"
   },
   "source": [
    "### Baseline SVM"
   ]
  },
  {
   "cell_type": "code",
   "execution_count": 53,
   "metadata": {
    "colab": {
     "base_uri": "https://localhost:8080/"
    },
    "id": "5pCeGMmylWM9",
    "outputId": "b30c1fbf-b217-4759-dd93-c17928002c29"
   },
   "outputs": [
    {
     "name": "stdout",
     "output_type": "stream",
     "text": [
      "              precision    recall  f1-score   support\n",
      "\n",
      "           0       0.85      0.92      0.89      2192\n",
      "           1       0.96      0.89      0.92      3844\n",
      "           2       0.77      0.90      0.83       829\n",
      "\n",
      "    accuracy                           0.90      6865\n",
      "   macro avg       0.86      0.90      0.88      6865\n",
      "weighted avg       0.90      0.90      0.90      6865\n",
      "\n"
     ]
    }
   ],
   "source": [
    "SVM_baseline = svm.SVC(C=1.0, kernel='linear', degree=3, gamma='auto', class_weight='balanced')\n",
    "\n",
    "SVM_baseline.fit(tfidf_data_train, y_train)\n",
    "SVM_test_preds = SVM_baseline.predict(tfidf_data_test)\n",
    "\n",
    "SVM_baseline_report = classification_report(y_test, SVM_test_preds)\n",
    "print(SVM_baseline_report)"
   ]
  },
  {
   "cell_type": "code",
   "execution_count": 54,
   "metadata": {
    "colab": {
     "base_uri": "https://localhost:8080/",
     "height": 229
    },
    "id": "1ZaRGooslWM-",
    "outputId": "14f1d8ee-3a96-4f67-d03a-1dd87776ab8d"
   },
   "outputs": [
    {
     "data": {
      "image/png": "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\n",
      "text/plain": [
       "<Figure size 360x360 with 1 Axes>"
      ]
     },
     "metadata": {
      "needs_background": "light"
     },
     "output_type": "display_data"
    }
   ],
   "source": [
    "conf_matrix = confusion_matrix(y_test, SVM_test_preds)\n",
    "matrix_proportions = np.zeros((3,3))\n",
    "for i in range(0,3):\n",
    "    matrix_proportions[i,:] = conf_matrix[i,:]/float(conf_matrix[i,:].sum())\n",
    "names=['Hate','Offensive','Neither']\n",
    "confusion_df = pd.DataFrame(matrix_proportions, index=names,columns=names)\n",
    "plt.figure(figsize=(5,5))\n",
    "sns.heatmap(confusion_df,annot=True,annot_kws={\"size\": 12},cmap='gist_gray_r',cbar=False, square=True,fmt='.2f')\n",
    "plt.ylabel(r'True categories',fontsize=14)\n",
    "plt.xlabel(r'Predicted categories',fontsize=14)\n",
    "plt.tick_params(labelsize=12)"
   ]
  },
  {
   "cell_type": "code",
   "execution_count": 55,
   "metadata": {
    "id": "X2BiK1rplWNA"
   },
   "outputs": [],
   "source": [
    "# Pickling final model for the interactive webapp\n",
    "import pickle\n",
    "pickle_out = open(\"svm_model.pkl\",\"wb\")\n",
    "pickle.dump(SVM_baseline, pickle_out)\n",
    "pickle_out.close()"
   ]
  },
  {
   "cell_type": "code",
   "execution_count": 42,
   "metadata": {
    "id": "fqF6czNblWNA"
   },
   "outputs": [
    {
     "ename": "FileNotFoundError",
     "evalue": "[Errno 2] No such file or directory: '/webapp/pickle/X_train.pkl'",
     "output_type": "error",
     "traceback": [
      "\u001b[1;31m---------------------------------------------------------------------------\u001b[0m",
      "\u001b[1;31mFileNotFoundError\u001b[0m                         Traceback (most recent call last)",
      "\u001b[1;32m<ipython-input-42-db9c31d27ad1>\u001b[0m in \u001b[0;36m<module>\u001b[1;34m\u001b[0m\n\u001b[0;32m      1\u001b[0m \u001b[1;31m## pickling X_train for future use\u001b[0m\u001b[1;33m\u001b[0m\u001b[1;33m\u001b[0m\u001b[1;33m\u001b[0m\u001b[0m\n\u001b[0;32m      2\u001b[0m \u001b[1;32mimport\u001b[0m \u001b[0mpickle\u001b[0m\u001b[1;33m\u001b[0m\u001b[1;33m\u001b[0m\u001b[0m\n\u001b[1;32m----> 3\u001b[1;33m \u001b[0mpickle_out\u001b[0m \u001b[1;33m=\u001b[0m \u001b[0mopen\u001b[0m\u001b[1;33m(\u001b[0m\u001b[1;34m\"/webapp/pickle/X_train.pkl\"\u001b[0m\u001b[1;33m,\u001b[0m\u001b[1;34m\"wb\"\u001b[0m\u001b[1;33m)\u001b[0m\u001b[1;33m\u001b[0m\u001b[1;33m\u001b[0m\u001b[0m\n\u001b[0m\u001b[0;32m      4\u001b[0m \u001b[0mpickle\u001b[0m\u001b[1;33m.\u001b[0m\u001b[0mdump\u001b[0m\u001b[1;33m(\u001b[0m\u001b[0mX_train\u001b[0m\u001b[1;33m,\u001b[0m \u001b[0mpickle_out\u001b[0m\u001b[1;33m)\u001b[0m\u001b[1;33m\u001b[0m\u001b[1;33m\u001b[0m\u001b[0m\n\u001b[0;32m      5\u001b[0m \u001b[0mpickle_out\u001b[0m\u001b[1;33m.\u001b[0m\u001b[0mclose\u001b[0m\u001b[1;33m(\u001b[0m\u001b[1;33m)\u001b[0m\u001b[1;33m\u001b[0m\u001b[1;33m\u001b[0m\u001b[0m\n",
      "\u001b[1;31mFileNotFoundError\u001b[0m: [Errno 2] No such file or directory: '/webapp/pickle/X_train.pkl'"
     ]
    }
   ],
   "source": [
    "## pickling X_train for future use\n",
    "import pickle\n",
    "pickle_out = open(\"X_train.pkl\",\"wb\")\n",
    "pickle.dump(X_train, pickle_out)\n",
    "pickle_out.close()"
   ]
  },
  {
   "cell_type": "code",
   "execution_count": null,
   "metadata": {
    "id": "ejl5zZoSlKtl"
   },
   "outputs": [],
   "source": []
  }
 ],
 "metadata": {
  "colab": {
   "name": "Copy of hate_speech-2_extra_data_gab12.ipynb",
   "provenance": []
  },
  "kernelspec": {
   "display_name": "Python 3",
   "language": "python",
   "name": "python3"
  },
  "language_info": {
   "codemirror_mode": {
    "name": "ipython",
    "version": 3
   },
   "file_extension": ".py",
   "mimetype": "text/x-python",
   "name": "python",
   "nbconvert_exporter": "python",
   "pygments_lexer": "ipython3",
   "version": "3.8.3"
  },
  "toc": {
   "base_numbering": 1,
   "nav_menu": {},
   "number_sections": true,
   "sideBar": true,
   "skip_h1_title": false,
   "title_cell": "Table of Contents",
   "title_sidebar": "Contents",
   "toc_cell": false,
   "toc_position": {},
   "toc_section_display": true,
   "toc_window_display": false
  }
 },
 "nbformat": 4,
 "nbformat_minor": 1
}
